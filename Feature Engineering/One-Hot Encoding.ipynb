{
  "nbformat": 4,
  "nbformat_minor": 0,
  "metadata": {
    "colab": {
      "provenance": []
    },
    "kernelspec": {
      "name": "python3",
      "display_name": "Python 3"
    },
    "language_info": {
      "name": "python"
    }
  },
  "cells": [
    {
      "cell_type": "markdown",
      "source": [
        "### Feature Engineering - One-Hot Encoding"
      ],
      "metadata": {
        "id": "5_W0jJaImHKd"
      }
    },
    {
      "cell_type": "markdown",
      "source": [
        "This notebook requires:\n",
        "* train.json\n",
        "\n",
        "and produces:\n",
        "* trainOneHotEncoded.csv"
      ],
      "metadata": {
        "id": "kLrqvvlynKyq"
      }
    },
    {
      "cell_type": "markdown",
      "source": [
        "For the first feature engineering, we will perform one-hot encoding on the list of ingredients. For example, if 'romaine lettuce' appears in one sample, then under column 'romaince lettuce', the value will be 1. Otherwise, the value will be 0."
      ],
      "metadata": {
        "id": "Ir8_G8D8nPpA"
      }
    },
    {
      "cell_type": "code",
      "execution_count": null,
      "metadata": {
        "id": "5BueiQQKl_EH"
      },
      "outputs": [],
      "source": [
        "import numpy as np \n",
        "import pandas as pd\n",
        "import json "
      ]
    },
    {
      "cell_type": "code",
      "source": [
        "# Load the train dataset\n",
        "with open('train.json') as json_file: \n",
        "    train_data = json.load(json_file)"
      ],
      "metadata": {
        "id": "gOX1c1nmmfvW"
      },
      "execution_count": null,
      "outputs": []
    },
    {
      "cell_type": "code",
      "source": [
        "length = len(train_data)"
      ],
      "metadata": {
        "id": "0gZhUuWCmgtK"
      },
      "execution_count": null,
      "outputs": []
    },
    {
      "cell_type": "code",
      "source": [
        "# List of unique ingredients\n",
        "igdDict = dict()\n",
        "for x in train_data:\n",
        "  for igd in x['ingredients']:\n",
        "    igdDict[igd] = 0"
      ],
      "metadata": {
        "id": "GNh4ipLbmho9"
      },
      "execution_count": null,
      "outputs": []
    },
    {
      "cell_type": "code",
      "source": [
        "# Set all ingredients not present for each sample\n",
        "igdValues = dict()\n",
        "for igd in igdDict:\n",
        "  igdValues[igd] = [0 for i in range(length)]"
      ],
      "metadata": {
        "id": "V4Z1IAmymiju"
      },
      "execution_count": null,
      "outputs": []
    },
    {
      "cell_type": "code",
      "source": [
        "# One hot encoding of ingredients for each sample\n",
        "cuisine = []\n",
        "for i, x in enumerate(train_data):\n",
        "    cuisine.append(x['cuisine'])\n",
        "    for igd in x['ingredients']:\n",
        "        igdValues[igd][i] = 1"
      ],
      "metadata": {
        "id": "dUHvzqM9mjeB"
      },
      "execution_count": null,
      "outputs": []
    },
    {
      "cell_type": "code",
      "source": [
        "# Create a key in the igdValues dictionary called cuisine \n",
        "# The value = list of cuisines in the dataset \n",
        "\n",
        "igdValues[\"cuisine\"] = cuisine"
      ],
      "metadata": {
        "id": "JZ9RsQ9vmknN"
      },
      "execution_count": null,
      "outputs": []
    },
    {
      "cell_type": "code",
      "source": [
        "# Export for model training later\n",
        "pd.DataFrame(igdValues).to_csv('trainOneHotEncoded.csv', index=False)"
      ],
      "metadata": {
        "id": "6sDaX3cgmmA-"
      },
      "execution_count": null,
      "outputs": []
    },
    {
      "cell_type": "code",
      "source": [
        "train_df = pd.read_csv('trainOneHotEncoded.csv')\n",
        "train_df.head()"
      ],
      "metadata": {
        "colab": {
          "base_uri": "https://localhost:8080/",
          "height": 421
        },
        "id": "CrjfjQq_msoa",
        "outputId": "980628fc-05b2-4a2f-8337-700f8e9fc39a"
      },
      "execution_count": null,
      "outputs": [
        {
          "output_type": "execute_result",
          "data": {
            "text/plain": [
              "   romaine lettuce  black olives  grape tomatoes  garlic  pepper  \\\n",
              "0                1             1               1       1       1   \n",
              "1                0             0               0       0       0   \n",
              "2                0             0               0       0       1   \n",
              "3                0             0               0       0       0   \n",
              "4                0             0               0       0       0   \n",
              "\n",
              "   purple onion  seasoning  garbanzo beans  feta cheese crumbles  plain flour  \\\n",
              "0             1          1               1                     1            0   \n",
              "1             0          0               0                     0            1   \n",
              "2             0          0               0                     0            0   \n",
              "3             0          0               0                     0            0   \n",
              "4             0          0               0                     0            0   \n",
              "\n",
              "   ...  Challenge Butter  orange glaze  cholesterol free egg substitute  \\\n",
              "0  ...                 0             0                                0   \n",
              "1  ...                 0             0                                0   \n",
              "2  ...                 0             0                                0   \n",
              "3  ...                 0             0                                0   \n",
              "4  ...                 0             0                                0   \n",
              "\n",
              "   ciabatta loaf  Lipton® Iced Tea Brew Family Size Tea Bags  \\\n",
              "0              0                                           0   \n",
              "1              0                                           0   \n",
              "2              0                                           0   \n",
              "3              0                                           0   \n",
              "4              0                                           0   \n",
              "\n",
              "   Hidden Valley® Greek Yogurt Original Ranch® Dip Mix  lop chong  \\\n",
              "0                                                  0            0   \n",
              "1                                                  0            0   \n",
              "2                                                  0            0   \n",
              "3                                                  0            0   \n",
              "4                                                  0            0   \n",
              "\n",
              "   tomato garlic pasta sauce  crushed cheese crackers      cuisine  \n",
              "0                          0                        0        greek  \n",
              "1                          0                        0  southern_us  \n",
              "2                          0                        0     filipino  \n",
              "3                          0                        0       indian  \n",
              "4                          0                        0       indian  \n",
              "\n",
              "[5 rows x 6715 columns]"
            ],
            "text/html": [
              "\n",
              "  <div id=\"df-3d66f81b-9ac8-4556-9afe-d7df4a9c9e84\">\n",
              "    <div class=\"colab-df-container\">\n",
              "      <div>\n",
              "<style scoped>\n",
              "    .dataframe tbody tr th:only-of-type {\n",
              "        vertical-align: middle;\n",
              "    }\n",
              "\n",
              "    .dataframe tbody tr th {\n",
              "        vertical-align: top;\n",
              "    }\n",
              "\n",
              "    .dataframe thead th {\n",
              "        text-align: right;\n",
              "    }\n",
              "</style>\n",
              "<table border=\"1\" class=\"dataframe\">\n",
              "  <thead>\n",
              "    <tr style=\"text-align: right;\">\n",
              "      <th></th>\n",
              "      <th>romaine lettuce</th>\n",
              "      <th>black olives</th>\n",
              "      <th>grape tomatoes</th>\n",
              "      <th>garlic</th>\n",
              "      <th>pepper</th>\n",
              "      <th>purple onion</th>\n",
              "      <th>seasoning</th>\n",
              "      <th>garbanzo beans</th>\n",
              "      <th>feta cheese crumbles</th>\n",
              "      <th>plain flour</th>\n",
              "      <th>...</th>\n",
              "      <th>Challenge Butter</th>\n",
              "      <th>orange glaze</th>\n",
              "      <th>cholesterol free egg substitute</th>\n",
              "      <th>ciabatta loaf</th>\n",
              "      <th>Lipton® Iced Tea Brew Family Size Tea Bags</th>\n",
              "      <th>Hidden Valley® Greek Yogurt Original Ranch® Dip Mix</th>\n",
              "      <th>lop chong</th>\n",
              "      <th>tomato garlic pasta sauce</th>\n",
              "      <th>crushed cheese crackers</th>\n",
              "      <th>cuisine</th>\n",
              "    </tr>\n",
              "  </thead>\n",
              "  <tbody>\n",
              "    <tr>\n",
              "      <th>0</th>\n",
              "      <td>1</td>\n",
              "      <td>1</td>\n",
              "      <td>1</td>\n",
              "      <td>1</td>\n",
              "      <td>1</td>\n",
              "      <td>1</td>\n",
              "      <td>1</td>\n",
              "      <td>1</td>\n",
              "      <td>1</td>\n",
              "      <td>0</td>\n",
              "      <td>...</td>\n",
              "      <td>0</td>\n",
              "      <td>0</td>\n",
              "      <td>0</td>\n",
              "      <td>0</td>\n",
              "      <td>0</td>\n",
              "      <td>0</td>\n",
              "      <td>0</td>\n",
              "      <td>0</td>\n",
              "      <td>0</td>\n",
              "      <td>greek</td>\n",
              "    </tr>\n",
              "    <tr>\n",
              "      <th>1</th>\n",
              "      <td>0</td>\n",
              "      <td>0</td>\n",
              "      <td>0</td>\n",
              "      <td>0</td>\n",
              "      <td>0</td>\n",
              "      <td>0</td>\n",
              "      <td>0</td>\n",
              "      <td>0</td>\n",
              "      <td>0</td>\n",
              "      <td>1</td>\n",
              "      <td>...</td>\n",
              "      <td>0</td>\n",
              "      <td>0</td>\n",
              "      <td>0</td>\n",
              "      <td>0</td>\n",
              "      <td>0</td>\n",
              "      <td>0</td>\n",
              "      <td>0</td>\n",
              "      <td>0</td>\n",
              "      <td>0</td>\n",
              "      <td>southern_us</td>\n",
              "    </tr>\n",
              "    <tr>\n",
              "      <th>2</th>\n",
              "      <td>0</td>\n",
              "      <td>0</td>\n",
              "      <td>0</td>\n",
              "      <td>0</td>\n",
              "      <td>1</td>\n",
              "      <td>0</td>\n",
              "      <td>0</td>\n",
              "      <td>0</td>\n",
              "      <td>0</td>\n",
              "      <td>0</td>\n",
              "      <td>...</td>\n",
              "      <td>0</td>\n",
              "      <td>0</td>\n",
              "      <td>0</td>\n",
              "      <td>0</td>\n",
              "      <td>0</td>\n",
              "      <td>0</td>\n",
              "      <td>0</td>\n",
              "      <td>0</td>\n",
              "      <td>0</td>\n",
              "      <td>filipino</td>\n",
              "    </tr>\n",
              "    <tr>\n",
              "      <th>3</th>\n",
              "      <td>0</td>\n",
              "      <td>0</td>\n",
              "      <td>0</td>\n",
              "      <td>0</td>\n",
              "      <td>0</td>\n",
              "      <td>0</td>\n",
              "      <td>0</td>\n",
              "      <td>0</td>\n",
              "      <td>0</td>\n",
              "      <td>0</td>\n",
              "      <td>...</td>\n",
              "      <td>0</td>\n",
              "      <td>0</td>\n",
              "      <td>0</td>\n",
              "      <td>0</td>\n",
              "      <td>0</td>\n",
              "      <td>0</td>\n",
              "      <td>0</td>\n",
              "      <td>0</td>\n",
              "      <td>0</td>\n",
              "      <td>indian</td>\n",
              "    </tr>\n",
              "    <tr>\n",
              "      <th>4</th>\n",
              "      <td>0</td>\n",
              "      <td>0</td>\n",
              "      <td>0</td>\n",
              "      <td>0</td>\n",
              "      <td>0</td>\n",
              "      <td>0</td>\n",
              "      <td>0</td>\n",
              "      <td>0</td>\n",
              "      <td>0</td>\n",
              "      <td>0</td>\n",
              "      <td>...</td>\n",
              "      <td>0</td>\n",
              "      <td>0</td>\n",
              "      <td>0</td>\n",
              "      <td>0</td>\n",
              "      <td>0</td>\n",
              "      <td>0</td>\n",
              "      <td>0</td>\n",
              "      <td>0</td>\n",
              "      <td>0</td>\n",
              "      <td>indian</td>\n",
              "    </tr>\n",
              "  </tbody>\n",
              "</table>\n",
              "<p>5 rows × 6715 columns</p>\n",
              "</div>\n",
              "      <button class=\"colab-df-convert\" onclick=\"convertToInteractive('df-3d66f81b-9ac8-4556-9afe-d7df4a9c9e84')\"\n",
              "              title=\"Convert this dataframe to an interactive table.\"\n",
              "              style=\"display:none;\">\n",
              "        \n",
              "  <svg xmlns=\"http://www.w3.org/2000/svg\" height=\"24px\"viewBox=\"0 0 24 24\"\n",
              "       width=\"24px\">\n",
              "    <path d=\"M0 0h24v24H0V0z\" fill=\"none\"/>\n",
              "    <path d=\"M18.56 5.44l.94 2.06.94-2.06 2.06-.94-2.06-.94-.94-2.06-.94 2.06-2.06.94zm-11 1L8.5 8.5l.94-2.06 2.06-.94-2.06-.94L8.5 2.5l-.94 2.06-2.06.94zm10 10l.94 2.06.94-2.06 2.06-.94-2.06-.94-.94-2.06-.94 2.06-2.06.94z\"/><path d=\"M17.41 7.96l-1.37-1.37c-.4-.4-.92-.59-1.43-.59-.52 0-1.04.2-1.43.59L10.3 9.45l-7.72 7.72c-.78.78-.78 2.05 0 2.83L4 21.41c.39.39.9.59 1.41.59.51 0 1.02-.2 1.41-.59l7.78-7.78 2.81-2.81c.8-.78.8-2.07 0-2.86zM5.41 20L4 18.59l7.72-7.72 1.47 1.35L5.41 20z\"/>\n",
              "  </svg>\n",
              "      </button>\n",
              "      \n",
              "  <style>\n",
              "    .colab-df-container {\n",
              "      display:flex;\n",
              "      flex-wrap:wrap;\n",
              "      gap: 12px;\n",
              "    }\n",
              "\n",
              "    .colab-df-convert {\n",
              "      background-color: #E8F0FE;\n",
              "      border: none;\n",
              "      border-radius: 50%;\n",
              "      cursor: pointer;\n",
              "      display: none;\n",
              "      fill: #1967D2;\n",
              "      height: 32px;\n",
              "      padding: 0 0 0 0;\n",
              "      width: 32px;\n",
              "    }\n",
              "\n",
              "    .colab-df-convert:hover {\n",
              "      background-color: #E2EBFA;\n",
              "      box-shadow: 0px 1px 2px rgba(60, 64, 67, 0.3), 0px 1px 3px 1px rgba(60, 64, 67, 0.15);\n",
              "      fill: #174EA6;\n",
              "    }\n",
              "\n",
              "    [theme=dark] .colab-df-convert {\n",
              "      background-color: #3B4455;\n",
              "      fill: #D2E3FC;\n",
              "    }\n",
              "\n",
              "    [theme=dark] .colab-df-convert:hover {\n",
              "      background-color: #434B5C;\n",
              "      box-shadow: 0px 1px 3px 1px rgba(0, 0, 0, 0.15);\n",
              "      filter: drop-shadow(0px 1px 2px rgba(0, 0, 0, 0.3));\n",
              "      fill: #FFFFFF;\n",
              "    }\n",
              "  </style>\n",
              "\n",
              "      <script>\n",
              "        const buttonEl =\n",
              "          document.querySelector('#df-3d66f81b-9ac8-4556-9afe-d7df4a9c9e84 button.colab-df-convert');\n",
              "        buttonEl.style.display =\n",
              "          google.colab.kernel.accessAllowed ? 'block' : 'none';\n",
              "\n",
              "        async function convertToInteractive(key) {\n",
              "          const element = document.querySelector('#df-3d66f81b-9ac8-4556-9afe-d7df4a9c9e84');\n",
              "          const dataTable =\n",
              "            await google.colab.kernel.invokeFunction('convertToInteractive',\n",
              "                                                     [key], {});\n",
              "          if (!dataTable) return;\n",
              "\n",
              "          const docLinkHtml = 'Like what you see? Visit the ' +\n",
              "            '<a target=\"_blank\" href=https://colab.research.google.com/notebooks/data_table.ipynb>data table notebook</a>'\n",
              "            + ' to learn more about interactive tables.';\n",
              "          element.innerHTML = '';\n",
              "          dataTable['output_type'] = 'display_data';\n",
              "          await google.colab.output.renderOutput(dataTable, element);\n",
              "          const docLink = document.createElement('div');\n",
              "          docLink.innerHTML = docLinkHtml;\n",
              "          element.appendChild(docLink);\n",
              "        }\n",
              "      </script>\n",
              "    </div>\n",
              "  </div>\n",
              "  "
            ]
          },
          "metadata": {},
          "execution_count": 12
        }
      ]
    }
  ]
}