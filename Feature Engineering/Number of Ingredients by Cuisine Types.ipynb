{
  "nbformat": 4,
  "nbformat_minor": 0,
  "metadata": {
    "colab": {
      "provenance": []
    },
    "kernelspec": {
      "name": "python3",
      "display_name": "Python 3"
    },
    "language_info": {
      "name": "python"
    }
  },
  "cells": [
    {
      "cell_type": "markdown",
      "source": [
        "## Feature Engineering (Number of Ingredients by Cuisine Types)"
      ],
      "metadata": {
        "id": "nxPH3GRKJbLJ"
      }
    },
    {
      "cell_type": "markdown",
      "source": [
        "This notebook requires:\n",
        "* train.json\n",
        "* cuisineNum.json\n",
        "* ingredientNum.json\n",
        "\n",
        "and produces:\n",
        "* trainEngineered.csv"
      ],
      "metadata": {
        "id": "E771WOpvKjVX"
      }
    },
    {
      "cell_type": "markdown",
      "source": [
        "The concept of this feature engineering:\n",
        "* (1) Loop through the entire dataset to count the number of occurrences for an ingredient in all 20 cuisine types. For example, 'romaine lettuce' appears 39 times in greek cuisines and 33 times in italian cuisines.\n",
        "* (2) From the EDA, we saw the top 20 ingredients appearing in all 20 cuisine types. In this case, an ingredient which appears at least once in all 20 cuisine types can be classified as 'general' ingredient.\n",
        "* (3) For an ingredient which does not appear in all different cuisine types, if the highest occurrence by cuisine type is at least 10, this ingredient will be classified as all cuisine types with at least 10 times appearance. For example, black olives appear in greek (31), italian (67), mexican (92), brazilian (21) cuisines. So, black olives will be classified as greek, italian, mexican, or brazilian ingredient.\n",
        "* (4) For an ingredient which does not appear in at least 10 times in at least one cuisine type, it will be classified as the cuisine type with highest occurrence."
      ],
      "metadata": {
        "id": "BrzczccTMwG-"
      }
    },
    {
      "cell_type": "code",
      "execution_count": 1,
      "metadata": {
        "id": "ZAw3N90sJUEu"
      },
      "outputs": [],
      "source": [
        "import numpy as np \n",
        "import pandas as pd\n",
        "import json"
      ]
    },
    {
      "cell_type": "code",
      "source": [
        "trainDF = pd.read_json('train.json')\n",
        "trainDF.head()"
      ],
      "metadata": {
        "colab": {
          "base_uri": "https://localhost:8080/",
          "height": 206
        },
        "id": "dowaIDHOJWL1",
        "outputId": "85cbf480-7a06-4e62-9808-2c4183d2b093"
      },
      "execution_count": 2,
      "outputs": [
        {
          "output_type": "execute_result",
          "data": {
            "text/plain": [
              "      id      cuisine                                        ingredients\n",
              "0  10259        greek  [romaine lettuce, black olives, grape tomatoes...\n",
              "1  25693  southern_us  [plain flour, ground pepper, salt, tomatoes, g...\n",
              "2  20130     filipino  [eggs, pepper, salt, mayonaise, cooking oil, g...\n",
              "3  22213       indian                [water, vegetable oil, wheat, salt]\n",
              "4  13162       indian  [black pepper, shallots, cornflour, cayenne pe..."
            ],
            "text/html": [
              "\n",
              "  <div id=\"df-f0ff789f-0e90-427d-ae40-104288d8d4e5\">\n",
              "    <div class=\"colab-df-container\">\n",
              "      <div>\n",
              "<style scoped>\n",
              "    .dataframe tbody tr th:only-of-type {\n",
              "        vertical-align: middle;\n",
              "    }\n",
              "\n",
              "    .dataframe tbody tr th {\n",
              "        vertical-align: top;\n",
              "    }\n",
              "\n",
              "    .dataframe thead th {\n",
              "        text-align: right;\n",
              "    }\n",
              "</style>\n",
              "<table border=\"1\" class=\"dataframe\">\n",
              "  <thead>\n",
              "    <tr style=\"text-align: right;\">\n",
              "      <th></th>\n",
              "      <th>id</th>\n",
              "      <th>cuisine</th>\n",
              "      <th>ingredients</th>\n",
              "    </tr>\n",
              "  </thead>\n",
              "  <tbody>\n",
              "    <tr>\n",
              "      <th>0</th>\n",
              "      <td>10259</td>\n",
              "      <td>greek</td>\n",
              "      <td>[romaine lettuce, black olives, grape tomatoes...</td>\n",
              "    </tr>\n",
              "    <tr>\n",
              "      <th>1</th>\n",
              "      <td>25693</td>\n",
              "      <td>southern_us</td>\n",
              "      <td>[plain flour, ground pepper, salt, tomatoes, g...</td>\n",
              "    </tr>\n",
              "    <tr>\n",
              "      <th>2</th>\n",
              "      <td>20130</td>\n",
              "      <td>filipino</td>\n",
              "      <td>[eggs, pepper, salt, mayonaise, cooking oil, g...</td>\n",
              "    </tr>\n",
              "    <tr>\n",
              "      <th>3</th>\n",
              "      <td>22213</td>\n",
              "      <td>indian</td>\n",
              "      <td>[water, vegetable oil, wheat, salt]</td>\n",
              "    </tr>\n",
              "    <tr>\n",
              "      <th>4</th>\n",
              "      <td>13162</td>\n",
              "      <td>indian</td>\n",
              "      <td>[black pepper, shallots, cornflour, cayenne pe...</td>\n",
              "    </tr>\n",
              "  </tbody>\n",
              "</table>\n",
              "</div>\n",
              "      <button class=\"colab-df-convert\" onclick=\"convertToInteractive('df-f0ff789f-0e90-427d-ae40-104288d8d4e5')\"\n",
              "              title=\"Convert this dataframe to an interactive table.\"\n",
              "              style=\"display:none;\">\n",
              "        \n",
              "  <svg xmlns=\"http://www.w3.org/2000/svg\" height=\"24px\"viewBox=\"0 0 24 24\"\n",
              "       width=\"24px\">\n",
              "    <path d=\"M0 0h24v24H0V0z\" fill=\"none\"/>\n",
              "    <path d=\"M18.56 5.44l.94 2.06.94-2.06 2.06-.94-2.06-.94-.94-2.06-.94 2.06-2.06.94zm-11 1L8.5 8.5l.94-2.06 2.06-.94-2.06-.94L8.5 2.5l-.94 2.06-2.06.94zm10 10l.94 2.06.94-2.06 2.06-.94-2.06-.94-.94-2.06-.94 2.06-2.06.94z\"/><path d=\"M17.41 7.96l-1.37-1.37c-.4-.4-.92-.59-1.43-.59-.52 0-1.04.2-1.43.59L10.3 9.45l-7.72 7.72c-.78.78-.78 2.05 0 2.83L4 21.41c.39.39.9.59 1.41.59.51 0 1.02-.2 1.41-.59l7.78-7.78 2.81-2.81c.8-.78.8-2.07 0-2.86zM5.41 20L4 18.59l7.72-7.72 1.47 1.35L5.41 20z\"/>\n",
              "  </svg>\n",
              "      </button>\n",
              "      \n",
              "  <style>\n",
              "    .colab-df-container {\n",
              "      display:flex;\n",
              "      flex-wrap:wrap;\n",
              "      gap: 12px;\n",
              "    }\n",
              "\n",
              "    .colab-df-convert {\n",
              "      background-color: #E8F0FE;\n",
              "      border: none;\n",
              "      border-radius: 50%;\n",
              "      cursor: pointer;\n",
              "      display: none;\n",
              "      fill: #1967D2;\n",
              "      height: 32px;\n",
              "      padding: 0 0 0 0;\n",
              "      width: 32px;\n",
              "    }\n",
              "\n",
              "    .colab-df-convert:hover {\n",
              "      background-color: #E2EBFA;\n",
              "      box-shadow: 0px 1px 2px rgba(60, 64, 67, 0.3), 0px 1px 3px 1px rgba(60, 64, 67, 0.15);\n",
              "      fill: #174EA6;\n",
              "    }\n",
              "\n",
              "    [theme=dark] .colab-df-convert {\n",
              "      background-color: #3B4455;\n",
              "      fill: #D2E3FC;\n",
              "    }\n",
              "\n",
              "    [theme=dark] .colab-df-convert:hover {\n",
              "      background-color: #434B5C;\n",
              "      box-shadow: 0px 1px 3px 1px rgba(0, 0, 0, 0.15);\n",
              "      filter: drop-shadow(0px 1px 2px rgba(0, 0, 0, 0.3));\n",
              "      fill: #FFFFFF;\n",
              "    }\n",
              "  </style>\n",
              "\n",
              "      <script>\n",
              "        const buttonEl =\n",
              "          document.querySelector('#df-f0ff789f-0e90-427d-ae40-104288d8d4e5 button.colab-df-convert');\n",
              "        buttonEl.style.display =\n",
              "          google.colab.kernel.accessAllowed ? 'block' : 'none';\n",
              "\n",
              "        async function convertToInteractive(key) {\n",
              "          const element = document.querySelector('#df-f0ff789f-0e90-427d-ae40-104288d8d4e5');\n",
              "          const dataTable =\n",
              "            await google.colab.kernel.invokeFunction('convertToInteractive',\n",
              "                                                     [key], {});\n",
              "          if (!dataTable) return;\n",
              "\n",
              "          const docLinkHtml = 'Like what you see? Visit the ' +\n",
              "            '<a target=\"_blank\" href=https://colab.research.google.com/notebooks/data_table.ipynb>data table notebook</a>'\n",
              "            + ' to learn more about interactive tables.';\n",
              "          element.innerHTML = '';\n",
              "          dataTable['output_type'] = 'display_data';\n",
              "          await google.colab.output.renderOutput(dataTable, element);\n",
              "          const docLink = document.createElement('div');\n",
              "          docLink.innerHTML = docLinkHtml;\n",
              "          element.appendChild(docLink);\n",
              "        }\n",
              "      </script>\n",
              "    </div>\n",
              "  </div>\n",
              "  "
            ]
          },
          "metadata": {},
          "execution_count": 2
        }
      ]
    },
    {
      "cell_type": "code",
      "source": [
        "# Load the cuisineNum.json\n",
        "with open('cuisineNum.json') as json_file: \n",
        "  cuisineDict = json.load(json_file)"
      ],
      "metadata": {
        "id": "cYD9W7_eJY_2"
      },
      "execution_count": 3,
      "outputs": []
    },
    {
      "cell_type": "code",
      "source": [
        "# Add a general cuisine type\n",
        "cuisineDict['general'] = 20"
      ],
      "metadata": {
        "id": "zMPr-casJZ88"
      },
      "execution_count": 4,
      "outputs": []
    },
    {
      "cell_type": "code",
      "source": [
        "print(cuisineDict)"
      ],
      "metadata": {
        "colab": {
          "base_uri": "https://localhost:8080/"
        },
        "id": "m8KHC0M4JloB",
        "outputId": "aede70db-227b-473c-83c2-a2661da2d3b3"
      },
      "execution_count": 5,
      "outputs": [
        {
          "output_type": "stream",
          "name": "stdout",
          "text": [
            "{'greek': 0, 'southern_us': 1, 'filipino': 2, 'indian': 3, 'jamaican': 4, 'spanish': 5, 'italian': 6, 'mexican': 7, 'chinese': 8, 'british': 9, 'thai': 10, 'vietnamese': 11, 'cajun_creole': 12, 'brazilian': 13, 'french': 14, 'japanese': 15, 'irish': 16, 'korean': 17, 'moroccan': 18, 'russian': 19, 'general': 20}\n"
          ]
        }
      ]
    },
    {
      "cell_type": "code",
      "source": [
        "# Reversed cuisineDict\n",
        "rCuisineDict = dict()\n",
        "for i in cuisineDict:\n",
        "  rCuisineDict[cuisineDict[i]] = i\n",
        "print(rCuisineDict)"
      ],
      "metadata": {
        "colab": {
          "base_uri": "https://localhost:8080/"
        },
        "id": "mxKrbZh_Jm7j",
        "outputId": "dbaf0590-6a31-4bf4-e231-ea92332e0b3f"
      },
      "execution_count": 6,
      "outputs": [
        {
          "output_type": "stream",
          "name": "stdout",
          "text": [
            "{0: 'greek', 1: 'southern_us', 2: 'filipino', 3: 'indian', 4: 'jamaican', 5: 'spanish', 6: 'italian', 7: 'mexican', 8: 'chinese', 9: 'british', 10: 'thai', 11: 'vietnamese', 12: 'cajun_creole', 13: 'brazilian', 14: 'french', 15: 'japanese', 16: 'irish', 17: 'korean', 18: 'moroccan', 19: 'russian', 20: 'general'}\n"
          ]
        }
      ]
    },
    {
      "cell_type": "code",
      "source": [
        "# Load the ingredientNum.json\n",
        "with open('ingredientNum.json') as json_file: \n",
        "  igdNumDict = json.load(json_file)"
      ],
      "metadata": {
        "id": "ziT1eyL-JoCN"
      },
      "execution_count": 7,
      "outputs": []
    },
    {
      "cell_type": "code",
      "source": [
        "# For each ingredient, assign a list of 20 elements (cuisines)\n",
        "igdDict = dict()\n",
        "for igd in igdNumDict:\n",
        "  igdDict[igd] = [0 for i in range(20)]"
      ],
      "metadata": {
        "id": "r1cYxopDJr_8"
      },
      "execution_count": 8,
      "outputs": []
    },
    {
      "cell_type": "markdown",
      "source": [
        "(1) Loop through the entire dataset to count the number of occurrences for an ingredient in all 20 cuisine types. For example, 'romaine lettuce' appears 39 times in greek cuisines and 33 times in italian cuisines."
      ],
      "metadata": {
        "id": "pQG7ElG-iDJV"
      }
    },
    {
      "cell_type": "code",
      "source": [
        "# Main loop to count the number of each ingredient by cuisine type.\n",
        "for i in range(len(trainDF)):\n",
        "  igdList = trainDF['ingredients'].iloc[i]\n",
        "  cuisineType = trainDF['cuisine'].iloc[i]\n",
        "  for j in igdList:\n",
        "    igdDict[j][cuisineDict[cuisineType]] += 1"
      ],
      "metadata": {
        "id": "o28u--fNJtLx"
      },
      "execution_count": 9,
      "outputs": []
    },
    {
      "cell_type": "code",
      "source": [
        "# The dictionary for ingredients with the number by cuisine type\n",
        "# print(igdDict)"
      ],
      "metadata": {
        "id": "BPE6f5i7JuU1"
      },
      "execution_count": 10,
      "outputs": []
    },
    {
      "cell_type": "code",
      "source": [
        "igdCuisine = dict()"
      ],
      "metadata": {
        "id": "TI1kgR5lJuqB"
      },
      "execution_count": 11,
      "outputs": []
    },
    {
      "cell_type": "markdown",
      "source": [
        "* (2) An ingredient which appears at least once in all 20 cuisine types can be classified as 'general' ingredient.\n",
        "* (3) For an ingredient which does not appear in all different cuisine types, if the highest occurrence by cuisine type is at least 10, this ingredient will be classified as all cuisine types with at least 10 times appearance. For example, black olives appear in greek (31), italian (67), mexican (92), brazilian (21) cuisines. So, black olives will be classified as greek, italian, mexican, or brazilian ingredient.\n",
        "* (4) For an ingredient which does not appear in at least 10 times in at least one cuisine type, it will be classified as the cuisine type with highest occurrence."
      ],
      "metadata": {
        "id": "bHnyom9uiLhc"
      }
    },
    {
      "cell_type": "code",
      "source": [
        "# Assign corresponding cuisine types for each ingredient\n",
        "# Core part of feature engineering\n",
        "for igd in igdDict:\n",
        "  max = igdDict[igd][0]\n",
        "  maxIdx = 0\n",
        "  if(max >= 1):\n",
        "    # The number of cuisine types for which an ingredient appears\n",
        "    numDiffType = 1\n",
        "  else:\n",
        "    numDiffType = 0\n",
        "\n",
        "  # Find the cuisine type with highest occurrence for an ingredient\n",
        "  for i in range(1, len(igdDict[igd])):\n",
        "    igdFreq = igdDict[igd][i]\n",
        "    if(igdFreq >= 1):\n",
        "      numDiffType += 1\n",
        "    if(max < igdDict[igd][i]):\n",
        "      max = igdDict[igd][i]\n",
        "      maxIdx = i\n",
        "    \n",
        "  # If an ingredient appears in all 20 cuisine types,\n",
        "  # then it is a general ingredient\n",
        "  if(numDiffType == 20):\n",
        "    igdCuisine[igd] = [cuisineDict['general']]\n",
        "\n",
        "  # If an ingredient does not appear in all different cuisine types,\n",
        "  # find all cuisine types with at least 10 times appearance for that ingredient\n",
        "  # provided the highest occurrence is at least 10\n",
        "  elif(max >= 10):\n",
        "    indexList = [maxIdx] # The first cuisine type has the highest occurrence\n",
        "    for j in range(len(igdDict[igd])):\n",
        "      if(j == maxIdx):\n",
        "        continue\n",
        "      if(igdDict[igd][j] >= 10):\n",
        "        indexList.append(j)\n",
        "    igdCuisine[igd] = indexList\n",
        "\n",
        "  # Otherwise, the ingredient belongs to the cuisine type of highest occurrence\n",
        "  else:\n",
        "    igdCuisine[igd] = [maxIdx]"
      ],
      "metadata": {
        "id": "3pZd8VWdJvsL"
      },
      "execution_count": 12,
      "outputs": []
    },
    {
      "cell_type": "code",
      "source": [
        "# The dictionary for ingredients with the highest number by cuisuine type\n",
        "# print(igdCuisine)"
      ],
      "metadata": {
        "id": "eVYqJOU4Jw9w"
      },
      "execution_count": 13,
      "outputs": []
    },
    {
      "cell_type": "code",
      "source": [
        "# The dictionary for ingredients with its associated cuisine type\n",
        "igdCuisineType = dict()\n",
        "for i in igdCuisine:\n",
        "  csnList = []\n",
        "  for j in igdCuisine[i]:\n",
        "    csnList.append(rCuisineDict[j])\n",
        "  igdCuisineType[i] = csnList\n",
        "# print(igdCuisineType)"
      ],
      "metadata": {
        "id": "XrAsTryrJyWc"
      },
      "execution_count": 14,
      "outputs": []
    },
    {
      "cell_type": "markdown",
      "source": [
        "### Integrating into the Dataset"
      ],
      "metadata": {
        "id": "5AAymh3DKCOm"
      }
    },
    {
      "cell_type": "code",
      "source": [
        "# The dictionary to be converted into dataframe\n",
        "finalDict = {i:[] for i in cuisineDict}\n",
        "finalDict['cuisine'] = []\n",
        "print(finalDict)"
      ],
      "metadata": {
        "colab": {
          "base_uri": "https://localhost:8080/"
        },
        "id": "NoalwGAMJ-gJ",
        "outputId": "3c42c802-607b-4b00-a3d9-6c17b8d6e198"
      },
      "execution_count": 15,
      "outputs": [
        {
          "output_type": "stream",
          "name": "stdout",
          "text": [
            "{'greek': [], 'southern_us': [], 'filipino': [], 'indian': [], 'jamaican': [], 'spanish': [], 'italian': [], 'mexican': [], 'chinese': [], 'british': [], 'thai': [], 'vietnamese': [], 'cajun_creole': [], 'brazilian': [], 'french': [], 'japanese': [], 'irish': [], 'korean': [], 'moroccan': [], 'russian': [], 'general': [], 'cuisine': []}\n"
          ]
        }
      ]
    },
    {
      "cell_type": "code",
      "source": [
        "for i in range(len(trainDF)):\n",
        "  igdList = trainDF['ingredients'].iloc[i]\n",
        "\n",
        "  # Loop through the finalDict to set each ingredient to 0 for a sample\n",
        "  for igd in finalDict:\n",
        "    finalDict[igd].append(0)\n",
        "\n",
        "  # Count the number of ingredients by type\n",
        "  for igd in igdList:\n",
        "    for index, csnType in enumerate(igdCuisineType[igd]):\n",
        "      if(index == 0):\n",
        "        finalDict[csnType][i] += 2\n",
        "      else:\n",
        "        finalDict[csnType][i] += 1\n",
        "\n",
        "  finalDict['cuisine'][i] = trainDF['cuisine'].iloc[i]"
      ],
      "metadata": {
        "id": "iOPhmhshJ_mf"
      },
      "execution_count": 16,
      "outputs": []
    },
    {
      "cell_type": "code",
      "source": [
        "pd.DataFrame(finalDict).to_csv('trainEngineered.csv', index=False)"
      ],
      "metadata": {
        "id": "8NmwDGnOKG9f"
      },
      "execution_count": 17,
      "outputs": []
    },
    {
      "cell_type": "code",
      "source": [
        "finalDF = pd.read_csv('trainEngineered.csv')\n",
        "finalDF"
      ],
      "metadata": {
        "colab": {
          "base_uri": "https://localhost:8080/",
          "height": 488
        },
        "id": "LYq4JwxRTh2X",
        "outputId": "8751e3e9-f949-45a9-dbf1-92668fad698d"
      },
      "execution_count": 18,
      "outputs": [
        {
          "output_type": "execute_result",
          "data": {
            "text/plain": [
              "       greek  southern_us  filipino  indian  jamaican  spanish  italian  \\\n",
              "0          6            1         0       2         0        0        6   \n",
              "1          0            5         0       1         3        0        2   \n",
              "2          0            0         1       2         0        0        1   \n",
              "3          0            0         0       0         0        0        2   \n",
              "4          1            3         0      14         2        2        3   \n",
              "...      ...          ...       ...     ...       ...      ...      ...   \n",
              "39769      0            3         0       3         1        0        4   \n",
              "39770      0            1         0       1         1        1       10   \n",
              "39771      1            3         1       3         2        2        2   \n",
              "39772      2            7         2       7         3        1        6   \n",
              "39773      2            3         1       3         0        2        5   \n",
              "\n",
              "       mexican  chinese  british  ...  cajun_creole  brazilian  french  \\\n",
              "0            7        1        0  ...             1          0       3   \n",
              "1            1        1        2  ...             2          0       1   \n",
              "2            3        1        0  ...             1          0       2   \n",
              "3            0        0        0  ...             0          0       0   \n",
              "4            5        5        1  ...             3          1       1   \n",
              "...        ...      ...      ...  ...           ...        ...     ...   \n",
              "39769        1        1        2  ...             1          0       2   \n",
              "39770        2        3        0  ...             1          0       0   \n",
              "39771        1        0        4  ...             3          0       4   \n",
              "39772        7       18        2  ...             3          1       2   \n",
              "39773        7        1        0  ...             1          1       1   \n",
              "\n",
              "       japanese  irish  korean  moroccan  russian  general      cuisine  \n",
              "0             0      0       0         1        0        8        greek  \n",
              "1             1      1       0         0        0       14  southern_us  \n",
              "2             1      0       1         0        0       18     filipino  \n",
              "3             0      0       0         0        0        6       indian  \n",
              "4             6      0       1         3        0       22       indian  \n",
              "...         ...    ...     ...       ...      ...      ...          ...  \n",
              "39769         1      4       1         0        0       16        irish  \n",
              "39770         0      0       1         0        0        2      italian  \n",
              "39771         0      2       0         2        1       14        irish  \n",
              "39772         7      2       4         2        1       16      chinese  \n",
              "39773         1      0       0         1        0       16      mexican  \n",
              "\n",
              "[39774 rows x 22 columns]"
            ],
            "text/html": [
              "\n",
              "  <div id=\"df-386a58ff-e5c8-447e-aa74-f163fc87d998\">\n",
              "    <div class=\"colab-df-container\">\n",
              "      <div>\n",
              "<style scoped>\n",
              "    .dataframe tbody tr th:only-of-type {\n",
              "        vertical-align: middle;\n",
              "    }\n",
              "\n",
              "    .dataframe tbody tr th {\n",
              "        vertical-align: top;\n",
              "    }\n",
              "\n",
              "    .dataframe thead th {\n",
              "        text-align: right;\n",
              "    }\n",
              "</style>\n",
              "<table border=\"1\" class=\"dataframe\">\n",
              "  <thead>\n",
              "    <tr style=\"text-align: right;\">\n",
              "      <th></th>\n",
              "      <th>greek</th>\n",
              "      <th>southern_us</th>\n",
              "      <th>filipino</th>\n",
              "      <th>indian</th>\n",
              "      <th>jamaican</th>\n",
              "      <th>spanish</th>\n",
              "      <th>italian</th>\n",
              "      <th>mexican</th>\n",
              "      <th>chinese</th>\n",
              "      <th>british</th>\n",
              "      <th>...</th>\n",
              "      <th>cajun_creole</th>\n",
              "      <th>brazilian</th>\n",
              "      <th>french</th>\n",
              "      <th>japanese</th>\n",
              "      <th>irish</th>\n",
              "      <th>korean</th>\n",
              "      <th>moroccan</th>\n",
              "      <th>russian</th>\n",
              "      <th>general</th>\n",
              "      <th>cuisine</th>\n",
              "    </tr>\n",
              "  </thead>\n",
              "  <tbody>\n",
              "    <tr>\n",
              "      <th>0</th>\n",
              "      <td>6</td>\n",
              "      <td>1</td>\n",
              "      <td>0</td>\n",
              "      <td>2</td>\n",
              "      <td>0</td>\n",
              "      <td>0</td>\n",
              "      <td>6</td>\n",
              "      <td>7</td>\n",
              "      <td>1</td>\n",
              "      <td>0</td>\n",
              "      <td>...</td>\n",
              "      <td>1</td>\n",
              "      <td>0</td>\n",
              "      <td>3</td>\n",
              "      <td>0</td>\n",
              "      <td>0</td>\n",
              "      <td>0</td>\n",
              "      <td>1</td>\n",
              "      <td>0</td>\n",
              "      <td>8</td>\n",
              "      <td>greek</td>\n",
              "    </tr>\n",
              "    <tr>\n",
              "      <th>1</th>\n",
              "      <td>0</td>\n",
              "      <td>5</td>\n",
              "      <td>0</td>\n",
              "      <td>1</td>\n",
              "      <td>3</td>\n",
              "      <td>0</td>\n",
              "      <td>2</td>\n",
              "      <td>1</td>\n",
              "      <td>1</td>\n",
              "      <td>2</td>\n",
              "      <td>...</td>\n",
              "      <td>2</td>\n",
              "      <td>0</td>\n",
              "      <td>1</td>\n",
              "      <td>1</td>\n",
              "      <td>1</td>\n",
              "      <td>0</td>\n",
              "      <td>0</td>\n",
              "      <td>0</td>\n",
              "      <td>14</td>\n",
              "      <td>southern_us</td>\n",
              "    </tr>\n",
              "    <tr>\n",
              "      <th>2</th>\n",
              "      <td>0</td>\n",
              "      <td>0</td>\n",
              "      <td>1</td>\n",
              "      <td>2</td>\n",
              "      <td>0</td>\n",
              "      <td>0</td>\n",
              "      <td>1</td>\n",
              "      <td>3</td>\n",
              "      <td>1</td>\n",
              "      <td>0</td>\n",
              "      <td>...</td>\n",
              "      <td>1</td>\n",
              "      <td>0</td>\n",
              "      <td>2</td>\n",
              "      <td>1</td>\n",
              "      <td>0</td>\n",
              "      <td>1</td>\n",
              "      <td>0</td>\n",
              "      <td>0</td>\n",
              "      <td>18</td>\n",
              "      <td>filipino</td>\n",
              "    </tr>\n",
              "    <tr>\n",
              "      <th>3</th>\n",
              "      <td>0</td>\n",
              "      <td>0</td>\n",
              "      <td>0</td>\n",
              "      <td>0</td>\n",
              "      <td>0</td>\n",
              "      <td>0</td>\n",
              "      <td>2</td>\n",
              "      <td>0</td>\n",
              "      <td>0</td>\n",
              "      <td>0</td>\n",
              "      <td>...</td>\n",
              "      <td>0</td>\n",
              "      <td>0</td>\n",
              "      <td>0</td>\n",
              "      <td>0</td>\n",
              "      <td>0</td>\n",
              "      <td>0</td>\n",
              "      <td>0</td>\n",
              "      <td>0</td>\n",
              "      <td>6</td>\n",
              "      <td>indian</td>\n",
              "    </tr>\n",
              "    <tr>\n",
              "      <th>4</th>\n",
              "      <td>1</td>\n",
              "      <td>3</td>\n",
              "      <td>0</td>\n",
              "      <td>14</td>\n",
              "      <td>2</td>\n",
              "      <td>2</td>\n",
              "      <td>3</td>\n",
              "      <td>5</td>\n",
              "      <td>5</td>\n",
              "      <td>1</td>\n",
              "      <td>...</td>\n",
              "      <td>3</td>\n",
              "      <td>1</td>\n",
              "      <td>1</td>\n",
              "      <td>6</td>\n",
              "      <td>0</td>\n",
              "      <td>1</td>\n",
              "      <td>3</td>\n",
              "      <td>0</td>\n",
              "      <td>22</td>\n",
              "      <td>indian</td>\n",
              "    </tr>\n",
              "    <tr>\n",
              "      <th>...</th>\n",
              "      <td>...</td>\n",
              "      <td>...</td>\n",
              "      <td>...</td>\n",
              "      <td>...</td>\n",
              "      <td>...</td>\n",
              "      <td>...</td>\n",
              "      <td>...</td>\n",
              "      <td>...</td>\n",
              "      <td>...</td>\n",
              "      <td>...</td>\n",
              "      <td>...</td>\n",
              "      <td>...</td>\n",
              "      <td>...</td>\n",
              "      <td>...</td>\n",
              "      <td>...</td>\n",
              "      <td>...</td>\n",
              "      <td>...</td>\n",
              "      <td>...</td>\n",
              "      <td>...</td>\n",
              "      <td>...</td>\n",
              "      <td>...</td>\n",
              "    </tr>\n",
              "    <tr>\n",
              "      <th>39769</th>\n",
              "      <td>0</td>\n",
              "      <td>3</td>\n",
              "      <td>0</td>\n",
              "      <td>3</td>\n",
              "      <td>1</td>\n",
              "      <td>0</td>\n",
              "      <td>4</td>\n",
              "      <td>1</td>\n",
              "      <td>1</td>\n",
              "      <td>2</td>\n",
              "      <td>...</td>\n",
              "      <td>1</td>\n",
              "      <td>0</td>\n",
              "      <td>2</td>\n",
              "      <td>1</td>\n",
              "      <td>4</td>\n",
              "      <td>1</td>\n",
              "      <td>0</td>\n",
              "      <td>0</td>\n",
              "      <td>16</td>\n",
              "      <td>irish</td>\n",
              "    </tr>\n",
              "    <tr>\n",
              "      <th>39770</th>\n",
              "      <td>0</td>\n",
              "      <td>1</td>\n",
              "      <td>0</td>\n",
              "      <td>1</td>\n",
              "      <td>1</td>\n",
              "      <td>1</td>\n",
              "      <td>10</td>\n",
              "      <td>2</td>\n",
              "      <td>3</td>\n",
              "      <td>0</td>\n",
              "      <td>...</td>\n",
              "      <td>1</td>\n",
              "      <td>0</td>\n",
              "      <td>0</td>\n",
              "      <td>0</td>\n",
              "      <td>0</td>\n",
              "      <td>1</td>\n",
              "      <td>0</td>\n",
              "      <td>0</td>\n",
              "      <td>2</td>\n",
              "      <td>italian</td>\n",
              "    </tr>\n",
              "    <tr>\n",
              "      <th>39771</th>\n",
              "      <td>1</td>\n",
              "      <td>3</td>\n",
              "      <td>1</td>\n",
              "      <td>3</td>\n",
              "      <td>2</td>\n",
              "      <td>2</td>\n",
              "      <td>2</td>\n",
              "      <td>1</td>\n",
              "      <td>0</td>\n",
              "      <td>4</td>\n",
              "      <td>...</td>\n",
              "      <td>3</td>\n",
              "      <td>0</td>\n",
              "      <td>4</td>\n",
              "      <td>0</td>\n",
              "      <td>2</td>\n",
              "      <td>0</td>\n",
              "      <td>2</td>\n",
              "      <td>1</td>\n",
              "      <td>14</td>\n",
              "      <td>irish</td>\n",
              "    </tr>\n",
              "    <tr>\n",
              "      <th>39772</th>\n",
              "      <td>2</td>\n",
              "      <td>7</td>\n",
              "      <td>2</td>\n",
              "      <td>7</td>\n",
              "      <td>3</td>\n",
              "      <td>1</td>\n",
              "      <td>6</td>\n",
              "      <td>7</td>\n",
              "      <td>18</td>\n",
              "      <td>2</td>\n",
              "      <td>...</td>\n",
              "      <td>3</td>\n",
              "      <td>1</td>\n",
              "      <td>2</td>\n",
              "      <td>7</td>\n",
              "      <td>2</td>\n",
              "      <td>4</td>\n",
              "      <td>2</td>\n",
              "      <td>1</td>\n",
              "      <td>16</td>\n",
              "      <td>chinese</td>\n",
              "    </tr>\n",
              "    <tr>\n",
              "      <th>39773</th>\n",
              "      <td>2</td>\n",
              "      <td>3</td>\n",
              "      <td>1</td>\n",
              "      <td>3</td>\n",
              "      <td>0</td>\n",
              "      <td>2</td>\n",
              "      <td>5</td>\n",
              "      <td>7</td>\n",
              "      <td>1</td>\n",
              "      <td>0</td>\n",
              "      <td>...</td>\n",
              "      <td>1</td>\n",
              "      <td>1</td>\n",
              "      <td>1</td>\n",
              "      <td>1</td>\n",
              "      <td>0</td>\n",
              "      <td>0</td>\n",
              "      <td>1</td>\n",
              "      <td>0</td>\n",
              "      <td>16</td>\n",
              "      <td>mexican</td>\n",
              "    </tr>\n",
              "  </tbody>\n",
              "</table>\n",
              "<p>39774 rows × 22 columns</p>\n",
              "</div>\n",
              "      <button class=\"colab-df-convert\" onclick=\"convertToInteractive('df-386a58ff-e5c8-447e-aa74-f163fc87d998')\"\n",
              "              title=\"Convert this dataframe to an interactive table.\"\n",
              "              style=\"display:none;\">\n",
              "        \n",
              "  <svg xmlns=\"http://www.w3.org/2000/svg\" height=\"24px\"viewBox=\"0 0 24 24\"\n",
              "       width=\"24px\">\n",
              "    <path d=\"M0 0h24v24H0V0z\" fill=\"none\"/>\n",
              "    <path d=\"M18.56 5.44l.94 2.06.94-2.06 2.06-.94-2.06-.94-.94-2.06-.94 2.06-2.06.94zm-11 1L8.5 8.5l.94-2.06 2.06-.94-2.06-.94L8.5 2.5l-.94 2.06-2.06.94zm10 10l.94 2.06.94-2.06 2.06-.94-2.06-.94-.94-2.06-.94 2.06-2.06.94z\"/><path d=\"M17.41 7.96l-1.37-1.37c-.4-.4-.92-.59-1.43-.59-.52 0-1.04.2-1.43.59L10.3 9.45l-7.72 7.72c-.78.78-.78 2.05 0 2.83L4 21.41c.39.39.9.59 1.41.59.51 0 1.02-.2 1.41-.59l7.78-7.78 2.81-2.81c.8-.78.8-2.07 0-2.86zM5.41 20L4 18.59l7.72-7.72 1.47 1.35L5.41 20z\"/>\n",
              "  </svg>\n",
              "      </button>\n",
              "      \n",
              "  <style>\n",
              "    .colab-df-container {\n",
              "      display:flex;\n",
              "      flex-wrap:wrap;\n",
              "      gap: 12px;\n",
              "    }\n",
              "\n",
              "    .colab-df-convert {\n",
              "      background-color: #E8F0FE;\n",
              "      border: none;\n",
              "      border-radius: 50%;\n",
              "      cursor: pointer;\n",
              "      display: none;\n",
              "      fill: #1967D2;\n",
              "      height: 32px;\n",
              "      padding: 0 0 0 0;\n",
              "      width: 32px;\n",
              "    }\n",
              "\n",
              "    .colab-df-convert:hover {\n",
              "      background-color: #E2EBFA;\n",
              "      box-shadow: 0px 1px 2px rgba(60, 64, 67, 0.3), 0px 1px 3px 1px rgba(60, 64, 67, 0.15);\n",
              "      fill: #174EA6;\n",
              "    }\n",
              "\n",
              "    [theme=dark] .colab-df-convert {\n",
              "      background-color: #3B4455;\n",
              "      fill: #D2E3FC;\n",
              "    }\n",
              "\n",
              "    [theme=dark] .colab-df-convert:hover {\n",
              "      background-color: #434B5C;\n",
              "      box-shadow: 0px 1px 3px 1px rgba(0, 0, 0, 0.15);\n",
              "      filter: drop-shadow(0px 1px 2px rgba(0, 0, 0, 0.3));\n",
              "      fill: #FFFFFF;\n",
              "    }\n",
              "  </style>\n",
              "\n",
              "      <script>\n",
              "        const buttonEl =\n",
              "          document.querySelector('#df-386a58ff-e5c8-447e-aa74-f163fc87d998 button.colab-df-convert');\n",
              "        buttonEl.style.display =\n",
              "          google.colab.kernel.accessAllowed ? 'block' : 'none';\n",
              "\n",
              "        async function convertToInteractive(key) {\n",
              "          const element = document.querySelector('#df-386a58ff-e5c8-447e-aa74-f163fc87d998');\n",
              "          const dataTable =\n",
              "            await google.colab.kernel.invokeFunction('convertToInteractive',\n",
              "                                                     [key], {});\n",
              "          if (!dataTable) return;\n",
              "\n",
              "          const docLinkHtml = 'Like what you see? Visit the ' +\n",
              "            '<a target=\"_blank\" href=https://colab.research.google.com/notebooks/data_table.ipynb>data table notebook</a>'\n",
              "            + ' to learn more about interactive tables.';\n",
              "          element.innerHTML = '';\n",
              "          dataTable['output_type'] = 'display_data';\n",
              "          await google.colab.output.renderOutput(dataTable, element);\n",
              "          const docLink = document.createElement('div');\n",
              "          docLink.innerHTML = docLinkHtml;\n",
              "          element.appendChild(docLink);\n",
              "        }\n",
              "      </script>\n",
              "    </div>\n",
              "  </div>\n",
              "  "
            ]
          },
          "metadata": {},
          "execution_count": 18
        }
      ]
    },
    {
      "cell_type": "markdown",
      "source": [
        "Now, we can use this engineered dataset for the training of new models. Notice that we have significantly reduced the number of features in the dataset from 6714 columns for one-hot encoding to just 21 columns by transforming the data. Such dimentionality reduction can speed up the training time."
      ],
      "metadata": {
        "id": "6Dw0RWWzQLgH"
      }
    }
  ]
}