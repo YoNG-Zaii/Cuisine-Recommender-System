{
  "cells": [
    {
      "cell_type": "markdown",
      "metadata": {
        "id": "1sFS_01EkKa8"
      },
      "source": [
        "## Random Forest Classifier (One-hot Encoding)"
      ]
    },
    {
      "cell_type": "markdown",
      "metadata": {
        "id": "FAibf4-RtAF_"
      },
      "source": [
        "This notebook requires:\n",
        "* trainOneHotEncoded.csv"
      ]
    },
    {
      "cell_type": "markdown",
      "metadata": {
        "id": "IIp60Bnjpv4j"
      },
      "source": [
        "For the first model, we will use ensemble models - random forest classfier."
      ]
    },
    {
      "cell_type": "code",
      "execution_count": null,
      "metadata": {
        "id": "PwUQSr1_gU25"
      },
      "outputs": [],
      "source": [
        "import numpy as np \n",
        "import pandas as pd\n",
        "import matplotlib.pyplot as plt \n",
        "import json\n",
        "from sklearn.model_selection import train_test_split, cross_val_score\n",
        "from sklearn.ensemble import RandomForestClassifier\n",
        "from sklearn.metrics import classification_report"
      ]
    },
    {
      "cell_type": "markdown",
      "metadata": {
        "id": "Y2wiDzLTwxMZ"
      },
      "source": [
        "### Import the Dataset"
      ]
    },
    {
      "cell_type": "code",
      "execution_count": null,
      "metadata": {
        "colab": {
          "base_uri": "https://localhost:8080/",
          "height": 421
        },
        "id": "QSKEYxacjvBt",
        "outputId": "c5f84a1b-1ed5-48bc-dfef-26c521e0cee2"
      },
      "outputs": [
        {
          "data": {
            "text/html": [
              "\n",
              "  <div id=\"df-6267907c-6d65-42db-91a7-76e66cc82d0e\">\n",
              "    <div class=\"colab-df-container\">\n",
              "      <div>\n",
              "<style scoped>\n",
              "    .dataframe tbody tr th:only-of-type {\n",
              "        vertical-align: middle;\n",
              "    }\n",
              "\n",
              "    .dataframe tbody tr th {\n",
              "        vertical-align: top;\n",
              "    }\n",
              "\n",
              "    .dataframe thead th {\n",
              "        text-align: right;\n",
              "    }\n",
              "</style>\n",
              "<table border=\"1\" class=\"dataframe\">\n",
              "  <thead>\n",
              "    <tr style=\"text-align: right;\">\n",
              "      <th></th>\n",
              "      <th>romaine lettuce</th>\n",
              "      <th>black olives</th>\n",
              "      <th>grape tomatoes</th>\n",
              "      <th>garlic</th>\n",
              "      <th>pepper</th>\n",
              "      <th>purple onion</th>\n",
              "      <th>seasoning</th>\n",
              "      <th>garbanzo beans</th>\n",
              "      <th>feta cheese crumbles</th>\n",
              "      <th>plain flour</th>\n",
              "      <th>...</th>\n",
              "      <th>Challenge Butter</th>\n",
              "      <th>orange glaze</th>\n",
              "      <th>cholesterol free egg substitute</th>\n",
              "      <th>ciabatta loaf</th>\n",
              "      <th>Lipton® Iced Tea Brew Family Size Tea Bags</th>\n",
              "      <th>Hidden Valley® Greek Yogurt Original Ranch® Dip Mix</th>\n",
              "      <th>lop chong</th>\n",
              "      <th>tomato garlic pasta sauce</th>\n",
              "      <th>crushed cheese crackers</th>\n",
              "      <th>cuisine</th>\n",
              "    </tr>\n",
              "  </thead>\n",
              "  <tbody>\n",
              "    <tr>\n",
              "      <th>0</th>\n",
              "      <td>1</td>\n",
              "      <td>1</td>\n",
              "      <td>1</td>\n",
              "      <td>1</td>\n",
              "      <td>1</td>\n",
              "      <td>1</td>\n",
              "      <td>1</td>\n",
              "      <td>1</td>\n",
              "      <td>1</td>\n",
              "      <td>0</td>\n",
              "      <td>...</td>\n",
              "      <td>0</td>\n",
              "      <td>0</td>\n",
              "      <td>0</td>\n",
              "      <td>0</td>\n",
              "      <td>0</td>\n",
              "      <td>0</td>\n",
              "      <td>0</td>\n",
              "      <td>0</td>\n",
              "      <td>0</td>\n",
              "      <td>greek</td>\n",
              "    </tr>\n",
              "    <tr>\n",
              "      <th>1</th>\n",
              "      <td>0</td>\n",
              "      <td>0</td>\n",
              "      <td>0</td>\n",
              "      <td>0</td>\n",
              "      <td>0</td>\n",
              "      <td>0</td>\n",
              "      <td>0</td>\n",
              "      <td>0</td>\n",
              "      <td>0</td>\n",
              "      <td>1</td>\n",
              "      <td>...</td>\n",
              "      <td>0</td>\n",
              "      <td>0</td>\n",
              "      <td>0</td>\n",
              "      <td>0</td>\n",
              "      <td>0</td>\n",
              "      <td>0</td>\n",
              "      <td>0</td>\n",
              "      <td>0</td>\n",
              "      <td>0</td>\n",
              "      <td>southern_us</td>\n",
              "    </tr>\n",
              "    <tr>\n",
              "      <th>2</th>\n",
              "      <td>0</td>\n",
              "      <td>0</td>\n",
              "      <td>0</td>\n",
              "      <td>0</td>\n",
              "      <td>1</td>\n",
              "      <td>0</td>\n",
              "      <td>0</td>\n",
              "      <td>0</td>\n",
              "      <td>0</td>\n",
              "      <td>0</td>\n",
              "      <td>...</td>\n",
              "      <td>0</td>\n",
              "      <td>0</td>\n",
              "      <td>0</td>\n",
              "      <td>0</td>\n",
              "      <td>0</td>\n",
              "      <td>0</td>\n",
              "      <td>0</td>\n",
              "      <td>0</td>\n",
              "      <td>0</td>\n",
              "      <td>filipino</td>\n",
              "    </tr>\n",
              "    <tr>\n",
              "      <th>3</th>\n",
              "      <td>0</td>\n",
              "      <td>0</td>\n",
              "      <td>0</td>\n",
              "      <td>0</td>\n",
              "      <td>0</td>\n",
              "      <td>0</td>\n",
              "      <td>0</td>\n",
              "      <td>0</td>\n",
              "      <td>0</td>\n",
              "      <td>0</td>\n",
              "      <td>...</td>\n",
              "      <td>0</td>\n",
              "      <td>0</td>\n",
              "      <td>0</td>\n",
              "      <td>0</td>\n",
              "      <td>0</td>\n",
              "      <td>0</td>\n",
              "      <td>0</td>\n",
              "      <td>0</td>\n",
              "      <td>0</td>\n",
              "      <td>indian</td>\n",
              "    </tr>\n",
              "    <tr>\n",
              "      <th>4</th>\n",
              "      <td>0</td>\n",
              "      <td>0</td>\n",
              "      <td>0</td>\n",
              "      <td>0</td>\n",
              "      <td>0</td>\n",
              "      <td>0</td>\n",
              "      <td>0</td>\n",
              "      <td>0</td>\n",
              "      <td>0</td>\n",
              "      <td>0</td>\n",
              "      <td>...</td>\n",
              "      <td>0</td>\n",
              "      <td>0</td>\n",
              "      <td>0</td>\n",
              "      <td>0</td>\n",
              "      <td>0</td>\n",
              "      <td>0</td>\n",
              "      <td>0</td>\n",
              "      <td>0</td>\n",
              "      <td>0</td>\n",
              "      <td>indian</td>\n",
              "    </tr>\n",
              "  </tbody>\n",
              "</table>\n",
              "<p>5 rows × 6715 columns</p>\n",
              "</div>\n",
              "      <button class=\"colab-df-convert\" onclick=\"convertToInteractive('df-6267907c-6d65-42db-91a7-76e66cc82d0e')\"\n",
              "              title=\"Convert this dataframe to an interactive table.\"\n",
              "              style=\"display:none;\">\n",
              "        \n",
              "  <svg xmlns=\"http://www.w3.org/2000/svg\" height=\"24px\"viewBox=\"0 0 24 24\"\n",
              "       width=\"24px\">\n",
              "    <path d=\"M0 0h24v24H0V0z\" fill=\"none\"/>\n",
              "    <path d=\"M18.56 5.44l.94 2.06.94-2.06 2.06-.94-2.06-.94-.94-2.06-.94 2.06-2.06.94zm-11 1L8.5 8.5l.94-2.06 2.06-.94-2.06-.94L8.5 2.5l-.94 2.06-2.06.94zm10 10l.94 2.06.94-2.06 2.06-.94-2.06-.94-.94-2.06-.94 2.06-2.06.94z\"/><path d=\"M17.41 7.96l-1.37-1.37c-.4-.4-.92-.59-1.43-.59-.52 0-1.04.2-1.43.59L10.3 9.45l-7.72 7.72c-.78.78-.78 2.05 0 2.83L4 21.41c.39.39.9.59 1.41.59.51 0 1.02-.2 1.41-.59l7.78-7.78 2.81-2.81c.8-.78.8-2.07 0-2.86zM5.41 20L4 18.59l7.72-7.72 1.47 1.35L5.41 20z\"/>\n",
              "  </svg>\n",
              "      </button>\n",
              "      \n",
              "  <style>\n",
              "    .colab-df-container {\n",
              "      display:flex;\n",
              "      flex-wrap:wrap;\n",
              "      gap: 12px;\n",
              "    }\n",
              "\n",
              "    .colab-df-convert {\n",
              "      background-color: #E8F0FE;\n",
              "      border: none;\n",
              "      border-radius: 50%;\n",
              "      cursor: pointer;\n",
              "      display: none;\n",
              "      fill: #1967D2;\n",
              "      height: 32px;\n",
              "      padding: 0 0 0 0;\n",
              "      width: 32px;\n",
              "    }\n",
              "\n",
              "    .colab-df-convert:hover {\n",
              "      background-color: #E2EBFA;\n",
              "      box-shadow: 0px 1px 2px rgba(60, 64, 67, 0.3), 0px 1px 3px 1px rgba(60, 64, 67, 0.15);\n",
              "      fill: #174EA6;\n",
              "    }\n",
              "\n",
              "    [theme=dark] .colab-df-convert {\n",
              "      background-color: #3B4455;\n",
              "      fill: #D2E3FC;\n",
              "    }\n",
              "\n",
              "    [theme=dark] .colab-df-convert:hover {\n",
              "      background-color: #434B5C;\n",
              "      box-shadow: 0px 1px 3px 1px rgba(0, 0, 0, 0.15);\n",
              "      filter: drop-shadow(0px 1px 2px rgba(0, 0, 0, 0.3));\n",
              "      fill: #FFFFFF;\n",
              "    }\n",
              "  </style>\n",
              "\n",
              "      <script>\n",
              "        const buttonEl =\n",
              "          document.querySelector('#df-6267907c-6d65-42db-91a7-76e66cc82d0e button.colab-df-convert');\n",
              "        buttonEl.style.display =\n",
              "          google.colab.kernel.accessAllowed ? 'block' : 'none';\n",
              "\n",
              "        async function convertToInteractive(key) {\n",
              "          const element = document.querySelector('#df-6267907c-6d65-42db-91a7-76e66cc82d0e');\n",
              "          const dataTable =\n",
              "            await google.colab.kernel.invokeFunction('convertToInteractive',\n",
              "                                                     [key], {});\n",
              "          if (!dataTable) return;\n",
              "\n",
              "          const docLinkHtml = 'Like what you see? Visit the ' +\n",
              "            '<a target=\"_blank\" href=https://colab.research.google.com/notebooks/data_table.ipynb>data table notebook</a>'\n",
              "            + ' to learn more about interactive tables.';\n",
              "          element.innerHTML = '';\n",
              "          dataTable['output_type'] = 'display_data';\n",
              "          await google.colab.output.renderOutput(dataTable, element);\n",
              "          const docLink = document.createElement('div');\n",
              "          docLink.innerHTML = docLinkHtml;\n",
              "          element.appendChild(docLink);\n",
              "        }\n",
              "      </script>\n",
              "    </div>\n",
              "  </div>\n",
              "  "
            ],
            "text/plain": [
              "   romaine lettuce  black olives  grape tomatoes  garlic  pepper  \\\n",
              "0                1             1               1       1       1   \n",
              "1                0             0               0       0       0   \n",
              "2                0             0               0       0       1   \n",
              "3                0             0               0       0       0   \n",
              "4                0             0               0       0       0   \n",
              "\n",
              "   purple onion  seasoning  garbanzo beans  feta cheese crumbles  plain flour  \\\n",
              "0             1          1               1                     1            0   \n",
              "1             0          0               0                     0            1   \n",
              "2             0          0               0                     0            0   \n",
              "3             0          0               0                     0            0   \n",
              "4             0          0               0                     0            0   \n",
              "\n",
              "   ...  Challenge Butter  orange glaze  cholesterol free egg substitute  \\\n",
              "0  ...                 0             0                                0   \n",
              "1  ...                 0             0                                0   \n",
              "2  ...                 0             0                                0   \n",
              "3  ...                 0             0                                0   \n",
              "4  ...                 0             0                                0   \n",
              "\n",
              "   ciabatta loaf  Lipton® Iced Tea Brew Family Size Tea Bags  \\\n",
              "0              0                                           0   \n",
              "1              0                                           0   \n",
              "2              0                                           0   \n",
              "3              0                                           0   \n",
              "4              0                                           0   \n",
              "\n",
              "   Hidden Valley® Greek Yogurt Original Ranch® Dip Mix  lop chong  \\\n",
              "0                                                  0            0   \n",
              "1                                                  0            0   \n",
              "2                                                  0            0   \n",
              "3                                                  0            0   \n",
              "4                                                  0            0   \n",
              "\n",
              "   tomato garlic pasta sauce  crushed cheese crackers      cuisine  \n",
              "0                          0                        0        greek  \n",
              "1                          0                        0  southern_us  \n",
              "2                          0                        0     filipino  \n",
              "3                          0                        0       indian  \n",
              "4                          0                        0       indian  \n",
              "\n",
              "[5 rows x 6715 columns]"
            ]
          },
          "execution_count": 2,
          "metadata": {},
          "output_type": "execute_result"
        }
      ],
      "source": [
        "train_df = pd.read_csv('trainOneHotEncoded.csv')\n",
        "train_df.head()"
      ]
    },
    {
      "cell_type": "markdown",
      "metadata": {
        "id": "6JtFOlhthOfR"
      },
      "source": [
        "### Split the Data"
      ]
    },
    {
      "cell_type": "markdown",
      "metadata": {
        "id": "NKjNgdpDtiVm"
      },
      "source": [
        "We will split the dataset according to 80/20."
      ]
    },
    {
      "cell_type": "code",
      "execution_count": null,
      "metadata": {
        "id": "lfSyge9Dhpi8"
      },
      "outputs": [],
      "source": [
        "X_train, X_test, y_train, y_test = train_test_split(train_df.drop([\"cuisine\"], axis = 1), \n",
        "                                                    train_df[\"cuisine\"], \n",
        "                                                    random_state=42, \n",
        "                                                    test_size= 0.2)"
      ]
    },
    {
      "cell_type": "markdown",
      "metadata": {
        "id": "8VtKLkg3hzw7"
      },
      "source": [
        "### Train the Model"
      ]
    },
    {
      "cell_type": "code",
      "execution_count": null,
      "metadata": {
        "id": "ONsgziJihcqX"
      },
      "outputs": [],
      "source": [
        "n_trees=250\n",
        "rf_model = RandomForestClassifier(n_estimators=n_trees, max_features='log2', n_jobs=-1 , criterion='gini')"
      ]
    },
    {
      "cell_type": "code",
      "execution_count": null,
      "metadata": {
        "colab": {
          "base_uri": "https://localhost:8080/"
        },
        "id": "tfYDiqZKhdnS",
        "outputId": "a48b87bd-7e6c-455e-cc63-de9716512770"
      },
      "outputs": [
        {
          "data": {
            "text/plain": [
              "RandomForestClassifier(max_features='log2', n_estimators=250, n_jobs=-1)"
            ]
          },
          "execution_count": 5,
          "metadata": {},
          "output_type": "execute_result"
        }
      ],
      "source": [
        "rf_model.fit(X_train, y_train)"
      ]
    },
    {
      "cell_type": "code",
      "execution_count": null,
      "metadata": {
        "colab": {
          "base_uri": "https://localhost:8080/"
        },
        "id": "SbJsKccnqcau",
        "outputId": "411d5bbd-1db5-48ec-809d-0643fda3a1a7"
      },
      "outputs": [
        {
          "data": {
            "text/plain": [
              "0.999622866840567"
            ]
          },
          "execution_count": 6,
          "metadata": {},
          "output_type": "execute_result"
        }
      ],
      "source": [
        "rf_model.score(X_train, y_train)"
      ]
    },
    {
      "cell_type": "markdown",
      "metadata": {
        "id": "QSG6RvNmqekx"
      },
      "source": [
        "The accuracy of the trained model is close to perfect. Underfitting might have occur. We proceed to verify with the test set."
      ]
    },
    {
      "cell_type": "markdown",
      "metadata": {
        "id": "MhtZjj1rhwGz"
      },
      "source": [
        "### Test the Model"
      ]
    },
    {
      "cell_type": "markdown",
      "metadata": {
        "id": "QatSWPRkrKg4"
      },
      "source": [
        "We will check the performance of the trained model on the test set. We will also use classfication report to evaluate the accuracy of the model."
      ]
    },
    {
      "cell_type": "code",
      "execution_count": null,
      "metadata": {
        "id": "C9aWQMqSh2hT"
      },
      "outputs": [],
      "source": [
        "y_predict = rf_model.predict(X_test)"
      ]
    },
    {
      "cell_type": "code",
      "execution_count": null,
      "metadata": {
        "colab": {
          "base_uri": "https://localhost:8080/"
        },
        "id": "Q3KOJxgvh6Tv",
        "outputId": "8b1c3ea9-d573-4114-df59-789c5fd41d64"
      },
      "outputs": [
        {
          "name": "stdout",
          "output_type": "stream",
          "text": [
            "              precision    recall  f1-score   support\n",
            "\n",
            "   brazilian       0.82      0.49      0.61        84\n",
            "     british       0.62      0.23      0.33       157\n",
            "cajun_creole       0.87      0.57      0.69       328\n",
            "     chinese       0.70      0.90      0.79       510\n",
            "    filipino       0.80      0.49      0.61       136\n",
            "      french       0.64      0.50      0.56       550\n",
            "       greek       0.85      0.42      0.56       249\n",
            "      indian       0.82      0.88      0.85       602\n",
            "       irish       0.75      0.28      0.41       151\n",
            "     italian       0.67      0.95      0.78      1567\n",
            "    jamaican       0.97      0.37      0.54        91\n",
            "    japanese       0.84      0.65      0.73       284\n",
            "      korean       0.95      0.61      0.74       166\n",
            "     mexican       0.83      0.93      0.88      1336\n",
            "    moroccan       0.95      0.52      0.67       166\n",
            "     russian       0.78      0.31      0.45        89\n",
            " southern_us       0.64      0.78      0.71       848\n",
            "     spanish       0.77      0.20      0.31       182\n",
            "        thai       0.82      0.67      0.74       315\n",
            "  vietnamese       0.78      0.43      0.56       144\n",
            "\n",
            "    accuracy                           0.74      7955\n",
            "   macro avg       0.79      0.56      0.63      7955\n",
            "weighted avg       0.75      0.74      0.72      7955\n",
            "\n"
          ]
        }
      ],
      "source": [
        "classificationReport = classification_report(y_test, y_predict) \n",
        "print(classificationReport)\n",
        "\n",
        "# Precision - Percentage of correct predictions out of all positive predictions.\n",
        "# Recall - Percentage of correct predictions out of all actual positive values.\n",
        "# F1 score – Weighted average of Precision and Recall."
      ]
    },
    {
      "cell_type": "markdown",
      "metadata": {
        "id": "aj4DAPBoTOre"
      },
      "source": [
        "Now, we will plot the bar graph showing the classification report data. In particular, we will show both precision and recall."
      ]
    },
    {
      "cell_type": "code",
      "execution_count": null,
      "metadata": {
        "colab": {
          "base_uri": "https://localhost:8080/",
          "height": 285
        },
        "id": "nJWYQNIDTLuA",
        "outputId": "8dd978ec-f1f2-45d5-8f41-5bb48a1f6782"
      },
      "outputs": [
        {
          "data": {
            "text/html": [
              "\n",
              "  <div id=\"df-ba5cb012-57a9-4efe-9d36-0baf1c574dc3\">\n",
              "    <div class=\"colab-df-container\">\n",
              "      <div>\n",
              "<style scoped>\n",
              "    .dataframe tbody tr th:only-of-type {\n",
              "        vertical-align: middle;\n",
              "    }\n",
              "\n",
              "    .dataframe tbody tr th {\n",
              "        vertical-align: top;\n",
              "    }\n",
              "\n",
              "    .dataframe thead th {\n",
              "        text-align: right;\n",
              "    }\n",
              "</style>\n",
              "<table border=\"1\" class=\"dataframe\">\n",
              "  <thead>\n",
              "    <tr style=\"text-align: right;\">\n",
              "      <th></th>\n",
              "      <th>brazilian</th>\n",
              "      <th>british</th>\n",
              "      <th>cajun_creole</th>\n",
              "      <th>chinese</th>\n",
              "      <th>filipino</th>\n",
              "      <th>french</th>\n",
              "      <th>greek</th>\n",
              "      <th>indian</th>\n",
              "      <th>irish</th>\n",
              "      <th>italian</th>\n",
              "      <th>...</th>\n",
              "      <th>mexican</th>\n",
              "      <th>moroccan</th>\n",
              "      <th>russian</th>\n",
              "      <th>southern_us</th>\n",
              "      <th>spanish</th>\n",
              "      <th>thai</th>\n",
              "      <th>vietnamese</th>\n",
              "      <th>accuracy</th>\n",
              "      <th>macro avg</th>\n",
              "      <th>weighted avg</th>\n",
              "    </tr>\n",
              "  </thead>\n",
              "  <tbody>\n",
              "    <tr>\n",
              "      <th>precision</th>\n",
              "      <td>0.488095</td>\n",
              "      <td>0.229299</td>\n",
              "      <td>0.573171</td>\n",
              "      <td>0.900000</td>\n",
              "      <td>0.492647</td>\n",
              "      <td>0.496364</td>\n",
              "      <td>0.421687</td>\n",
              "      <td>0.880399</td>\n",
              "      <td>0.284768</td>\n",
              "      <td>0.950862</td>\n",
              "      <td>...</td>\n",
              "      <td>0.932635</td>\n",
              "      <td>0.524096</td>\n",
              "      <td>0.314607</td>\n",
              "      <td>0.779481</td>\n",
              "      <td>0.197802</td>\n",
              "      <td>0.666667</td>\n",
              "      <td>0.430556</td>\n",
              "      <td>0.739409</td>\n",
              "      <td>0.559830</td>\n",
              "      <td>0.812784</td>\n",
              "    </tr>\n",
              "    <tr>\n",
              "      <th>recall</th>\n",
              "      <td>0.820000</td>\n",
              "      <td>0.620690</td>\n",
              "      <td>0.870370</td>\n",
              "      <td>0.698630</td>\n",
              "      <td>0.797619</td>\n",
              "      <td>0.640845</td>\n",
              "      <td>0.846774</td>\n",
              "      <td>0.819165</td>\n",
              "      <td>0.754386</td>\n",
              "      <td>0.668161</td>\n",
              "      <td>...</td>\n",
              "      <td>0.825712</td>\n",
              "      <td>0.945652</td>\n",
              "      <td>0.777778</td>\n",
              "      <td>0.644250</td>\n",
              "      <td>0.765957</td>\n",
              "      <td>0.820312</td>\n",
              "      <td>0.784810</td>\n",
              "      <td>0.739409</td>\n",
              "      <td>0.793314</td>\n",
              "      <td>0.739409</td>\n",
              "    </tr>\n",
              "    <tr>\n",
              "      <th>f1-score</th>\n",
              "      <td>0.611940</td>\n",
              "      <td>0.334884</td>\n",
              "      <td>0.691176</td>\n",
              "      <td>0.786632</td>\n",
              "      <td>0.609091</td>\n",
              "      <td>0.559426</td>\n",
              "      <td>0.563003</td>\n",
              "      <td>0.848679</td>\n",
              "      <td>0.413462</td>\n",
              "      <td>0.784830</td>\n",
              "      <td>...</td>\n",
              "      <td>0.875923</td>\n",
              "      <td>0.674419</td>\n",
              "      <td>0.448000</td>\n",
              "      <td>0.705443</td>\n",
              "      <td>0.314410</td>\n",
              "      <td>0.735552</td>\n",
              "      <td>0.556054</td>\n",
              "      <td>0.739409</td>\n",
              "      <td>0.626469</td>\n",
              "      <td>0.757776</td>\n",
              "    </tr>\n",
              "    <tr>\n",
              "      <th>support</th>\n",
              "      <td>50.000000</td>\n",
              "      <td>58.000000</td>\n",
              "      <td>216.000000</td>\n",
              "      <td>657.000000</td>\n",
              "      <td>84.000000</td>\n",
              "      <td>426.000000</td>\n",
              "      <td>124.000000</td>\n",
              "      <td>647.000000</td>\n",
              "      <td>57.000000</td>\n",
              "      <td>2230.000000</td>\n",
              "      <td>...</td>\n",
              "      <td>1509.000000</td>\n",
              "      <td>92.000000</td>\n",
              "      <td>36.000000</td>\n",
              "      <td>1026.000000</td>\n",
              "      <td>47.000000</td>\n",
              "      <td>256.000000</td>\n",
              "      <td>79.000000</td>\n",
              "      <td>0.739409</td>\n",
              "      <td>7955.000000</td>\n",
              "      <td>7955.000000</td>\n",
              "    </tr>\n",
              "  </tbody>\n",
              "</table>\n",
              "<p>4 rows × 23 columns</p>\n",
              "</div>\n",
              "      <button class=\"colab-df-convert\" onclick=\"convertToInteractive('df-ba5cb012-57a9-4efe-9d36-0baf1c574dc3')\"\n",
              "              title=\"Convert this dataframe to an interactive table.\"\n",
              "              style=\"display:none;\">\n",
              "        \n",
              "  <svg xmlns=\"http://www.w3.org/2000/svg\" height=\"24px\"viewBox=\"0 0 24 24\"\n",
              "       width=\"24px\">\n",
              "    <path d=\"M0 0h24v24H0V0z\" fill=\"none\"/>\n",
              "    <path d=\"M18.56 5.44l.94 2.06.94-2.06 2.06-.94-2.06-.94-.94-2.06-.94 2.06-2.06.94zm-11 1L8.5 8.5l.94-2.06 2.06-.94-2.06-.94L8.5 2.5l-.94 2.06-2.06.94zm10 10l.94 2.06.94-2.06 2.06-.94-2.06-.94-.94-2.06-.94 2.06-2.06.94z\"/><path d=\"M17.41 7.96l-1.37-1.37c-.4-.4-.92-.59-1.43-.59-.52 0-1.04.2-1.43.59L10.3 9.45l-7.72 7.72c-.78.78-.78 2.05 0 2.83L4 21.41c.39.39.9.59 1.41.59.51 0 1.02-.2 1.41-.59l7.78-7.78 2.81-2.81c.8-.78.8-2.07 0-2.86zM5.41 20L4 18.59l7.72-7.72 1.47 1.35L5.41 20z\"/>\n",
              "  </svg>\n",
              "      </button>\n",
              "      \n",
              "  <style>\n",
              "    .colab-df-container {\n",
              "      display:flex;\n",
              "      flex-wrap:wrap;\n",
              "      gap: 12px;\n",
              "    }\n",
              "\n",
              "    .colab-df-convert {\n",
              "      background-color: #E8F0FE;\n",
              "      border: none;\n",
              "      border-radius: 50%;\n",
              "      cursor: pointer;\n",
              "      display: none;\n",
              "      fill: #1967D2;\n",
              "      height: 32px;\n",
              "      padding: 0 0 0 0;\n",
              "      width: 32px;\n",
              "    }\n",
              "\n",
              "    .colab-df-convert:hover {\n",
              "      background-color: #E2EBFA;\n",
              "      box-shadow: 0px 1px 2px rgba(60, 64, 67, 0.3), 0px 1px 3px 1px rgba(60, 64, 67, 0.15);\n",
              "      fill: #174EA6;\n",
              "    }\n",
              "\n",
              "    [theme=dark] .colab-df-convert {\n",
              "      background-color: #3B4455;\n",
              "      fill: #D2E3FC;\n",
              "    }\n",
              "\n",
              "    [theme=dark] .colab-df-convert:hover {\n",
              "      background-color: #434B5C;\n",
              "      box-shadow: 0px 1px 3px 1px rgba(0, 0, 0, 0.15);\n",
              "      filter: drop-shadow(0px 1px 2px rgba(0, 0, 0, 0.3));\n",
              "      fill: #FFFFFF;\n",
              "    }\n",
              "  </style>\n",
              "\n",
              "      <script>\n",
              "        const buttonEl =\n",
              "          document.querySelector('#df-ba5cb012-57a9-4efe-9d36-0baf1c574dc3 button.colab-df-convert');\n",
              "        buttonEl.style.display =\n",
              "          google.colab.kernel.accessAllowed ? 'block' : 'none';\n",
              "\n",
              "        async function convertToInteractive(key) {\n",
              "          const element = document.querySelector('#df-ba5cb012-57a9-4efe-9d36-0baf1c574dc3');\n",
              "          const dataTable =\n",
              "            await google.colab.kernel.invokeFunction('convertToInteractive',\n",
              "                                                     [key], {});\n",
              "          if (!dataTable) return;\n",
              "\n",
              "          const docLinkHtml = 'Like what you see? Visit the ' +\n",
              "            '<a target=\"_blank\" href=https://colab.research.google.com/notebooks/data_table.ipynb>data table notebook</a>'\n",
              "            + ' to learn more about interactive tables.';\n",
              "          element.innerHTML = '';\n",
              "          dataTable['output_type'] = 'display_data';\n",
              "          await google.colab.output.renderOutput(dataTable, element);\n",
              "          const docLink = document.createElement('div');\n",
              "          docLink.innerHTML = docLinkHtml;\n",
              "          element.appendChild(docLink);\n",
              "        }\n",
              "      </script>\n",
              "    </div>\n",
              "  </div>\n",
              "  "
            ],
            "text/plain": [
              "           brazilian    british  cajun_creole     chinese   filipino  \\\n",
              "precision   0.488095   0.229299      0.573171    0.900000   0.492647   \n",
              "recall      0.820000   0.620690      0.870370    0.698630   0.797619   \n",
              "f1-score    0.611940   0.334884      0.691176    0.786632   0.609091   \n",
              "support    50.000000  58.000000    216.000000  657.000000  84.000000   \n",
              "\n",
              "               french       greek      indian      irish      italian  ...  \\\n",
              "precision    0.496364    0.421687    0.880399   0.284768     0.950862  ...   \n",
              "recall       0.640845    0.846774    0.819165   0.754386     0.668161  ...   \n",
              "f1-score     0.559426    0.563003    0.848679   0.413462     0.784830  ...   \n",
              "support    426.000000  124.000000  647.000000  57.000000  2230.000000  ...   \n",
              "\n",
              "               mexican   moroccan    russian  southern_us    spanish  \\\n",
              "precision     0.932635   0.524096   0.314607     0.779481   0.197802   \n",
              "recall        0.825712   0.945652   0.777778     0.644250   0.765957   \n",
              "f1-score      0.875923   0.674419   0.448000     0.705443   0.314410   \n",
              "support    1509.000000  92.000000  36.000000  1026.000000  47.000000   \n",
              "\n",
              "                 thai  vietnamese  accuracy    macro avg  weighted avg  \n",
              "precision    0.666667    0.430556  0.739409     0.559830      0.812784  \n",
              "recall       0.820312    0.784810  0.739409     0.793314      0.739409  \n",
              "f1-score     0.735552    0.556054  0.739409     0.626469      0.757776  \n",
              "support    256.000000   79.000000  0.739409  7955.000000   7955.000000  \n",
              "\n",
              "[4 rows x 23 columns]"
            ]
          },
          "execution_count": 9,
          "metadata": {},
          "output_type": "execute_result"
        }
      ],
      "source": [
        "# Convert the report into a dictionary\n",
        "classificationReportdict = classification_report(y_predict, y_test, output_dict=True)\n",
        "cr_df = pd.DataFrame(classificationReportdict)\n",
        "cr_df"
      ]
    },
    {
      "cell_type": "code",
      "execution_count": null,
      "metadata": {
        "colab": {
          "base_uri": "https://localhost:8080/",
          "height": 556
        },
        "id": "5sFv_jMTTMtd",
        "outputId": "5592383a-42c6-45a8-9d45-30d0843ef142"
      },
      "outputs": [
        {
          "data": {
            "image/png": "[encoded data removed]",
            "text/plain": [
              "<Figure size 1440x576 with 1 Axes>"
            ]
          },
          "metadata": {
            "needs_background": "light"
          },
          "output_type": "display_data"
        }
      ],
      "source": [
        "# Set the width of the bar\n",
        "barWidth = 0.4\n",
        "fig = plt.subplots(figsize=(20, 8))\n",
        "\n",
        "br1 = np.arange(20)\n",
        "br2 = [x + barWidth for x in br1]\n",
        "br3 = [x + barWidth for x in br2]\n",
        "plt.bar(br1, cr_df.iloc[0][:20], width=barWidth, color='g', label='Precision')\n",
        "plt.bar(br2, cr_df.iloc[1][:20], width=barWidth, color='b', label='Recall')\n",
        "\n",
        "plt.title('Support Vector Classifier Metrics', fontsize=16, fontweight='bold')\n",
        "plt.xlabel('Cuisine Type', fontsize=14)\n",
        "plt.ylabel('Percentage', fontsize=14)\n",
        "plt.xticks(ticks=[r + barWidth/2 for r in range(20)],\n",
        "           labels=cr_df.columns[:20], \n",
        "           fontsize=12, \n",
        "           rotation=80)\n",
        "plt.yticks(fontsize=12)\n",
        "plt.legend(fontsize=14)\n",
        "plt.show()"
      ]
    },
    {
      "cell_type": "markdown",
      "metadata": {
        "id": "c7f3iVEAuAH9"
      },
      "source": [
        "We see that the accuracy on the test set is 74%. The random forest classfier model has indeed overfitted. For the next model, we will use linear support vector classifier."
      ]
    }
  ],
  "metadata": {
    "colab": {
      "provenance": []
    },
    "kernelspec": {
      "display_name": "Python 3",
      "name": "python3"
    },
    "language_info": {
      "name": "python"
    }
  },
  "nbformat": 4,
  "nbformat_minor": 0
}
