{
  "cells": [
    {
      "cell_type": "markdown",
      "metadata": {
        "id": "1sFS_01EkKa8"
      },
      "source": [
        "## Bernoulli Naive Bayes (One-hot Encoding)"
      ]
    },
    {
      "cell_type": "markdown",
      "metadata": {
        "id": "6G7Ejjj2wcLW"
      },
      "source": [
        "This notebook requires:\n",
        "* trainOneHotEncoded.csv"
      ]
    },
    {
      "cell_type": "code",
      "execution_count": null,
      "metadata": {
        "id": "PwUQSr1_gU25"
      },
      "outputs": [],
      "source": [
        "import numpy as np \n",
        "import pandas as pd\n",
        "import matplotlib.pyplot as plt \n",
        "import json\n",
        "from sklearn.model_selection import train_test_split, cross_val_score\n",
        "from sklearn.naive_bayes import BernoulliNB\n",
        "from sklearn.metrics import classification_report"
      ]
    },
    {
      "cell_type": "markdown",
      "metadata": {
        "id": "Jp2AYjVZwoie"
      },
      "source": [
        "### Import the Dataset"
      ]
    },
    {
      "cell_type": "code",
      "execution_count": null,
      "metadata": {
        "colab": {
          "base_uri": "https://localhost:8080/",
          "height": 421
        },
        "id": "QSKEYxacjvBt",
        "outputId": "c8fdd2ca-0c2c-495e-9c2f-7718eebcd20a"
      },
      "outputs": [
        {
          "data": {
            "text/html": [
              "\n",
              "  <div id=\"df-e1a1da52-52ad-4465-970d-835d3df9c2a0\">\n",
              "    <div class=\"colab-df-container\">\n",
              "      <div>\n",
              "<style scoped>\n",
              "    .dataframe tbody tr th:only-of-type {\n",
              "        vertical-align: middle;\n",
              "    }\n",
              "\n",
              "    .dataframe tbody tr th {\n",
              "        vertical-align: top;\n",
              "    }\n",
              "\n",
              "    .dataframe thead th {\n",
              "        text-align: right;\n",
              "    }\n",
              "</style>\n",
              "<table border=\"1\" class=\"dataframe\">\n",
              "  <thead>\n",
              "    <tr style=\"text-align: right;\">\n",
              "      <th></th>\n",
              "      <th>romaine lettuce</th>\n",
              "      <th>black olives</th>\n",
              "      <th>grape tomatoes</th>\n",
              "      <th>garlic</th>\n",
              "      <th>pepper</th>\n",
              "      <th>purple onion</th>\n",
              "      <th>seasoning</th>\n",
              "      <th>garbanzo beans</th>\n",
              "      <th>feta cheese crumbles</th>\n",
              "      <th>plain flour</th>\n",
              "      <th>...</th>\n",
              "      <th>Challenge Butter</th>\n",
              "      <th>orange glaze</th>\n",
              "      <th>cholesterol free egg substitute</th>\n",
              "      <th>ciabatta loaf</th>\n",
              "      <th>Lipton® Iced Tea Brew Family Size Tea Bags</th>\n",
              "      <th>Hidden Valley® Greek Yogurt Original Ranch® Dip Mix</th>\n",
              "      <th>lop chong</th>\n",
              "      <th>tomato garlic pasta sauce</th>\n",
              "      <th>crushed cheese crackers</th>\n",
              "      <th>cuisine</th>\n",
              "    </tr>\n",
              "  </thead>\n",
              "  <tbody>\n",
              "    <tr>\n",
              "      <th>0</th>\n",
              "      <td>1</td>\n",
              "      <td>1</td>\n",
              "      <td>1</td>\n",
              "      <td>1</td>\n",
              "      <td>1</td>\n",
              "      <td>1</td>\n",
              "      <td>1</td>\n",
              "      <td>1</td>\n",
              "      <td>1</td>\n",
              "      <td>0</td>\n",
              "      <td>...</td>\n",
              "      <td>0</td>\n",
              "      <td>0</td>\n",
              "      <td>0</td>\n",
              "      <td>0</td>\n",
              "      <td>0</td>\n",
              "      <td>0</td>\n",
              "      <td>0</td>\n",
              "      <td>0</td>\n",
              "      <td>0</td>\n",
              "      <td>greek</td>\n",
              "    </tr>\n",
              "    <tr>\n",
              "      <th>1</th>\n",
              "      <td>0</td>\n",
              "      <td>0</td>\n",
              "      <td>0</td>\n",
              "      <td>0</td>\n",
              "      <td>0</td>\n",
              "      <td>0</td>\n",
              "      <td>0</td>\n",
              "      <td>0</td>\n",
              "      <td>0</td>\n",
              "      <td>1</td>\n",
              "      <td>...</td>\n",
              "      <td>0</td>\n",
              "      <td>0</td>\n",
              "      <td>0</td>\n",
              "      <td>0</td>\n",
              "      <td>0</td>\n",
              "      <td>0</td>\n",
              "      <td>0</td>\n",
              "      <td>0</td>\n",
              "      <td>0</td>\n",
              "      <td>southern_us</td>\n",
              "    </tr>\n",
              "    <tr>\n",
              "      <th>2</th>\n",
              "      <td>0</td>\n",
              "      <td>0</td>\n",
              "      <td>0</td>\n",
              "      <td>0</td>\n",
              "      <td>1</td>\n",
              "      <td>0</td>\n",
              "      <td>0</td>\n",
              "      <td>0</td>\n",
              "      <td>0</td>\n",
              "      <td>0</td>\n",
              "      <td>...</td>\n",
              "      <td>0</td>\n",
              "      <td>0</td>\n",
              "      <td>0</td>\n",
              "      <td>0</td>\n",
              "      <td>0</td>\n",
              "      <td>0</td>\n",
              "      <td>0</td>\n",
              "      <td>0</td>\n",
              "      <td>0</td>\n",
              "      <td>filipino</td>\n",
              "    </tr>\n",
              "    <tr>\n",
              "      <th>3</th>\n",
              "      <td>0</td>\n",
              "      <td>0</td>\n",
              "      <td>0</td>\n",
              "      <td>0</td>\n",
              "      <td>0</td>\n",
              "      <td>0</td>\n",
              "      <td>0</td>\n",
              "      <td>0</td>\n",
              "      <td>0</td>\n",
              "      <td>0</td>\n",
              "      <td>...</td>\n",
              "      <td>0</td>\n",
              "      <td>0</td>\n",
              "      <td>0</td>\n",
              "      <td>0</td>\n",
              "      <td>0</td>\n",
              "      <td>0</td>\n",
              "      <td>0</td>\n",
              "      <td>0</td>\n",
              "      <td>0</td>\n",
              "      <td>indian</td>\n",
              "    </tr>\n",
              "    <tr>\n",
              "      <th>4</th>\n",
              "      <td>0</td>\n",
              "      <td>0</td>\n",
              "      <td>0</td>\n",
              "      <td>0</td>\n",
              "      <td>0</td>\n",
              "      <td>0</td>\n",
              "      <td>0</td>\n",
              "      <td>0</td>\n",
              "      <td>0</td>\n",
              "      <td>0</td>\n",
              "      <td>...</td>\n",
              "      <td>0</td>\n",
              "      <td>0</td>\n",
              "      <td>0</td>\n",
              "      <td>0</td>\n",
              "      <td>0</td>\n",
              "      <td>0</td>\n",
              "      <td>0</td>\n",
              "      <td>0</td>\n",
              "      <td>0</td>\n",
              "      <td>indian</td>\n",
              "    </tr>\n",
              "  </tbody>\n",
              "</table>\n",
              "<p>5 rows × 6715 columns</p>\n",
              "</div>\n",
              "      <button class=\"colab-df-convert\" onclick=\"convertToInteractive('df-e1a1da52-52ad-4465-970d-835d3df9c2a0')\"\n",
              "              title=\"Convert this dataframe to an interactive table.\"\n",
              "              style=\"display:none;\">\n",
              "        \n",
              "  <svg xmlns=\"http://www.w3.org/2000/svg\" height=\"24px\"viewBox=\"0 0 24 24\"\n",
              "       width=\"24px\">\n",
              "    <path d=\"M0 0h24v24H0V0z\" fill=\"none\"/>\n",
              "    <path d=\"M18.56 5.44l.94 2.06.94-2.06 2.06-.94-2.06-.94-.94-2.06-.94 2.06-2.06.94zm-11 1L8.5 8.5l.94-2.06 2.06-.94-2.06-.94L8.5 2.5l-.94 2.06-2.06.94zm10 10l.94 2.06.94-2.06 2.06-.94-2.06-.94-.94-2.06-.94 2.06-2.06.94z\"/><path d=\"M17.41 7.96l-1.37-1.37c-.4-.4-.92-.59-1.43-.59-.52 0-1.04.2-1.43.59L10.3 9.45l-7.72 7.72c-.78.78-.78 2.05 0 2.83L4 21.41c.39.39.9.59 1.41.59.51 0 1.02-.2 1.41-.59l7.78-7.78 2.81-2.81c.8-.78.8-2.07 0-2.86zM5.41 20L4 18.59l7.72-7.72 1.47 1.35L5.41 20z\"/>\n",
              "  </svg>\n",
              "      </button>\n",
              "      \n",
              "  <style>\n",
              "    .colab-df-container {\n",
              "      display:flex;\n",
              "      flex-wrap:wrap;\n",
              "      gap: 12px;\n",
              "    }\n",
              "\n",
              "    .colab-df-convert {\n",
              "      background-color: #E8F0FE;\n",
              "      border: none;\n",
              "      border-radius: 50%;\n",
              "      cursor: pointer;\n",
              "      display: none;\n",
              "      fill: #1967D2;\n",
              "      height: 32px;\n",
              "      padding: 0 0 0 0;\n",
              "      width: 32px;\n",
              "    }\n",
              "\n",
              "    .colab-df-convert:hover {\n",
              "      background-color: #E2EBFA;\n",
              "      box-shadow: 0px 1px 2px rgba(60, 64, 67, 0.3), 0px 1px 3px 1px rgba(60, 64, 67, 0.15);\n",
              "      fill: #174EA6;\n",
              "    }\n",
              "\n",
              "    [theme=dark] .colab-df-convert {\n",
              "      background-color: #3B4455;\n",
              "      fill: #D2E3FC;\n",
              "    }\n",
              "\n",
              "    [theme=dark] .colab-df-convert:hover {\n",
              "      background-color: #434B5C;\n",
              "      box-shadow: 0px 1px 3px 1px rgba(0, 0, 0, 0.15);\n",
              "      filter: drop-shadow(0px 1px 2px rgba(0, 0, 0, 0.3));\n",
              "      fill: #FFFFFF;\n",
              "    }\n",
              "  </style>\n",
              "\n",
              "      <script>\n",
              "        const buttonEl =\n",
              "          document.querySelector('#df-e1a1da52-52ad-4465-970d-835d3df9c2a0 button.colab-df-convert');\n",
              "        buttonEl.style.display =\n",
              "          google.colab.kernel.accessAllowed ? 'block' : 'none';\n",
              "\n",
              "        async function convertToInteractive(key) {\n",
              "          const element = document.querySelector('#df-e1a1da52-52ad-4465-970d-835d3df9c2a0');\n",
              "          const dataTable =\n",
              "            await google.colab.kernel.invokeFunction('convertToInteractive',\n",
              "                                                     [key], {});\n",
              "          if (!dataTable) return;\n",
              "\n",
              "          const docLinkHtml = 'Like what you see? Visit the ' +\n",
              "            '<a target=\"_blank\" href=https://colab.research.google.com/notebooks/data_table.ipynb>data table notebook</a>'\n",
              "            + ' to learn more about interactive tables.';\n",
              "          element.innerHTML = '';\n",
              "          dataTable['output_type'] = 'display_data';\n",
              "          await google.colab.output.renderOutput(dataTable, element);\n",
              "          const docLink = document.createElement('div');\n",
              "          docLink.innerHTML = docLinkHtml;\n",
              "          element.appendChild(docLink);\n",
              "        }\n",
              "      </script>\n",
              "    </div>\n",
              "  </div>\n",
              "  "
            ],
            "text/plain": [
              "   romaine lettuce  black olives  grape tomatoes  garlic  pepper  \\\n",
              "0                1             1               1       1       1   \n",
              "1                0             0               0       0       0   \n",
              "2                0             0               0       0       1   \n",
              "3                0             0               0       0       0   \n",
              "4                0             0               0       0       0   \n",
              "\n",
              "   purple onion  seasoning  garbanzo beans  feta cheese crumbles  plain flour  \\\n",
              "0             1          1               1                     1            0   \n",
              "1             0          0               0                     0            1   \n",
              "2             0          0               0                     0            0   \n",
              "3             0          0               0                     0            0   \n",
              "4             0          0               0                     0            0   \n",
              "\n",
              "   ...  Challenge Butter  orange glaze  cholesterol free egg substitute  \\\n",
              "0  ...                 0             0                                0   \n",
              "1  ...                 0             0                                0   \n",
              "2  ...                 0             0                                0   \n",
              "3  ...                 0             0                                0   \n",
              "4  ...                 0             0                                0   \n",
              "\n",
              "   ciabatta loaf  Lipton® Iced Tea Brew Family Size Tea Bags  \\\n",
              "0              0                                           0   \n",
              "1              0                                           0   \n",
              "2              0                                           0   \n",
              "3              0                                           0   \n",
              "4              0                                           0   \n",
              "\n",
              "   Hidden Valley® Greek Yogurt Original Ranch® Dip Mix  lop chong  \\\n",
              "0                                                  0            0   \n",
              "1                                                  0            0   \n",
              "2                                                  0            0   \n",
              "3                                                  0            0   \n",
              "4                                                  0            0   \n",
              "\n",
              "   tomato garlic pasta sauce  crushed cheese crackers      cuisine  \n",
              "0                          0                        0        greek  \n",
              "1                          0                        0  southern_us  \n",
              "2                          0                        0     filipino  \n",
              "3                          0                        0       indian  \n",
              "4                          0                        0       indian  \n",
              "\n",
              "[5 rows x 6715 columns]"
            ]
          },
          "execution_count": 2,
          "metadata": {},
          "output_type": "execute_result"
        }
      ],
      "source": [
        "train_df = pd.read_csv('trainOneHotEncoded.csv')\n",
        "train_df.head()"
      ]
    },
    {
      "cell_type": "markdown",
      "metadata": {
        "id": "6JtFOlhthOfR"
      },
      "source": [
        "### Split the Data"
      ]
    },
    {
      "cell_type": "code",
      "execution_count": null,
      "metadata": {
        "id": "lfSyge9Dhpi8"
      },
      "outputs": [],
      "source": [
        "X_train, X_test, y_train, y_test = train_test_split(train_df.drop([\"cuisine\"], axis = 1), \n",
        "                                                    train_df[\"cuisine\"], \n",
        "                                                    random_state=42, \n",
        "                                                    test_size= 0.2)"
      ]
    },
    {
      "cell_type": "markdown",
      "metadata": {
        "id": "8VtKLkg3hzw7"
      },
      "source": [
        "### Train the Model"
      ]
    },
    {
      "cell_type": "code",
      "execution_count": null,
      "metadata": {
        "id": "ONsgziJihcqX"
      },
      "outputs": [],
      "source": [
        "nb_model = BernoulliNB()"
      ]
    },
    {
      "cell_type": "code",
      "execution_count": null,
      "metadata": {
        "colab": {
          "base_uri": "https://localhost:8080/"
        },
        "id": "tfYDiqZKhdnS",
        "outputId": "6bacd1d4-4eef-4e6a-9b2c-3632e6b66294"
      },
      "outputs": [
        {
          "data": {
            "text/plain": [
              "BernoulliNB()"
            ]
          },
          "execution_count": 5,
          "metadata": {},
          "output_type": "execute_result"
        }
      ],
      "source": [
        "nb_model.fit(X_train, y_train)"
      ]
    },
    {
      "cell_type": "code",
      "execution_count": null,
      "metadata": {
        "colab": {
          "base_uri": "https://localhost:8080/"
        },
        "id": "68F9Tegom6HQ",
        "outputId": "aa66f994-8a3e-4c78-c2e7-419039db9145"
      },
      "outputs": [
        {
          "data": {
            "text/plain": [
              "0.7276784311260568"
            ]
          },
          "execution_count": 6,
          "metadata": {},
          "output_type": "execute_result"
        }
      ],
      "source": [
        "nb_model.score(X_train, y_train)"
      ]
    },
    {
      "cell_type": "markdown",
      "metadata": {
        "id": "cdu9EBeU0Bjk"
      },
      "source": [
        "It seems like the trained model did not go well. The accuracy was just 73%. It might have underfitted."
      ]
    },
    {
      "cell_type": "markdown",
      "metadata": {
        "id": "MhtZjj1rhwGz"
      },
      "source": [
        "### Test the Model"
      ]
    },
    {
      "cell_type": "markdown",
      "metadata": {
        "id": "spsPnUSiz94y"
      },
      "source": [
        "Let's check the performance of the trained model on the test set with classification report."
      ]
    },
    {
      "cell_type": "code",
      "execution_count": null,
      "metadata": {
        "id": "C9aWQMqSh2hT"
      },
      "outputs": [],
      "source": [
        "y_predict = nb_model.predict(X_test)"
      ]
    },
    {
      "cell_type": "code",
      "execution_count": null,
      "metadata": {
        "colab": {
          "base_uri": "https://localhost:8080/"
        },
        "id": "Q3KOJxgvh6Tv",
        "outputId": "96d9d370-b218-494a-8b52-de07179a678c"
      },
      "outputs": [
        {
          "name": "stdout",
          "output_type": "stream",
          "text": [
            "              precision    recall  f1-score   support\n",
            "\n",
            "   brazilian       1.00      0.06      0.11        84\n",
            "     british       0.73      0.10      0.18       157\n",
            "cajun_creole       0.76      0.64      0.69       328\n",
            "     chinese       0.65      0.91      0.76       510\n",
            "    filipino       0.86      0.26      0.40       136\n",
            "      french       0.55      0.55      0.55       550\n",
            "       greek       0.77      0.42      0.54       249\n",
            "      indian       0.82      0.86      0.84       602\n",
            "       irish       0.60      0.02      0.04       151\n",
            "     italian       0.73      0.89      0.80      1567\n",
            "    jamaican       0.93      0.14      0.25        91\n",
            "    japanese       0.88      0.59      0.71       284\n",
            "      korean       1.00      0.41      0.58       166\n",
            "     mexican       0.86      0.91      0.89      1336\n",
            "    moroccan       0.94      0.50      0.65       166\n",
            "     russian       0.89      0.09      0.16        89\n",
            " southern_us       0.48      0.82      0.60       848\n",
            "     spanish       0.66      0.23      0.34       182\n",
            "        thai       0.74      0.78      0.76       315\n",
            "  vietnamese       0.87      0.31      0.46       144\n",
            "\n",
            "    accuracy                           0.71      7955\n",
            "   macro avg       0.79      0.47      0.52      7955\n",
            "weighted avg       0.74      0.71      0.68      7955\n",
            "\n"
          ]
        }
      ],
      "source": [
        "classificationReport = classification_report(y_test, y_predict) \n",
        "print(classificationReport)\n",
        "\n",
        "# Precision - Percentage of correct predictions out of all positive predictions.\n",
        "# Recall - Percentage of correct predictions out of all actual positive values.\n",
        "# F1 score – Weighted average of Precision and Recall."
      ]
    },
    {
      "cell_type": "markdown",
      "metadata": {
        "id": "aj4DAPBoTOre"
      },
      "source": [
        "Now, we will plot the bar graph showing the classification report data. In particular, we will show both precision and recall."
      ]
    },
    {
      "cell_type": "code",
      "execution_count": null,
      "metadata": {
        "colab": {
          "base_uri": "https://localhost:8080/",
          "height": 285
        },
        "id": "nJWYQNIDTLuA",
        "outputId": "1fee2a93-8285-4843-8136-0c027bfd7bbe"
      },
      "outputs": [
        {
          "data": {
            "text/html": [
              "\n",
              "  <div id=\"df-435d2209-e8fa-4851-afcd-100639994a6e\">\n",
              "    <div class=\"colab-df-container\">\n",
              "      <div>\n",
              "<style scoped>\n",
              "    .dataframe tbody tr th:only-of-type {\n",
              "        vertical-align: middle;\n",
              "    }\n",
              "\n",
              "    .dataframe tbody tr th {\n",
              "        vertical-align: top;\n",
              "    }\n",
              "\n",
              "    .dataframe thead th {\n",
              "        text-align: right;\n",
              "    }\n",
              "</style>\n",
              "<table border=\"1\" class=\"dataframe\">\n",
              "  <thead>\n",
              "    <tr style=\"text-align: right;\">\n",
              "      <th></th>\n",
              "      <th>brazilian</th>\n",
              "      <th>british</th>\n",
              "      <th>cajun_creole</th>\n",
              "      <th>chinese</th>\n",
              "      <th>filipino</th>\n",
              "      <th>french</th>\n",
              "      <th>greek</th>\n",
              "      <th>indian</th>\n",
              "      <th>irish</th>\n",
              "      <th>italian</th>\n",
              "      <th>...</th>\n",
              "      <th>mexican</th>\n",
              "      <th>moroccan</th>\n",
              "      <th>russian</th>\n",
              "      <th>southern_us</th>\n",
              "      <th>spanish</th>\n",
              "      <th>thai</th>\n",
              "      <th>vietnamese</th>\n",
              "      <th>accuracy</th>\n",
              "      <th>macro avg</th>\n",
              "      <th>weighted avg</th>\n",
              "    </tr>\n",
              "  </thead>\n",
              "  <tbody>\n",
              "    <tr>\n",
              "      <th>precision</th>\n",
              "      <td>0.059524</td>\n",
              "      <td>0.101911</td>\n",
              "      <td>0.637195</td>\n",
              "      <td>0.911765</td>\n",
              "      <td>0.264706</td>\n",
              "      <td>0.547273</td>\n",
              "      <td>0.417671</td>\n",
              "      <td>0.860465</td>\n",
              "      <td>0.019868</td>\n",
              "      <td>0.885769</td>\n",
              "      <td>...</td>\n",
              "      <td>0.911677</td>\n",
              "      <td>0.500000</td>\n",
              "      <td>0.089888</td>\n",
              "      <td>0.816038</td>\n",
              "      <td>0.225275</td>\n",
              "      <td>0.784127</td>\n",
              "      <td>0.312500</td>\n",
              "      <td>0.707354</td>\n",
              "      <td>0.474309</td>\n",
              "      <td>0.800817</td>\n",
              "    </tr>\n",
              "    <tr>\n",
              "      <th>recall</th>\n",
              "      <td>1.000000</td>\n",
              "      <td>0.727273</td>\n",
              "      <td>0.757246</td>\n",
              "      <td>0.649441</td>\n",
              "      <td>0.857143</td>\n",
              "      <td>0.547273</td>\n",
              "      <td>0.770370</td>\n",
              "      <td>0.820919</td>\n",
              "      <td>0.600000</td>\n",
              "      <td>0.727082</td>\n",
              "      <td>...</td>\n",
              "      <td>0.864443</td>\n",
              "      <td>0.943182</td>\n",
              "      <td>0.888889</td>\n",
              "      <td>0.480556</td>\n",
              "      <td>0.661290</td>\n",
              "      <td>0.741742</td>\n",
              "      <td>0.865385</td>\n",
              "      <td>0.707354</td>\n",
              "      <td>0.785720</td>\n",
              "      <td>0.707354</td>\n",
              "    </tr>\n",
              "    <tr>\n",
              "      <th>f1-score</th>\n",
              "      <td>0.112360</td>\n",
              "      <td>0.178771</td>\n",
              "      <td>0.692053</td>\n",
              "      <td>0.758564</td>\n",
              "      <td>0.404494</td>\n",
              "      <td>0.547273</td>\n",
              "      <td>0.541667</td>\n",
              "      <td>0.840227</td>\n",
              "      <td>0.038462</td>\n",
              "      <td>0.798619</td>\n",
              "      <td>...</td>\n",
              "      <td>0.887432</td>\n",
              "      <td>0.653543</td>\n",
              "      <td>0.163265</td>\n",
              "      <td>0.604895</td>\n",
              "      <td>0.336066</td>\n",
              "      <td>0.762346</td>\n",
              "      <td>0.459184</td>\n",
              "      <td>0.707354</td>\n",
              "      <td>0.515708</td>\n",
              "      <td>0.734146</td>\n",
              "    </tr>\n",
              "    <tr>\n",
              "      <th>support</th>\n",
              "      <td>5.000000</td>\n",
              "      <td>22.000000</td>\n",
              "      <td>276.000000</td>\n",
              "      <td>716.000000</td>\n",
              "      <td>42.000000</td>\n",
              "      <td>550.000000</td>\n",
              "      <td>135.000000</td>\n",
              "      <td>631.000000</td>\n",
              "      <td>5.000000</td>\n",
              "      <td>1909.000000</td>\n",
              "      <td>...</td>\n",
              "      <td>1409.000000</td>\n",
              "      <td>88.000000</td>\n",
              "      <td>9.000000</td>\n",
              "      <td>1440.000000</td>\n",
              "      <td>62.000000</td>\n",
              "      <td>333.000000</td>\n",
              "      <td>52.000000</td>\n",
              "      <td>0.707354</td>\n",
              "      <td>7955.000000</td>\n",
              "      <td>7955.000000</td>\n",
              "    </tr>\n",
              "  </tbody>\n",
              "</table>\n",
              "<p>4 rows × 23 columns</p>\n",
              "</div>\n",
              "      <button class=\"colab-df-convert\" onclick=\"convertToInteractive('df-435d2209-e8fa-4851-afcd-100639994a6e')\"\n",
              "              title=\"Convert this dataframe to an interactive table.\"\n",
              "              style=\"display:none;\">\n",
              "        \n",
              "  <svg xmlns=\"http://www.w3.org/2000/svg\" height=\"24px\"viewBox=\"0 0 24 24\"\n",
              "       width=\"24px\">\n",
              "    <path d=\"M0 0h24v24H0V0z\" fill=\"none\"/>\n",
              "    <path d=\"M18.56 5.44l.94 2.06.94-2.06 2.06-.94-2.06-.94-.94-2.06-.94 2.06-2.06.94zm-11 1L8.5 8.5l.94-2.06 2.06-.94-2.06-.94L8.5 2.5l-.94 2.06-2.06.94zm10 10l.94 2.06.94-2.06 2.06-.94-2.06-.94-.94-2.06-.94 2.06-2.06.94z\"/><path d=\"M17.41 7.96l-1.37-1.37c-.4-.4-.92-.59-1.43-.59-.52 0-1.04.2-1.43.59L10.3 9.45l-7.72 7.72c-.78.78-.78 2.05 0 2.83L4 21.41c.39.39.9.59 1.41.59.51 0 1.02-.2 1.41-.59l7.78-7.78 2.81-2.81c.8-.78.8-2.07 0-2.86zM5.41 20L4 18.59l7.72-7.72 1.47 1.35L5.41 20z\"/>\n",
              "  </svg>\n",
              "      </button>\n",
              "      \n",
              "  <style>\n",
              "    .colab-df-container {\n",
              "      display:flex;\n",
              "      flex-wrap:wrap;\n",
              "      gap: 12px;\n",
              "    }\n",
              "\n",
              "    .colab-df-convert {\n",
              "      background-color: #E8F0FE;\n",
              "      border: none;\n",
              "      border-radius: 50%;\n",
              "      cursor: pointer;\n",
              "      display: none;\n",
              "      fill: #1967D2;\n",
              "      height: 32px;\n",
              "      padding: 0 0 0 0;\n",
              "      width: 32px;\n",
              "    }\n",
              "\n",
              "    .colab-df-convert:hover {\n",
              "      background-color: #E2EBFA;\n",
              "      box-shadow: 0px 1px 2px rgba(60, 64, 67, 0.3), 0px 1px 3px 1px rgba(60, 64, 67, 0.15);\n",
              "      fill: #174EA6;\n",
              "    }\n",
              "\n",
              "    [theme=dark] .colab-df-convert {\n",
              "      background-color: #3B4455;\n",
              "      fill: #D2E3FC;\n",
              "    }\n",
              "\n",
              "    [theme=dark] .colab-df-convert:hover {\n",
              "      background-color: #434B5C;\n",
              "      box-shadow: 0px 1px 3px 1px rgba(0, 0, 0, 0.15);\n",
              "      filter: drop-shadow(0px 1px 2px rgba(0, 0, 0, 0.3));\n",
              "      fill: #FFFFFF;\n",
              "    }\n",
              "  </style>\n",
              "\n",
              "      <script>\n",
              "        const buttonEl =\n",
              "          document.querySelector('#df-435d2209-e8fa-4851-afcd-100639994a6e button.colab-df-convert');\n",
              "        buttonEl.style.display =\n",
              "          google.colab.kernel.accessAllowed ? 'block' : 'none';\n",
              "\n",
              "        async function convertToInteractive(key) {\n",
              "          const element = document.querySelector('#df-435d2209-e8fa-4851-afcd-100639994a6e');\n",
              "          const dataTable =\n",
              "            await google.colab.kernel.invokeFunction('convertToInteractive',\n",
              "                                                     [key], {});\n",
              "          if (!dataTable) return;\n",
              "\n",
              "          const docLinkHtml = 'Like what you see? Visit the ' +\n",
              "            '<a target=\"_blank\" href=https://colab.research.google.com/notebooks/data_table.ipynb>data table notebook</a>'\n",
              "            + ' to learn more about interactive tables.';\n",
              "          element.innerHTML = '';\n",
              "          dataTable['output_type'] = 'display_data';\n",
              "          await google.colab.output.renderOutput(dataTable, element);\n",
              "          const docLink = document.createElement('div');\n",
              "          docLink.innerHTML = docLinkHtml;\n",
              "          element.appendChild(docLink);\n",
              "        }\n",
              "      </script>\n",
              "    </div>\n",
              "  </div>\n",
              "  "
            ],
            "text/plain": [
              "           brazilian    british  cajun_creole     chinese   filipino  \\\n",
              "precision   0.059524   0.101911      0.637195    0.911765   0.264706   \n",
              "recall      1.000000   0.727273      0.757246    0.649441   0.857143   \n",
              "f1-score    0.112360   0.178771      0.692053    0.758564   0.404494   \n",
              "support     5.000000  22.000000    276.000000  716.000000  42.000000   \n",
              "\n",
              "               french       greek      indian     irish      italian  ...  \\\n",
              "precision    0.547273    0.417671    0.860465  0.019868     0.885769  ...   \n",
              "recall       0.547273    0.770370    0.820919  0.600000     0.727082  ...   \n",
              "f1-score     0.547273    0.541667    0.840227  0.038462     0.798619  ...   \n",
              "support    550.000000  135.000000  631.000000  5.000000  1909.000000  ...   \n",
              "\n",
              "               mexican   moroccan   russian  southern_us    spanish  \\\n",
              "precision     0.911677   0.500000  0.089888     0.816038   0.225275   \n",
              "recall        0.864443   0.943182  0.888889     0.480556   0.661290   \n",
              "f1-score      0.887432   0.653543  0.163265     0.604895   0.336066   \n",
              "support    1409.000000  88.000000  9.000000  1440.000000  62.000000   \n",
              "\n",
              "                 thai  vietnamese  accuracy    macro avg  weighted avg  \n",
              "precision    0.784127    0.312500  0.707354     0.474309      0.800817  \n",
              "recall       0.741742    0.865385  0.707354     0.785720      0.707354  \n",
              "f1-score     0.762346    0.459184  0.707354     0.515708      0.734146  \n",
              "support    333.000000   52.000000  0.707354  7955.000000   7955.000000  \n",
              "\n",
              "[4 rows x 23 columns]"
            ]
          },
          "execution_count": 9,
          "metadata": {},
          "output_type": "execute_result"
        }
      ],
      "source": [
        "# Convert the report into a dictionary\n",
        "classificationReportdict = classification_report(y_predict, y_test, output_dict=True)\n",
        "cr_df = pd.DataFrame(classificationReportdict)\n",
        "cr_df"
      ]
    },
    {
      "cell_type": "code",
      "execution_count": null,
      "metadata": {
        "colab": {
          "base_uri": "https://localhost:8080/",
          "height": 556
        },
        "id": "5sFv_jMTTMtd",
        "outputId": "eb21c70b-1db8-43ab-acb9-5544ed1e637e"
      },
      "outputs": [
        {
          "data": {
            "image/png": "[encoded data removed]",
            "text/plain": [
              "<Figure size 1440x576 with 1 Axes>"
            ]
          },
          "metadata": {
            "needs_background": "light"
          },
          "output_type": "display_data"
        }
      ],
      "source": [
        "# Set the width of the bar\n",
        "barWidth = 0.4\n",
        "fig = plt.subplots(figsize=(20, 8))\n",
        "\n",
        "br1 = np.arange(20)\n",
        "br2 = [x + barWidth for x in br1]\n",
        "br3 = [x + barWidth for x in br2]\n",
        "plt.bar(br1, cr_df.iloc[0][:20], width=barWidth, color='g', label='Precision')\n",
        "plt.bar(br2, cr_df.iloc[1][:20], width=barWidth, color='b', label='Recall')\n",
        "\n",
        "plt.title('Support Vector Classifier Metrics', fontsize=16, fontweight='bold')\n",
        "plt.xlabel('Cuisine Type', fontsize=14)\n",
        "plt.ylabel('Percentage', fontsize=14)\n",
        "plt.xticks(ticks=[r + barWidth/2 for r in range(20)],\n",
        "           labels=cr_df.columns[:20], \n",
        "           fontsize=12, \n",
        "           rotation=80)\n",
        "plt.yticks(fontsize=12)\n",
        "plt.legend(fontsize=14)\n",
        "plt.show()"
      ]
    },
    {
      "cell_type": "markdown",
      "metadata": {
        "id": "O4C0jV7UxGj8"
      },
      "source": [
        "We can see that Bernoulli Naive Bayes performs worse than both random forest classifier and support vector classfier. Now, we will try a different feature engineering technique and train the models."
      ]
    }
  ],
  "metadata": {
    "colab": {
      "provenance": []
    },
    "kernelspec": {
      "display_name": "Python 3",
      "name": "python3"
    },
    "language_info": {
      "name": "python"
    }
  },
  "nbformat": 4,
  "nbformat_minor": 0
}
