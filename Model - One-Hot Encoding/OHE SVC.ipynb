{
  "cells": [
    {
      "cell_type": "markdown",
      "metadata": {
        "id": "8CxqczrMsxGK"
      },
      "source": [
        "## Linear Support Vector Classfier (One-hot Encoding)"
      ]
    },
    {
      "cell_type": "markdown",
      "metadata": {
        "id": "prMpJBwetQh2"
      },
      "source": [
        "This notebook requires:\n",
        "* trainOneHotEncoded.csv"
      ]
    },
    {
      "cell_type": "code",
      "execution_count": null,
      "metadata": {
        "id": "LjsV7xBBIf5n"
      },
      "outputs": [],
      "source": [
        "import numpy as np \n",
        "import pandas as pd\n",
        "import matplotlib.pyplot as plt \n",
        "import json\n",
        "from sklearn.model_selection import train_test_split, cross_val_score\n",
        "from sklearn.svm import LinearSVC\n",
        "from sklearn.metrics import classification_report"
      ]
    },
    {
      "cell_type": "markdown",
      "metadata": {
        "id": "D_AvnS7Qwtgu"
      },
      "source": [
        "### Import the Dataset"
      ]
    },
    {
      "cell_type": "code",
      "execution_count": null,
      "metadata": {
        "colab": {
          "base_uri": "https://localhost:8080/",
          "height": 421
        },
        "id": "ob9ud6-nEvgT",
        "outputId": "26e63637-2c12-41e8-bf10-10aa27dcd916"
      },
      "outputs": [
        {
          "data": {
            "text/html": [
              "\n",
              "  <div id=\"df-cf599e18-308c-4fb7-af51-77e8acdf274b\">\n",
              "    <div class=\"colab-df-container\">\n",
              "      <div>\n",
              "<style scoped>\n",
              "    .dataframe tbody tr th:only-of-type {\n",
              "        vertical-align: middle;\n",
              "    }\n",
              "\n",
              "    .dataframe tbody tr th {\n",
              "        vertical-align: top;\n",
              "    }\n",
              "\n",
              "    .dataframe thead th {\n",
              "        text-align: right;\n",
              "    }\n",
              "</style>\n",
              "<table border=\"1\" class=\"dataframe\">\n",
              "  <thead>\n",
              "    <tr style=\"text-align: right;\">\n",
              "      <th></th>\n",
              "      <th>romaine lettuce</th>\n",
              "      <th>black olives</th>\n",
              "      <th>grape tomatoes</th>\n",
              "      <th>garlic</th>\n",
              "      <th>pepper</th>\n",
              "      <th>purple onion</th>\n",
              "      <th>seasoning</th>\n",
              "      <th>garbanzo beans</th>\n",
              "      <th>feta cheese crumbles</th>\n",
              "      <th>plain flour</th>\n",
              "      <th>...</th>\n",
              "      <th>Challenge Butter</th>\n",
              "      <th>orange glaze</th>\n",
              "      <th>cholesterol free egg substitute</th>\n",
              "      <th>ciabatta loaf</th>\n",
              "      <th>Lipton® Iced Tea Brew Family Size Tea Bags</th>\n",
              "      <th>Hidden Valley® Greek Yogurt Original Ranch® Dip Mix</th>\n",
              "      <th>lop chong</th>\n",
              "      <th>tomato garlic pasta sauce</th>\n",
              "      <th>crushed cheese crackers</th>\n",
              "      <th>cuisine</th>\n",
              "    </tr>\n",
              "  </thead>\n",
              "  <tbody>\n",
              "    <tr>\n",
              "      <th>0</th>\n",
              "      <td>1</td>\n",
              "      <td>1</td>\n",
              "      <td>1</td>\n",
              "      <td>1</td>\n",
              "      <td>1</td>\n",
              "      <td>1</td>\n",
              "      <td>1</td>\n",
              "      <td>1</td>\n",
              "      <td>1</td>\n",
              "      <td>0</td>\n",
              "      <td>...</td>\n",
              "      <td>0</td>\n",
              "      <td>0</td>\n",
              "      <td>0</td>\n",
              "      <td>0</td>\n",
              "      <td>0</td>\n",
              "      <td>0</td>\n",
              "      <td>0</td>\n",
              "      <td>0</td>\n",
              "      <td>0</td>\n",
              "      <td>greek</td>\n",
              "    </tr>\n",
              "    <tr>\n",
              "      <th>1</th>\n",
              "      <td>0</td>\n",
              "      <td>0</td>\n",
              "      <td>0</td>\n",
              "      <td>0</td>\n",
              "      <td>0</td>\n",
              "      <td>0</td>\n",
              "      <td>0</td>\n",
              "      <td>0</td>\n",
              "      <td>0</td>\n",
              "      <td>1</td>\n",
              "      <td>...</td>\n",
              "      <td>0</td>\n",
              "      <td>0</td>\n",
              "      <td>0</td>\n",
              "      <td>0</td>\n",
              "      <td>0</td>\n",
              "      <td>0</td>\n",
              "      <td>0</td>\n",
              "      <td>0</td>\n",
              "      <td>0</td>\n",
              "      <td>southern_us</td>\n",
              "    </tr>\n",
              "    <tr>\n",
              "      <th>2</th>\n",
              "      <td>0</td>\n",
              "      <td>0</td>\n",
              "      <td>0</td>\n",
              "      <td>0</td>\n",
              "      <td>1</td>\n",
              "      <td>0</td>\n",
              "      <td>0</td>\n",
              "      <td>0</td>\n",
              "      <td>0</td>\n",
              "      <td>0</td>\n",
              "      <td>...</td>\n",
              "      <td>0</td>\n",
              "      <td>0</td>\n",
              "      <td>0</td>\n",
              "      <td>0</td>\n",
              "      <td>0</td>\n",
              "      <td>0</td>\n",
              "      <td>0</td>\n",
              "      <td>0</td>\n",
              "      <td>0</td>\n",
              "      <td>filipino</td>\n",
              "    </tr>\n",
              "    <tr>\n",
              "      <th>3</th>\n",
              "      <td>0</td>\n",
              "      <td>0</td>\n",
              "      <td>0</td>\n",
              "      <td>0</td>\n",
              "      <td>0</td>\n",
              "      <td>0</td>\n",
              "      <td>0</td>\n",
              "      <td>0</td>\n",
              "      <td>0</td>\n",
              "      <td>0</td>\n",
              "      <td>...</td>\n",
              "      <td>0</td>\n",
              "      <td>0</td>\n",
              "      <td>0</td>\n",
              "      <td>0</td>\n",
              "      <td>0</td>\n",
              "      <td>0</td>\n",
              "      <td>0</td>\n",
              "      <td>0</td>\n",
              "      <td>0</td>\n",
              "      <td>indian</td>\n",
              "    </tr>\n",
              "    <tr>\n",
              "      <th>4</th>\n",
              "      <td>0</td>\n",
              "      <td>0</td>\n",
              "      <td>0</td>\n",
              "      <td>0</td>\n",
              "      <td>0</td>\n",
              "      <td>0</td>\n",
              "      <td>0</td>\n",
              "      <td>0</td>\n",
              "      <td>0</td>\n",
              "      <td>0</td>\n",
              "      <td>...</td>\n",
              "      <td>0</td>\n",
              "      <td>0</td>\n",
              "      <td>0</td>\n",
              "      <td>0</td>\n",
              "      <td>0</td>\n",
              "      <td>0</td>\n",
              "      <td>0</td>\n",
              "      <td>0</td>\n",
              "      <td>0</td>\n",
              "      <td>indian</td>\n",
              "    </tr>\n",
              "  </tbody>\n",
              "</table>\n",
              "<p>5 rows × 6715 columns</p>\n",
              "</div>\n",
              "      <button class=\"colab-df-convert\" onclick=\"convertToInteractive('df-cf599e18-308c-4fb7-af51-77e8acdf274b')\"\n",
              "              title=\"Convert this dataframe to an interactive table.\"\n",
              "              style=\"display:none;\">\n",
              "        \n",
              "  <svg xmlns=\"http://www.w3.org/2000/svg\" height=\"24px\"viewBox=\"0 0 24 24\"\n",
              "       width=\"24px\">\n",
              "    <path d=\"M0 0h24v24H0V0z\" fill=\"none\"/>\n",
              "    <path d=\"M18.56 5.44l.94 2.06.94-2.06 2.06-.94-2.06-.94-.94-2.06-.94 2.06-2.06.94zm-11 1L8.5 8.5l.94-2.06 2.06-.94-2.06-.94L8.5 2.5l-.94 2.06-2.06.94zm10 10l.94 2.06.94-2.06 2.06-.94-2.06-.94-.94-2.06-.94 2.06-2.06.94z\"/><path d=\"M17.41 7.96l-1.37-1.37c-.4-.4-.92-.59-1.43-.59-.52 0-1.04.2-1.43.59L10.3 9.45l-7.72 7.72c-.78.78-.78 2.05 0 2.83L4 21.41c.39.39.9.59 1.41.59.51 0 1.02-.2 1.41-.59l7.78-7.78 2.81-2.81c.8-.78.8-2.07 0-2.86zM5.41 20L4 18.59l7.72-7.72 1.47 1.35L5.41 20z\"/>\n",
              "  </svg>\n",
              "      </button>\n",
              "      \n",
              "  <style>\n",
              "    .colab-df-container {\n",
              "      display:flex;\n",
              "      flex-wrap:wrap;\n",
              "      gap: 12px;\n",
              "    }\n",
              "\n",
              "    .colab-df-convert {\n",
              "      background-color: #E8F0FE;\n",
              "      border: none;\n",
              "      border-radius: 50%;\n",
              "      cursor: pointer;\n",
              "      display: none;\n",
              "      fill: #1967D2;\n",
              "      height: 32px;\n",
              "      padding: 0 0 0 0;\n",
              "      width: 32px;\n",
              "    }\n",
              "\n",
              "    .colab-df-convert:hover {\n",
              "      background-color: #E2EBFA;\n",
              "      box-shadow: 0px 1px 2px rgba(60, 64, 67, 0.3), 0px 1px 3px 1px rgba(60, 64, 67, 0.15);\n",
              "      fill: #174EA6;\n",
              "    }\n",
              "\n",
              "    [theme=dark] .colab-df-convert {\n",
              "      background-color: #3B4455;\n",
              "      fill: #D2E3FC;\n",
              "    }\n",
              "\n",
              "    [theme=dark] .colab-df-convert:hover {\n",
              "      background-color: #434B5C;\n",
              "      box-shadow: 0px 1px 3px 1px rgba(0, 0, 0, 0.15);\n",
              "      filter: drop-shadow(0px 1px 2px rgba(0, 0, 0, 0.3));\n",
              "      fill: #FFFFFF;\n",
              "    }\n",
              "  </style>\n",
              "\n",
              "      <script>\n",
              "        const buttonEl =\n",
              "          document.querySelector('#df-cf599e18-308c-4fb7-af51-77e8acdf274b button.colab-df-convert');\n",
              "        buttonEl.style.display =\n",
              "          google.colab.kernel.accessAllowed ? 'block' : 'none';\n",
              "\n",
              "        async function convertToInteractive(key) {\n",
              "          const element = document.querySelector('#df-cf599e18-308c-4fb7-af51-77e8acdf274b');\n",
              "          const dataTable =\n",
              "            await google.colab.kernel.invokeFunction('convertToInteractive',\n",
              "                                                     [key], {});\n",
              "          if (!dataTable) return;\n",
              "\n",
              "          const docLinkHtml = 'Like what you see? Visit the ' +\n",
              "            '<a target=\"_blank\" href=https://colab.research.google.com/notebooks/data_table.ipynb>data table notebook</a>'\n",
              "            + ' to learn more about interactive tables.';\n",
              "          element.innerHTML = '';\n",
              "          dataTable['output_type'] = 'display_data';\n",
              "          await google.colab.output.renderOutput(dataTable, element);\n",
              "          const docLink = document.createElement('div');\n",
              "          docLink.innerHTML = docLinkHtml;\n",
              "          element.appendChild(docLink);\n",
              "        }\n",
              "      </script>\n",
              "    </div>\n",
              "  </div>\n",
              "  "
            ],
            "text/plain": [
              "   romaine lettuce  black olives  grape tomatoes  garlic  pepper  \\\n",
              "0                1             1               1       1       1   \n",
              "1                0             0               0       0       0   \n",
              "2                0             0               0       0       1   \n",
              "3                0             0               0       0       0   \n",
              "4                0             0               0       0       0   \n",
              "\n",
              "   purple onion  seasoning  garbanzo beans  feta cheese crumbles  plain flour  \\\n",
              "0             1          1               1                     1            0   \n",
              "1             0          0               0                     0            1   \n",
              "2             0          0               0                     0            0   \n",
              "3             0          0               0                     0            0   \n",
              "4             0          0               0                     0            0   \n",
              "\n",
              "   ...  Challenge Butter  orange glaze  cholesterol free egg substitute  \\\n",
              "0  ...                 0             0                                0   \n",
              "1  ...                 0             0                                0   \n",
              "2  ...                 0             0                                0   \n",
              "3  ...                 0             0                                0   \n",
              "4  ...                 0             0                                0   \n",
              "\n",
              "   ciabatta loaf  Lipton® Iced Tea Brew Family Size Tea Bags  \\\n",
              "0              0                                           0   \n",
              "1              0                                           0   \n",
              "2              0                                           0   \n",
              "3              0                                           0   \n",
              "4              0                                           0   \n",
              "\n",
              "   Hidden Valley® Greek Yogurt Original Ranch® Dip Mix  lop chong  \\\n",
              "0                                                  0            0   \n",
              "1                                                  0            0   \n",
              "2                                                  0            0   \n",
              "3                                                  0            0   \n",
              "4                                                  0            0   \n",
              "\n",
              "   tomato garlic pasta sauce  crushed cheese crackers      cuisine  \n",
              "0                          0                        0        greek  \n",
              "1                          0                        0  southern_us  \n",
              "2                          0                        0     filipino  \n",
              "3                          0                        0       indian  \n",
              "4                          0                        0       indian  \n",
              "\n",
              "[5 rows x 6715 columns]"
            ]
          },
          "execution_count": 2,
          "metadata": {},
          "output_type": "execute_result"
        }
      ],
      "source": [
        "train_df = pd.read_csv('trainOneHotEncoded.csv')\n",
        "train_df.head()"
      ]
    },
    {
      "cell_type": "markdown",
      "metadata": {
        "id": "XHi78nxK-WvU"
      },
      "source": [
        "### Split the Data"
      ]
    },
    {
      "cell_type": "code",
      "execution_count": null,
      "metadata": {
        "id": "6WoKvqiJIzpT"
      },
      "outputs": [],
      "source": [
        "X_train, X_test, y_train, y_test = train_test_split(train_df.drop([\"cuisine\"], axis = 1), \n",
        "                                                    train_df[\"cuisine\"], \n",
        "                                                    random_state=42, \n",
        "                                                    test_size=0.2)"
      ]
    },
    {
      "cell_type": "markdown",
      "metadata": {
        "id": "kidAbSQx-bN4"
      },
      "source": [
        "### Train the Model"
      ]
    },
    {
      "cell_type": "code",
      "execution_count": null,
      "metadata": {
        "id": "sGNz80shI0ni"
      },
      "outputs": [],
      "source": [
        "SVclassifier = LinearSVC(loss='squared_hinge', penalty='l2', \n",
        "                         dual=False, fit_intercept=True,\n",
        "                         intercept_scaling=1, max_iter=20,\n",
        "                         multi_class='ovr')"
      ]
    },
    {
      "cell_type": "markdown",
      "metadata": {
        "id": "DDrZpxXTe3K9"
      },
      "source": [
        "We choose dual = False because n_samples > n_features."
      ]
    },
    {
      "cell_type": "code",
      "execution_count": null,
      "metadata": {
        "colab": {
          "base_uri": "https://localhost:8080/"
        },
        "id": "Jc_sQyzNI1r8",
        "outputId": "ae022c32-c1f3-461b-ed56-6d0814bb550a"
      },
      "outputs": [
        {
          "data": {
            "text/plain": [
              "LinearSVC(dual=False, max_iter=20)"
            ]
          },
          "execution_count": 5,
          "metadata": {},
          "output_type": "execute_result"
        }
      ],
      "source": [
        "SVclassifier.fit(X_train, y_train)"
      ]
    },
    {
      "cell_type": "code",
      "execution_count": null,
      "metadata": {
        "colab": {
          "base_uri": "https://localhost:8080/"
        },
        "id": "IipDXe6iyl63",
        "outputId": "3df3f663-28bb-43e5-cf22-dc02d86b94f0"
      },
      "outputs": [
        {
          "data": {
            "text/plain": [
              "0.9332160030170653"
            ]
          },
          "execution_count": 6,
          "metadata": {},
          "output_type": "execute_result"
        }
      ],
      "source": [
        "SVclassifier.score(X_train, y_train)"
      ]
    },
    {
      "cell_type": "markdown",
      "metadata": {
        "id": "AHYP5pwJtuXV"
      },
      "source": [
        "It seems like the training of the model went well. It achieved an accuracy of 93%."
      ]
    },
    {
      "cell_type": "markdown",
      "metadata": {
        "id": "Y3ZFK1r3-edk"
      },
      "source": [
        "### Test the Model"
      ]
    },
    {
      "cell_type": "markdown",
      "metadata": {
        "id": "Vc40QJWvshhx"
      },
      "source": [
        "Let's check the performance of the trained model on the test set with classification report."
      ]
    },
    {
      "cell_type": "code",
      "execution_count": null,
      "metadata": {
        "id": "av93z7kII3xh"
      },
      "outputs": [],
      "source": [
        "y_predict = SVclassifier.predict(X_test)"
      ]
    },
    {
      "cell_type": "code",
      "execution_count": null,
      "metadata": {
        "colab": {
          "base_uri": "https://localhost:8080/"
        },
        "id": "axeu9nTiI5Th",
        "outputId": "6e363cad-d76e-4cd0-c4b8-f323abfd75e6"
      },
      "outputs": [
        {
          "name": "stdout",
          "output_type": "stream",
          "text": [
            "              precision    recall  f1-score   support\n",
            "\n",
            "   brazilian       0.64      0.67      0.65        84\n",
            "     british       0.53      0.41      0.47       157\n",
            "cajun_creole       0.75      0.66      0.70       328\n",
            "     chinese       0.79      0.80      0.80       510\n",
            "    filipino       0.62      0.64      0.63       136\n",
            "      french       0.62      0.64      0.63       550\n",
            "       greek       0.69      0.68      0.69       249\n",
            "      indian       0.84      0.86      0.85       602\n",
            "       irish       0.58      0.51      0.54       151\n",
            "     italian       0.81      0.86      0.84      1567\n",
            "    jamaican       0.70      0.69      0.70        91\n",
            "    japanese       0.76      0.73      0.75       284\n",
            "      korean       0.83      0.81      0.82       166\n",
            "     mexican       0.90      0.92      0.91      1336\n",
            "    moroccan       0.78      0.72      0.75       166\n",
            "     russian       0.49      0.44      0.46        89\n",
            " southern_us       0.72      0.75      0.74       848\n",
            "     spanish       0.55      0.47      0.51       182\n",
            "        thai       0.78      0.71      0.74       315\n",
            "  vietnamese       0.57      0.51      0.54       144\n",
            "\n",
            "    accuracy                           0.77      7955\n",
            "   macro avg       0.70      0.67      0.69      7955\n",
            "weighted avg       0.77      0.77      0.77      7955\n",
            "\n"
          ]
        }
      ],
      "source": [
        "classificationReport = classification_report(y_test, y_predict) \n",
        "print(classificationReport)\n",
        "\n",
        "# Precision - Percentage of correct predictions out of all positive predictions.\n",
        "# Recall - Percentage of correct predictions out of all actual positive values.\n",
        "# F1 score – Weighted average of Precision and Recall."
      ]
    },
    {
      "cell_type": "markdown",
      "metadata": {
        "id": "w7VZ5mDYLBrZ"
      },
      "source": [
        "Now, we will plot the bar graph showing the classification report data. In particular, we will show both precision and recall."
      ]
    },
    {
      "cell_type": "code",
      "execution_count": null,
      "metadata": {
        "colab": {
          "base_uri": "https://localhost:8080/",
          "height": 285
        },
        "id": "rXMtPKR1I6tL",
        "outputId": "4d98e0af-c106-4a26-d074-cba609f8787b"
      },
      "outputs": [
        {
          "data": {
            "text/html": [
              "\n",
              "  <div id=\"df-93ef0a14-084a-49f3-a57c-bb60deef072f\">\n",
              "    <div class=\"colab-df-container\">\n",
              "      <div>\n",
              "<style scoped>\n",
              "    .dataframe tbody tr th:only-of-type {\n",
              "        vertical-align: middle;\n",
              "    }\n",
              "\n",
              "    .dataframe tbody tr th {\n",
              "        vertical-align: top;\n",
              "    }\n",
              "\n",
              "    .dataframe thead th {\n",
              "        text-align: right;\n",
              "    }\n",
              "</style>\n",
              "<table border=\"1\" class=\"dataframe\">\n",
              "  <thead>\n",
              "    <tr style=\"text-align: right;\">\n",
              "      <th></th>\n",
              "      <th>brazilian</th>\n",
              "      <th>british</th>\n",
              "      <th>cajun_creole</th>\n",
              "      <th>chinese</th>\n",
              "      <th>filipino</th>\n",
              "      <th>french</th>\n",
              "      <th>greek</th>\n",
              "      <th>indian</th>\n",
              "      <th>irish</th>\n",
              "      <th>italian</th>\n",
              "      <th>...</th>\n",
              "      <th>mexican</th>\n",
              "      <th>moroccan</th>\n",
              "      <th>russian</th>\n",
              "      <th>southern_us</th>\n",
              "      <th>spanish</th>\n",
              "      <th>thai</th>\n",
              "      <th>vietnamese</th>\n",
              "      <th>accuracy</th>\n",
              "      <th>macro avg</th>\n",
              "      <th>weighted avg</th>\n",
              "    </tr>\n",
              "  </thead>\n",
              "  <tbody>\n",
              "    <tr>\n",
              "      <th>precision</th>\n",
              "      <td>0.666667</td>\n",
              "      <td>0.414013</td>\n",
              "      <td>0.655488</td>\n",
              "      <td>0.803922</td>\n",
              "      <td>0.639706</td>\n",
              "      <td>0.643636</td>\n",
              "      <td>0.682731</td>\n",
              "      <td>0.857143</td>\n",
              "      <td>0.509934</td>\n",
              "      <td>0.862157</td>\n",
              "      <td>...</td>\n",
              "      <td>0.918413</td>\n",
              "      <td>0.716867</td>\n",
              "      <td>0.438202</td>\n",
              "      <td>0.753538</td>\n",
              "      <td>0.472527</td>\n",
              "      <td>0.711111</td>\n",
              "      <td>0.506944</td>\n",
              "      <td>0.768573</td>\n",
              "      <td>0.674548</td>\n",
              "      <td>0.775019</td>\n",
              "    </tr>\n",
              "    <tr>\n",
              "      <th>recall</th>\n",
              "      <td>0.643678</td>\n",
              "      <td>0.532787</td>\n",
              "      <td>0.751748</td>\n",
              "      <td>0.791506</td>\n",
              "      <td>0.617021</td>\n",
              "      <td>0.623239</td>\n",
              "      <td>0.691057</td>\n",
              "      <td>0.843137</td>\n",
              "      <td>0.578947</td>\n",
              "      <td>0.813855</td>\n",
              "      <td>...</td>\n",
              "      <td>0.895620</td>\n",
              "      <td>0.777778</td>\n",
              "      <td>0.487500</td>\n",
              "      <td>0.722034</td>\n",
              "      <td>0.554839</td>\n",
              "      <td>0.780488</td>\n",
              "      <td>0.574803</td>\n",
              "      <td>0.768573</td>\n",
              "      <td>0.698764</td>\n",
              "      <td>0.768573</td>\n",
              "    </tr>\n",
              "    <tr>\n",
              "      <th>f1-score</th>\n",
              "      <td>0.654971</td>\n",
              "      <td>0.465950</td>\n",
              "      <td>0.700326</td>\n",
              "      <td>0.797665</td>\n",
              "      <td>0.628159</td>\n",
              "      <td>0.633274</td>\n",
              "      <td>0.686869</td>\n",
              "      <td>0.850082</td>\n",
              "      <td>0.542254</td>\n",
              "      <td>0.837310</td>\n",
              "      <td>...</td>\n",
              "      <td>0.906874</td>\n",
              "      <td>0.746082</td>\n",
              "      <td>0.461538</td>\n",
              "      <td>0.737450</td>\n",
              "      <td>0.510386</td>\n",
              "      <td>0.744186</td>\n",
              "      <td>0.538745</td>\n",
              "      <td>0.768573</td>\n",
              "      <td>0.685414</td>\n",
              "      <td>0.771087</td>\n",
              "    </tr>\n",
              "    <tr>\n",
              "      <th>support</th>\n",
              "      <td>87.000000</td>\n",
              "      <td>122.000000</td>\n",
              "      <td>286.000000</td>\n",
              "      <td>518.000000</td>\n",
              "      <td>141.000000</td>\n",
              "      <td>568.000000</td>\n",
              "      <td>246.000000</td>\n",
              "      <td>612.000000</td>\n",
              "      <td>133.000000</td>\n",
              "      <td>1660.000000</td>\n",
              "      <td>...</td>\n",
              "      <td>1370.000000</td>\n",
              "      <td>153.000000</td>\n",
              "      <td>80.000000</td>\n",
              "      <td>885.000000</td>\n",
              "      <td>155.000000</td>\n",
              "      <td>287.000000</td>\n",
              "      <td>127.000000</td>\n",
              "      <td>0.768573</td>\n",
              "      <td>7955.000000</td>\n",
              "      <td>7955.000000</td>\n",
              "    </tr>\n",
              "  </tbody>\n",
              "</table>\n",
              "<p>4 rows × 23 columns</p>\n",
              "</div>\n",
              "      <button class=\"colab-df-convert\" onclick=\"convertToInteractive('df-93ef0a14-084a-49f3-a57c-bb60deef072f')\"\n",
              "              title=\"Convert this dataframe to an interactive table.\"\n",
              "              style=\"display:none;\">\n",
              "        \n",
              "  <svg xmlns=\"http://www.w3.org/2000/svg\" height=\"24px\"viewBox=\"0 0 24 24\"\n",
              "       width=\"24px\">\n",
              "    <path d=\"M0 0h24v24H0V0z\" fill=\"none\"/>\n",
              "    <path d=\"M18.56 5.44l.94 2.06.94-2.06 2.06-.94-2.06-.94-.94-2.06-.94 2.06-2.06.94zm-11 1L8.5 8.5l.94-2.06 2.06-.94-2.06-.94L8.5 2.5l-.94 2.06-2.06.94zm10 10l.94 2.06.94-2.06 2.06-.94-2.06-.94-.94-2.06-.94 2.06-2.06.94z\"/><path d=\"M17.41 7.96l-1.37-1.37c-.4-.4-.92-.59-1.43-.59-.52 0-1.04.2-1.43.59L10.3 9.45l-7.72 7.72c-.78.78-.78 2.05 0 2.83L4 21.41c.39.39.9.59 1.41.59.51 0 1.02-.2 1.41-.59l7.78-7.78 2.81-2.81c.8-.78.8-2.07 0-2.86zM5.41 20L4 18.59l7.72-7.72 1.47 1.35L5.41 20z\"/>\n",
              "  </svg>\n",
              "      </button>\n",
              "      \n",
              "  <style>\n",
              "    .colab-df-container {\n",
              "      display:flex;\n",
              "      flex-wrap:wrap;\n",
              "      gap: 12px;\n",
              "    }\n",
              "\n",
              "    .colab-df-convert {\n",
              "      background-color: #E8F0FE;\n",
              "      border: none;\n",
              "      border-radius: 50%;\n",
              "      cursor: pointer;\n",
              "      display: none;\n",
              "      fill: #1967D2;\n",
              "      height: 32px;\n",
              "      padding: 0 0 0 0;\n",
              "      width: 32px;\n",
              "    }\n",
              "\n",
              "    .colab-df-convert:hover {\n",
              "      background-color: #E2EBFA;\n",
              "      box-shadow: 0px 1px 2px rgba(60, 64, 67, 0.3), 0px 1px 3px 1px rgba(60, 64, 67, 0.15);\n",
              "      fill: #174EA6;\n",
              "    }\n",
              "\n",
              "    [theme=dark] .colab-df-convert {\n",
              "      background-color: #3B4455;\n",
              "      fill: #D2E3FC;\n",
              "    }\n",
              "\n",
              "    [theme=dark] .colab-df-convert:hover {\n",
              "      background-color: #434B5C;\n",
              "      box-shadow: 0px 1px 3px 1px rgba(0, 0, 0, 0.15);\n",
              "      filter: drop-shadow(0px 1px 2px rgba(0, 0, 0, 0.3));\n",
              "      fill: #FFFFFF;\n",
              "    }\n",
              "  </style>\n",
              "\n",
              "      <script>\n",
              "        const buttonEl =\n",
              "          document.querySelector('#df-93ef0a14-084a-49f3-a57c-bb60deef072f button.colab-df-convert');\n",
              "        buttonEl.style.display =\n",
              "          google.colab.kernel.accessAllowed ? 'block' : 'none';\n",
              "\n",
              "        async function convertToInteractive(key) {\n",
              "          const element = document.querySelector('#df-93ef0a14-084a-49f3-a57c-bb60deef072f');\n",
              "          const dataTable =\n",
              "            await google.colab.kernel.invokeFunction('convertToInteractive',\n",
              "                                                     [key], {});\n",
              "          if (!dataTable) return;\n",
              "\n",
              "          const docLinkHtml = 'Like what you see? Visit the ' +\n",
              "            '<a target=\"_blank\" href=https://colab.research.google.com/notebooks/data_table.ipynb>data table notebook</a>'\n",
              "            + ' to learn more about interactive tables.';\n",
              "          element.innerHTML = '';\n",
              "          dataTable['output_type'] = 'display_data';\n",
              "          await google.colab.output.renderOutput(dataTable, element);\n",
              "          const docLink = document.createElement('div');\n",
              "          docLink.innerHTML = docLinkHtml;\n",
              "          element.appendChild(docLink);\n",
              "        }\n",
              "      </script>\n",
              "    </div>\n",
              "  </div>\n",
              "  "
            ],
            "text/plain": [
              "           brazilian     british  cajun_creole     chinese    filipino  \\\n",
              "precision   0.666667    0.414013      0.655488    0.803922    0.639706   \n",
              "recall      0.643678    0.532787      0.751748    0.791506    0.617021   \n",
              "f1-score    0.654971    0.465950      0.700326    0.797665    0.628159   \n",
              "support    87.000000  122.000000    286.000000  518.000000  141.000000   \n",
              "\n",
              "               french       greek      indian       irish      italian  ...  \\\n",
              "precision    0.643636    0.682731    0.857143    0.509934     0.862157  ...   \n",
              "recall       0.623239    0.691057    0.843137    0.578947     0.813855  ...   \n",
              "f1-score     0.633274    0.686869    0.850082    0.542254     0.837310  ...   \n",
              "support    568.000000  246.000000  612.000000  133.000000  1660.000000  ...   \n",
              "\n",
              "               mexican    moroccan    russian  southern_us     spanish  \\\n",
              "precision     0.918413    0.716867   0.438202     0.753538    0.472527   \n",
              "recall        0.895620    0.777778   0.487500     0.722034    0.554839   \n",
              "f1-score      0.906874    0.746082   0.461538     0.737450    0.510386   \n",
              "support    1370.000000  153.000000  80.000000   885.000000  155.000000   \n",
              "\n",
              "                 thai  vietnamese  accuracy    macro avg  weighted avg  \n",
              "precision    0.711111    0.506944  0.768573     0.674548      0.775019  \n",
              "recall       0.780488    0.574803  0.768573     0.698764      0.768573  \n",
              "f1-score     0.744186    0.538745  0.768573     0.685414      0.771087  \n",
              "support    287.000000  127.000000  0.768573  7955.000000   7955.000000  \n",
              "\n",
              "[4 rows x 23 columns]"
            ]
          },
          "execution_count": 9,
          "metadata": {},
          "output_type": "execute_result"
        }
      ],
      "source": [
        "# Convert the report into a dictionary\n",
        "classificationReportdict = classification_report(y_predict, y_test, output_dict=True)\n",
        "cr_df = pd.DataFrame(classificationReportdict)\n",
        "cr_df"
      ]
    },
    {
      "cell_type": "code",
      "execution_count": null,
      "metadata": {
        "colab": {
          "base_uri": "https://localhost:8080/",
          "height": 556
        },
        "id": "nzwcs7FfICJs",
        "outputId": "94545bac-1b94-4bb1-bdd6-662fde2bbd49"
      },
      "outputs": [
        {
          "data": {
            "image/png": "[encoded data removed]",
            "text/plain": [
              "<Figure size 1440x576 with 1 Axes>"
            ]
          },
          "metadata": {
            "needs_background": "light"
          },
          "output_type": "display_data"
        }
      ],
      "source": [
        "# Set the width of the bar\n",
        "barWidth = 0.4\n",
        "fig = plt.subplots(figsize=(20, 8))\n",
        "\n",
        "br1 = np.arange(20)\n",
        "br2 = [x + barWidth for x in br1]\n",
        "br3 = [x + barWidth for x in br2]\n",
        "plt.bar(br1, cr_df.iloc[0][:20], width=barWidth, color='g', label='Precision')\n",
        "plt.bar(br2, cr_df.iloc[1][:20], width=barWidth, color='b', label='Recall')\n",
        "\n",
        "plt.title('Support Vector Classifier Metrics', fontsize=16, fontweight='bold')\n",
        "plt.xlabel('Cuisine Type', fontsize=14)\n",
        "plt.ylabel('Percentage', fontsize=14)\n",
        "plt.xticks(ticks=[r + barWidth/2 for r in range(20)],\n",
        "           labels=cr_df.columns[:20], \n",
        "           fontsize=12, \n",
        "           rotation=80)\n",
        "plt.yticks(fontsize=12)\n",
        "plt.legend(fontsize=14)\n",
        "plt.show()"
      ]
    },
    {
      "cell_type": "markdown",
      "metadata": {
        "id": "csMug2I5vMbT"
      },
      "source": [
        "We see that the accuracy score of the predictions is 77%. Even though it performs better than random forest classifier on the test set, the trained model has overfitted. So, let's proceed with another model, Naive Bayes."
      ]
    }
  ],
  "metadata": {
    "colab": {
      "provenance": []
    },
    "kernelspec": {
      "display_name": "Python 3",
      "name": "python3"
    },
    "language_info": {
      "name": "python"
    }
  },
  "nbformat": 4,
  "nbformat_minor": 0
}
