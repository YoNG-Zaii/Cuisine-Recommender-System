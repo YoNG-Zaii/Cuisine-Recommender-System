{
  "nbformat": 4,
  "nbformat_minor": 0,
  "metadata": {
    "colab": {
      "provenance": []
    },
    "kernelspec": {
      "name": "python3",
      "display_name": "Python 3"
    },
    "language_info": {
      "name": "python"
    }
  },
  "cells": [
    {
      "cell_type": "markdown",
      "source": [
        "## Support Vector Classifier (Number of Ingredients by Cuisine Types)"
      ],
      "metadata": {
        "id": "XsBm7frtWfgW"
      }
    },
    {
      "cell_type": "markdown",
      "source": [
        "This notebook requires:\n",
        "* trainEngineered.csv"
      ],
      "metadata": {
        "id": "8R2mAiG2WnjX"
      }
    },
    {
      "cell_type": "code",
      "execution_count": null,
      "metadata": {
        "id": "JgFGv6R7cM0s"
      },
      "outputs": [],
      "source": [
        "import numpy as np \n",
        "import pandas as pd\n",
        "import matplotlib.pyplot as plt\n",
        "from sklearn.preprocessing import MinMaxScaler\n",
        "from sklearn.model_selection import train_test_split, cross_val_score, cross_validate\n",
        "from sklearn.svm import LinearSVC, SVC\n",
        "from sklearn.metrics import classification_report"
      ]
    },
    {
      "cell_type": "code",
      "source": [
        "finalDF = pd.read_csv('trainEngineered.csv')\n",
        "finalDF.head()"
      ],
      "metadata": {
        "colab": {
          "base_uri": "https://localhost:8080/",
          "height": 299
        },
        "id": "BWVglRd4oDd8",
        "outputId": "530e77b5-b473-4a64-9133-ff9246d6e16f"
      },
      "execution_count": null,
      "outputs": [
        {
          "output_type": "execute_result",
          "data": {
            "text/plain": [
              "   greek  southern_us  filipino  indian  jamaican  spanish  italian  mexican  \\\n",
              "0      6            1         0       2         0        0        6        7   \n",
              "1      0            5         0       1         3        0        2        1   \n",
              "2      0            0         1       2         0        0        1        3   \n",
              "3      0            0         0       0         0        0        2        0   \n",
              "4      1            3         0      14         2        2        3        5   \n",
              "\n",
              "   chinese  british  ...  cajun_creole  brazilian  french  japanese  irish  \\\n",
              "0        1        0  ...             1          0       3         0      0   \n",
              "1        1        2  ...             2          0       1         1      1   \n",
              "2        1        0  ...             1          0       2         1      0   \n",
              "3        0        0  ...             0          0       0         0      0   \n",
              "4        5        1  ...             3          1       1         6      0   \n",
              "\n",
              "   korean  moroccan  russian  general      cuisine  \n",
              "0       0         1        0        8        greek  \n",
              "1       0         0        0       14  southern_us  \n",
              "2       1         0        0       18     filipino  \n",
              "3       0         0        0        6       indian  \n",
              "4       1         3        0       22       indian  \n",
              "\n",
              "[5 rows x 22 columns]"
            ],
            "text/html": [
              "\n",
              "  <div id=\"df-9ffcf7f3-4d18-4c8d-b365-2d05537d7766\">\n",
              "    <div class=\"colab-df-container\">\n",
              "      <div>\n",
              "<style scoped>\n",
              "    .dataframe tbody tr th:only-of-type {\n",
              "        vertical-align: middle;\n",
              "    }\n",
              "\n",
              "    .dataframe tbody tr th {\n",
              "        vertical-align: top;\n",
              "    }\n",
              "\n",
              "    .dataframe thead th {\n",
              "        text-align: right;\n",
              "    }\n",
              "</style>\n",
              "<table border=\"1\" class=\"dataframe\">\n",
              "  <thead>\n",
              "    <tr style=\"text-align: right;\">\n",
              "      <th></th>\n",
              "      <th>greek</th>\n",
              "      <th>southern_us</th>\n",
              "      <th>filipino</th>\n",
              "      <th>indian</th>\n",
              "      <th>jamaican</th>\n",
              "      <th>spanish</th>\n",
              "      <th>italian</th>\n",
              "      <th>mexican</th>\n",
              "      <th>chinese</th>\n",
              "      <th>british</th>\n",
              "      <th>...</th>\n",
              "      <th>cajun_creole</th>\n",
              "      <th>brazilian</th>\n",
              "      <th>french</th>\n",
              "      <th>japanese</th>\n",
              "      <th>irish</th>\n",
              "      <th>korean</th>\n",
              "      <th>moroccan</th>\n",
              "      <th>russian</th>\n",
              "      <th>general</th>\n",
              "      <th>cuisine</th>\n",
              "    </tr>\n",
              "  </thead>\n",
              "  <tbody>\n",
              "    <tr>\n",
              "      <th>0</th>\n",
              "      <td>6</td>\n",
              "      <td>1</td>\n",
              "      <td>0</td>\n",
              "      <td>2</td>\n",
              "      <td>0</td>\n",
              "      <td>0</td>\n",
              "      <td>6</td>\n",
              "      <td>7</td>\n",
              "      <td>1</td>\n",
              "      <td>0</td>\n",
              "      <td>...</td>\n",
              "      <td>1</td>\n",
              "      <td>0</td>\n",
              "      <td>3</td>\n",
              "      <td>0</td>\n",
              "      <td>0</td>\n",
              "      <td>0</td>\n",
              "      <td>1</td>\n",
              "      <td>0</td>\n",
              "      <td>8</td>\n",
              "      <td>greek</td>\n",
              "    </tr>\n",
              "    <tr>\n",
              "      <th>1</th>\n",
              "      <td>0</td>\n",
              "      <td>5</td>\n",
              "      <td>0</td>\n",
              "      <td>1</td>\n",
              "      <td>3</td>\n",
              "      <td>0</td>\n",
              "      <td>2</td>\n",
              "      <td>1</td>\n",
              "      <td>1</td>\n",
              "      <td>2</td>\n",
              "      <td>...</td>\n",
              "      <td>2</td>\n",
              "      <td>0</td>\n",
              "      <td>1</td>\n",
              "      <td>1</td>\n",
              "      <td>1</td>\n",
              "      <td>0</td>\n",
              "      <td>0</td>\n",
              "      <td>0</td>\n",
              "      <td>14</td>\n",
              "      <td>southern_us</td>\n",
              "    </tr>\n",
              "    <tr>\n",
              "      <th>2</th>\n",
              "      <td>0</td>\n",
              "      <td>0</td>\n",
              "      <td>1</td>\n",
              "      <td>2</td>\n",
              "      <td>0</td>\n",
              "      <td>0</td>\n",
              "      <td>1</td>\n",
              "      <td>3</td>\n",
              "      <td>1</td>\n",
              "      <td>0</td>\n",
              "      <td>...</td>\n",
              "      <td>1</td>\n",
              "      <td>0</td>\n",
              "      <td>2</td>\n",
              "      <td>1</td>\n",
              "      <td>0</td>\n",
              "      <td>1</td>\n",
              "      <td>0</td>\n",
              "      <td>0</td>\n",
              "      <td>18</td>\n",
              "      <td>filipino</td>\n",
              "    </tr>\n",
              "    <tr>\n",
              "      <th>3</th>\n",
              "      <td>0</td>\n",
              "      <td>0</td>\n",
              "      <td>0</td>\n",
              "      <td>0</td>\n",
              "      <td>0</td>\n",
              "      <td>0</td>\n",
              "      <td>2</td>\n",
              "      <td>0</td>\n",
              "      <td>0</td>\n",
              "      <td>0</td>\n",
              "      <td>...</td>\n",
              "      <td>0</td>\n",
              "      <td>0</td>\n",
              "      <td>0</td>\n",
              "      <td>0</td>\n",
              "      <td>0</td>\n",
              "      <td>0</td>\n",
              "      <td>0</td>\n",
              "      <td>0</td>\n",
              "      <td>6</td>\n",
              "      <td>indian</td>\n",
              "    </tr>\n",
              "    <tr>\n",
              "      <th>4</th>\n",
              "      <td>1</td>\n",
              "      <td>3</td>\n",
              "      <td>0</td>\n",
              "      <td>14</td>\n",
              "      <td>2</td>\n",
              "      <td>2</td>\n",
              "      <td>3</td>\n",
              "      <td>5</td>\n",
              "      <td>5</td>\n",
              "      <td>1</td>\n",
              "      <td>...</td>\n",
              "      <td>3</td>\n",
              "      <td>1</td>\n",
              "      <td>1</td>\n",
              "      <td>6</td>\n",
              "      <td>0</td>\n",
              "      <td>1</td>\n",
              "      <td>3</td>\n",
              "      <td>0</td>\n",
              "      <td>22</td>\n",
              "      <td>indian</td>\n",
              "    </tr>\n",
              "  </tbody>\n",
              "</table>\n",
              "<p>5 rows × 22 columns</p>\n",
              "</div>\n",
              "      <button class=\"colab-df-convert\" onclick=\"convertToInteractive('df-9ffcf7f3-4d18-4c8d-b365-2d05537d7766')\"\n",
              "              title=\"Convert this dataframe to an interactive table.\"\n",
              "              style=\"display:none;\">\n",
              "        \n",
              "  <svg xmlns=\"http://www.w3.org/2000/svg\" height=\"24px\"viewBox=\"0 0 24 24\"\n",
              "       width=\"24px\">\n",
              "    <path d=\"M0 0h24v24H0V0z\" fill=\"none\"/>\n",
              "    <path d=\"M18.56 5.44l.94 2.06.94-2.06 2.06-.94-2.06-.94-.94-2.06-.94 2.06-2.06.94zm-11 1L8.5 8.5l.94-2.06 2.06-.94-2.06-.94L8.5 2.5l-.94 2.06-2.06.94zm10 10l.94 2.06.94-2.06 2.06-.94-2.06-.94-.94-2.06-.94 2.06-2.06.94z\"/><path d=\"M17.41 7.96l-1.37-1.37c-.4-.4-.92-.59-1.43-.59-.52 0-1.04.2-1.43.59L10.3 9.45l-7.72 7.72c-.78.78-.78 2.05 0 2.83L4 21.41c.39.39.9.59 1.41.59.51 0 1.02-.2 1.41-.59l7.78-7.78 2.81-2.81c.8-.78.8-2.07 0-2.86zM5.41 20L4 18.59l7.72-7.72 1.47 1.35L5.41 20z\"/>\n",
              "  </svg>\n",
              "      </button>\n",
              "      \n",
              "  <style>\n",
              "    .colab-df-container {\n",
              "      display:flex;\n",
              "      flex-wrap:wrap;\n",
              "      gap: 12px;\n",
              "    }\n",
              "\n",
              "    .colab-df-convert {\n",
              "      background-color: #E8F0FE;\n",
              "      border: none;\n",
              "      border-radius: 50%;\n",
              "      cursor: pointer;\n",
              "      display: none;\n",
              "      fill: #1967D2;\n",
              "      height: 32px;\n",
              "      padding: 0 0 0 0;\n",
              "      width: 32px;\n",
              "    }\n",
              "\n",
              "    .colab-df-convert:hover {\n",
              "      background-color: #E2EBFA;\n",
              "      box-shadow: 0px 1px 2px rgba(60, 64, 67, 0.3), 0px 1px 3px 1px rgba(60, 64, 67, 0.15);\n",
              "      fill: #174EA6;\n",
              "    }\n",
              "\n",
              "    [theme=dark] .colab-df-convert {\n",
              "      background-color: #3B4455;\n",
              "      fill: #D2E3FC;\n",
              "    }\n",
              "\n",
              "    [theme=dark] .colab-df-convert:hover {\n",
              "      background-color: #434B5C;\n",
              "      box-shadow: 0px 1px 3px 1px rgba(0, 0, 0, 0.15);\n",
              "      filter: drop-shadow(0px 1px 2px rgba(0, 0, 0, 0.3));\n",
              "      fill: #FFFFFF;\n",
              "    }\n",
              "  </style>\n",
              "\n",
              "      <script>\n",
              "        const buttonEl =\n",
              "          document.querySelector('#df-9ffcf7f3-4d18-4c8d-b365-2d05537d7766 button.colab-df-convert');\n",
              "        buttonEl.style.display =\n",
              "          google.colab.kernel.accessAllowed ? 'block' : 'none';\n",
              "\n",
              "        async function convertToInteractive(key) {\n",
              "          const element = document.querySelector('#df-9ffcf7f3-4d18-4c8d-b365-2d05537d7766');\n",
              "          const dataTable =\n",
              "            await google.colab.kernel.invokeFunction('convertToInteractive',\n",
              "                                                     [key], {});\n",
              "          if (!dataTable) return;\n",
              "\n",
              "          const docLinkHtml = 'Like what you see? Visit the ' +\n",
              "            '<a target=\"_blank\" href=https://colab.research.google.com/notebooks/data_table.ipynb>data table notebook</a>'\n",
              "            + ' to learn more about interactive tables.';\n",
              "          element.innerHTML = '';\n",
              "          dataTable['output_type'] = 'display_data';\n",
              "          await google.colab.output.renderOutput(dataTable, element);\n",
              "          const docLink = document.createElement('div');\n",
              "          docLink.innerHTML = docLinkHtml;\n",
              "          element.appendChild(docLink);\n",
              "        }\n",
              "      </script>\n",
              "    </div>\n",
              "  </div>\n",
              "  "
            ]
          },
          "metadata": {},
          "execution_count": 2
        }
      ]
    },
    {
      "cell_type": "markdown",
      "source": [
        "### Split into Train and Test"
      ],
      "metadata": {
        "id": "FpJI-Pf5kRbl"
      }
    },
    {
      "cell_type": "code",
      "source": [
        "X_train, X_test, y_train, y_test = train_test_split(finalDF.drop(['cuisine'], axis = 1), \n",
        "                                                    finalDF['cuisine'], \n",
        "                                                    train_size = 0.8, \n",
        "                                                    random_state = 5)"
      ],
      "metadata": {
        "id": "cwP2tYoskn8M"
      },
      "execution_count": null,
      "outputs": []
    },
    {
      "cell_type": "markdown",
      "source": [
        "### Feature Scaling"
      ],
      "metadata": {
        "id": "35m4A-TD9PZw"
      }
    },
    {
      "cell_type": "markdown",
      "source": [
        "Since we are using support vector machine, we can scale the data to [0, 1] range for faster convergence (speed of training) during training."
      ],
      "metadata": {
        "id": "cOKjxrIf9T8Y"
      }
    },
    {
      "cell_type": "code",
      "source": [
        "scaler = MinMaxScaler()\n",
        "scaledData = scaler.fit_transform(X_train)"
      ],
      "metadata": {
        "id": "oJ8BiJ6M7j3w"
      },
      "execution_count": null,
      "outputs": []
    },
    {
      "cell_type": "code",
      "source": [
        "# The list of cuisine type including 'general'\n",
        "cuisineTypes = finalDF.columns[:-1]"
      ],
      "metadata": {
        "id": "qSCD7aFeYSjZ"
      },
      "execution_count": null,
      "outputs": []
    },
    {
      "cell_type": "code",
      "source": [
        "scaledDF = pd.DataFrame(scaledData, columns=cuisineTypes)\n",
        "scaledDF.head()"
      ],
      "metadata": {
        "colab": {
          "base_uri": "https://localhost:8080/",
          "height": 299
        },
        "id": "cPUFRXjIYrdi",
        "outputId": "49d38f74-b061-44e8-95c0-f38669582e48"
      },
      "execution_count": null,
      "outputs": [
        {
          "output_type": "execute_result",
          "data": {
            "text/plain": [
              "      greek  southern_us  filipino    indian  jamaican   spanish   italian  \\\n",
              "0  0.000000     0.034483  0.071429  0.023810     0.000  0.058824  0.065574   \n",
              "1  0.117647     0.068966  0.000000  0.000000     0.000  0.058824  0.081967   \n",
              "2  0.000000     0.000000  0.000000  0.000000     0.000  0.000000  0.032787   \n",
              "3  0.117647     0.137931  0.071429  0.119048     0.125  0.058824  0.049180   \n",
              "4  0.117647     0.137931  0.000000  0.023810     0.000  0.058824  0.147541   \n",
              "\n",
              "    mexican   chinese  british  ...  vietnamese  cajun_creole  brazilian  \\\n",
              "0  0.047619  0.212121     0.05  ...    0.090909      0.086957   0.000000   \n",
              "1  0.261905  0.030303     0.00  ...    0.090909      0.043478   0.076923   \n",
              "2  0.000000  0.000000     0.00  ...    0.000000      0.000000   0.000000   \n",
              "3  0.095238  0.030303     0.15  ...    0.000000      0.086957   0.000000   \n",
              "4  0.095238  0.030303     0.00  ...    0.000000      0.130435   0.153846   \n",
              "\n",
              "   french  japanese  irish    korean  moroccan   russian   general  \n",
              "0    0.10  0.333333    0.0  0.222222    0.0000  0.090909  0.206897  \n",
              "1    0.05  0.037037    0.0  0.000000    0.0000  0.000000  0.068966  \n",
              "2    0.00  0.000000    0.0  0.000000    0.0000  0.000000  0.103448  \n",
              "3    0.15  0.037037    0.5  0.000000    0.1250  0.363636  0.172414  \n",
              "4    0.15  0.000000    0.0  0.000000    0.0625  0.000000  0.344828  \n",
              "\n",
              "[5 rows x 21 columns]"
            ],
            "text/html": [
              "\n",
              "  <div id=\"df-25153505-16d6-452f-a503-e2c4a1dd4289\">\n",
              "    <div class=\"colab-df-container\">\n",
              "      <div>\n",
              "<style scoped>\n",
              "    .dataframe tbody tr th:only-of-type {\n",
              "        vertical-align: middle;\n",
              "    }\n",
              "\n",
              "    .dataframe tbody tr th {\n",
              "        vertical-align: top;\n",
              "    }\n",
              "\n",
              "    .dataframe thead th {\n",
              "        text-align: right;\n",
              "    }\n",
              "</style>\n",
              "<table border=\"1\" class=\"dataframe\">\n",
              "  <thead>\n",
              "    <tr style=\"text-align: right;\">\n",
              "      <th></th>\n",
              "      <th>greek</th>\n",
              "      <th>southern_us</th>\n",
              "      <th>filipino</th>\n",
              "      <th>indian</th>\n",
              "      <th>jamaican</th>\n",
              "      <th>spanish</th>\n",
              "      <th>italian</th>\n",
              "      <th>mexican</th>\n",
              "      <th>chinese</th>\n",
              "      <th>british</th>\n",
              "      <th>...</th>\n",
              "      <th>vietnamese</th>\n",
              "      <th>cajun_creole</th>\n",
              "      <th>brazilian</th>\n",
              "      <th>french</th>\n",
              "      <th>japanese</th>\n",
              "      <th>irish</th>\n",
              "      <th>korean</th>\n",
              "      <th>moroccan</th>\n",
              "      <th>russian</th>\n",
              "      <th>general</th>\n",
              "    </tr>\n",
              "  </thead>\n",
              "  <tbody>\n",
              "    <tr>\n",
              "      <th>0</th>\n",
              "      <td>0.000000</td>\n",
              "      <td>0.034483</td>\n",
              "      <td>0.071429</td>\n",
              "      <td>0.023810</td>\n",
              "      <td>0.000</td>\n",
              "      <td>0.058824</td>\n",
              "      <td>0.065574</td>\n",
              "      <td>0.047619</td>\n",
              "      <td>0.212121</td>\n",
              "      <td>0.05</td>\n",
              "      <td>...</td>\n",
              "      <td>0.090909</td>\n",
              "      <td>0.086957</td>\n",
              "      <td>0.000000</td>\n",
              "      <td>0.10</td>\n",
              "      <td>0.333333</td>\n",
              "      <td>0.0</td>\n",
              "      <td>0.222222</td>\n",
              "      <td>0.0000</td>\n",
              "      <td>0.090909</td>\n",
              "      <td>0.206897</td>\n",
              "    </tr>\n",
              "    <tr>\n",
              "      <th>1</th>\n",
              "      <td>0.117647</td>\n",
              "      <td>0.068966</td>\n",
              "      <td>0.000000</td>\n",
              "      <td>0.000000</td>\n",
              "      <td>0.000</td>\n",
              "      <td>0.058824</td>\n",
              "      <td>0.081967</td>\n",
              "      <td>0.261905</td>\n",
              "      <td>0.030303</td>\n",
              "      <td>0.00</td>\n",
              "      <td>...</td>\n",
              "      <td>0.090909</td>\n",
              "      <td>0.043478</td>\n",
              "      <td>0.076923</td>\n",
              "      <td>0.05</td>\n",
              "      <td>0.037037</td>\n",
              "      <td>0.0</td>\n",
              "      <td>0.000000</td>\n",
              "      <td>0.0000</td>\n",
              "      <td>0.000000</td>\n",
              "      <td>0.068966</td>\n",
              "    </tr>\n",
              "    <tr>\n",
              "      <th>2</th>\n",
              "      <td>0.000000</td>\n",
              "      <td>0.000000</td>\n",
              "      <td>0.000000</td>\n",
              "      <td>0.000000</td>\n",
              "      <td>0.000</td>\n",
              "      <td>0.000000</td>\n",
              "      <td>0.032787</td>\n",
              "      <td>0.000000</td>\n",
              "      <td>0.000000</td>\n",
              "      <td>0.00</td>\n",
              "      <td>...</td>\n",
              "      <td>0.000000</td>\n",
              "      <td>0.000000</td>\n",
              "      <td>0.000000</td>\n",
              "      <td>0.00</td>\n",
              "      <td>0.000000</td>\n",
              "      <td>0.0</td>\n",
              "      <td>0.000000</td>\n",
              "      <td>0.0000</td>\n",
              "      <td>0.000000</td>\n",
              "      <td>0.103448</td>\n",
              "    </tr>\n",
              "    <tr>\n",
              "      <th>3</th>\n",
              "      <td>0.117647</td>\n",
              "      <td>0.137931</td>\n",
              "      <td>0.071429</td>\n",
              "      <td>0.119048</td>\n",
              "      <td>0.125</td>\n",
              "      <td>0.058824</td>\n",
              "      <td>0.049180</td>\n",
              "      <td>0.095238</td>\n",
              "      <td>0.030303</td>\n",
              "      <td>0.15</td>\n",
              "      <td>...</td>\n",
              "      <td>0.000000</td>\n",
              "      <td>0.086957</td>\n",
              "      <td>0.000000</td>\n",
              "      <td>0.15</td>\n",
              "      <td>0.037037</td>\n",
              "      <td>0.5</td>\n",
              "      <td>0.000000</td>\n",
              "      <td>0.1250</td>\n",
              "      <td>0.363636</td>\n",
              "      <td>0.172414</td>\n",
              "    </tr>\n",
              "    <tr>\n",
              "      <th>4</th>\n",
              "      <td>0.117647</td>\n",
              "      <td>0.137931</td>\n",
              "      <td>0.000000</td>\n",
              "      <td>0.023810</td>\n",
              "      <td>0.000</td>\n",
              "      <td>0.058824</td>\n",
              "      <td>0.147541</td>\n",
              "      <td>0.095238</td>\n",
              "      <td>0.030303</td>\n",
              "      <td>0.00</td>\n",
              "      <td>...</td>\n",
              "      <td>0.000000</td>\n",
              "      <td>0.130435</td>\n",
              "      <td>0.153846</td>\n",
              "      <td>0.15</td>\n",
              "      <td>0.000000</td>\n",
              "      <td>0.0</td>\n",
              "      <td>0.000000</td>\n",
              "      <td>0.0625</td>\n",
              "      <td>0.000000</td>\n",
              "      <td>0.344828</td>\n",
              "    </tr>\n",
              "  </tbody>\n",
              "</table>\n",
              "<p>5 rows × 21 columns</p>\n",
              "</div>\n",
              "      <button class=\"colab-df-convert\" onclick=\"convertToInteractive('df-25153505-16d6-452f-a503-e2c4a1dd4289')\"\n",
              "              title=\"Convert this dataframe to an interactive table.\"\n",
              "              style=\"display:none;\">\n",
              "        \n",
              "  <svg xmlns=\"http://www.w3.org/2000/svg\" height=\"24px\"viewBox=\"0 0 24 24\"\n",
              "       width=\"24px\">\n",
              "    <path d=\"M0 0h24v24H0V0z\" fill=\"none\"/>\n",
              "    <path d=\"M18.56 5.44l.94 2.06.94-2.06 2.06-.94-2.06-.94-.94-2.06-.94 2.06-2.06.94zm-11 1L8.5 8.5l.94-2.06 2.06-.94-2.06-.94L8.5 2.5l-.94 2.06-2.06.94zm10 10l.94 2.06.94-2.06 2.06-.94-2.06-.94-.94-2.06-.94 2.06-2.06.94z\"/><path d=\"M17.41 7.96l-1.37-1.37c-.4-.4-.92-.59-1.43-.59-.52 0-1.04.2-1.43.59L10.3 9.45l-7.72 7.72c-.78.78-.78 2.05 0 2.83L4 21.41c.39.39.9.59 1.41.59.51 0 1.02-.2 1.41-.59l7.78-7.78 2.81-2.81c.8-.78.8-2.07 0-2.86zM5.41 20L4 18.59l7.72-7.72 1.47 1.35L5.41 20z\"/>\n",
              "  </svg>\n",
              "      </button>\n",
              "      \n",
              "  <style>\n",
              "    .colab-df-container {\n",
              "      display:flex;\n",
              "      flex-wrap:wrap;\n",
              "      gap: 12px;\n",
              "    }\n",
              "\n",
              "    .colab-df-convert {\n",
              "      background-color: #E8F0FE;\n",
              "      border: none;\n",
              "      border-radius: 50%;\n",
              "      cursor: pointer;\n",
              "      display: none;\n",
              "      fill: #1967D2;\n",
              "      height: 32px;\n",
              "      padding: 0 0 0 0;\n",
              "      width: 32px;\n",
              "    }\n",
              "\n",
              "    .colab-df-convert:hover {\n",
              "      background-color: #E2EBFA;\n",
              "      box-shadow: 0px 1px 2px rgba(60, 64, 67, 0.3), 0px 1px 3px 1px rgba(60, 64, 67, 0.15);\n",
              "      fill: #174EA6;\n",
              "    }\n",
              "\n",
              "    [theme=dark] .colab-df-convert {\n",
              "      background-color: #3B4455;\n",
              "      fill: #D2E3FC;\n",
              "    }\n",
              "\n",
              "    [theme=dark] .colab-df-convert:hover {\n",
              "      background-color: #434B5C;\n",
              "      box-shadow: 0px 1px 3px 1px rgba(0, 0, 0, 0.15);\n",
              "      filter: drop-shadow(0px 1px 2px rgba(0, 0, 0, 0.3));\n",
              "      fill: #FFFFFF;\n",
              "    }\n",
              "  </style>\n",
              "\n",
              "      <script>\n",
              "        const buttonEl =\n",
              "          document.querySelector('#df-25153505-16d6-452f-a503-e2c4a1dd4289 button.colab-df-convert');\n",
              "        buttonEl.style.display =\n",
              "          google.colab.kernel.accessAllowed ? 'block' : 'none';\n",
              "\n",
              "        async function convertToInteractive(key) {\n",
              "          const element = document.querySelector('#df-25153505-16d6-452f-a503-e2c4a1dd4289');\n",
              "          const dataTable =\n",
              "            await google.colab.kernel.invokeFunction('convertToInteractive',\n",
              "                                                     [key], {});\n",
              "          if (!dataTable) return;\n",
              "\n",
              "          const docLinkHtml = 'Like what you see? Visit the ' +\n",
              "            '<a target=\"_blank\" href=https://colab.research.google.com/notebooks/data_table.ipynb>data table notebook</a>'\n",
              "            + ' to learn more about interactive tables.';\n",
              "          element.innerHTML = '';\n",
              "          dataTable['output_type'] = 'display_data';\n",
              "          await google.colab.output.renderOutput(dataTable, element);\n",
              "          const docLink = document.createElement('div');\n",
              "          docLink.innerHTML = docLinkHtml;\n",
              "          element.appendChild(docLink);\n",
              "        }\n",
              "      </script>\n",
              "    </div>\n",
              "  </div>\n",
              "  "
            ]
          },
          "metadata": {},
          "execution_count": 6
        }
      ]
    },
    {
      "cell_type": "markdown",
      "source": [
        "## Linear Support Vector Classifier"
      ],
      "metadata": {
        "id": "X656aYqsMCbi"
      }
    },
    {
      "cell_type": "code",
      "source": [
        "max_iter=20\n",
        "svc_model = LinearSVC(loss='squared_hinge', \n",
        "                      penalty='l2', \n",
        "                      dual=False, \n",
        "                      fit_intercept=True,\n",
        "                      intercept_scaling=1, \n",
        "                      max_iter=max_iter,\n",
        "                      multi_class='ovr')"
      ],
      "metadata": {
        "id": "Uf5nsU1ryJGw"
      },
      "execution_count": null,
      "outputs": []
    },
    {
      "cell_type": "markdown",
      "source": [
        "We choose dual = False because n_samples > n_features."
      ],
      "metadata": {
        "id": "QogEiA5KyhI2"
      }
    },
    {
      "cell_type": "code",
      "source": [
        "svc_model.fit(scaledDF, y_train)"
      ],
      "metadata": {
        "colab": {
          "base_uri": "https://localhost:8080/"
        },
        "id": "G55N1e6zk46N",
        "outputId": "f3039be8-0c25-4235-d380-a55e8887d4ab"
      },
      "execution_count": null,
      "outputs": [
        {
          "output_type": "execute_result",
          "data": {
            "text/plain": [
              "LinearSVC(dual=False, max_iter=20)"
            ]
          },
          "metadata": {},
          "execution_count": 8
        }
      ]
    },
    {
      "cell_type": "code",
      "source": [
        "print(\"Score: \", svc_model.score(scaledDF, y_train))"
      ],
      "metadata": {
        "colab": {
          "base_uri": "https://localhost:8080/"
        },
        "id": "1tvziAFQ2qVJ",
        "outputId": "5df8d41c-b863-4a16-f264-c5ad4fd64b9c"
      },
      "execution_count": null,
      "outputs": [
        {
          "output_type": "stream",
          "name": "stdout",
          "text": [
            "Score:  0.7382067318268959\n"
          ]
        }
      ]
    },
    {
      "cell_type": "code",
      "source": [
        "# Transform the test set data according to the min-max scaler\n",
        "X_test_tf = scaler.transform(X_test)\n",
        "X_test_tf = pd.DataFrame(scaler.transform(X_test), columns=cuisineTypes)"
      ],
      "metadata": {
        "id": "kXru43NpZWfi"
      },
      "execution_count": null,
      "outputs": []
    },
    {
      "cell_type": "code",
      "source": [
        "print(f'Max iterations: {max_iter}, Accuracy: {svc_model.score(X_test_tf, y_test)}')"
      ],
      "metadata": {
        "colab": {
          "base_uri": "https://localhost:8080/"
        },
        "id": "gbRbymbe2P-o",
        "outputId": "c1821e90-0613-4ca6-fb19-847d07817d20"
      },
      "execution_count": null,
      "outputs": [
        {
          "output_type": "stream",
          "name": "stdout",
          "text": [
            "Max iterations: 20, Accuracy: 0.7401634192331866\n"
          ]
        }
      ]
    },
    {
      "cell_type": "markdown",
      "source": [
        "Compared to the one-hot encoded version with accuracy 77%, linear SVC performs slightly worse in the current dataset."
      ],
      "metadata": {
        "id": "IsmzgQwWccz9"
      }
    },
    {
      "cell_type": "markdown",
      "source": [
        "## Support Vector Classifier"
      ],
      "metadata": {
        "id": "O4n93i_K5Xox"
      }
    },
    {
      "cell_type": "markdown",
      "source": [
        "As linear SVC uses one-vs-rest in multiclass support, we will try to use the generalised SVC that uses one-vs-one."
      ],
      "metadata": {
        "id": "HLpj4dsLe-1j"
      }
    },
    {
      "cell_type": "code",
      "source": [
        "max_iter=3800\n",
        "svc_model = SVC(kernel='rbf',\n",
        "                max_iter=max_iter)"
      ],
      "metadata": {
        "id": "QznGtf6P5bFc"
      },
      "execution_count": null,
      "outputs": []
    },
    {
      "cell_type": "code",
      "source": [
        "svc_model.fit(scaledDF, y_train)"
      ],
      "metadata": {
        "colab": {
          "base_uri": "https://localhost:8080/"
        },
        "id": "8wfbAtP-50UK",
        "outputId": "a716d053-8b75-4691-dcaa-0883e280bb71"
      },
      "execution_count": null,
      "outputs": [
        {
          "output_type": "execute_result",
          "data": {
            "text/plain": [
              "SVC(max_iter=3800)"
            ]
          },
          "metadata": {},
          "execution_count": 13
        }
      ]
    },
    {
      "cell_type": "code",
      "source": [
        "print(\"Score: \", svc_model.score(scaledDF, y_train))"
      ],
      "metadata": {
        "colab": {
          "base_uri": "https://localhost:8080/"
        },
        "id": "mfLe_ATm6D5j",
        "outputId": "73506899-dfd2-441a-ed4c-6c125d960dcc"
      },
      "execution_count": null,
      "outputs": [
        {
          "output_type": "stream",
          "name": "stdout",
          "text": [
            "Score:  0.7795342405481002\n"
          ]
        }
      ]
    },
    {
      "cell_type": "code",
      "source": [
        "X_test_tf = scaler.transform(X_test)\n",
        "X_test_tf = pd.DataFrame(scaler.transform(X_test), columns=cuisineTypes)"
      ],
      "metadata": {
        "id": "fKvg3eXEZyfp"
      },
      "execution_count": null,
      "outputs": []
    },
    {
      "cell_type": "code",
      "source": [
        "print(f'Max iterations: {max_iter}, Accuracy: {svc_model.score(X_test_tf, y_test)}')"
      ],
      "metadata": {
        "colab": {
          "base_uri": "https://localhost:8080/"
        },
        "id": "nDz-qwUI677C",
        "outputId": "2e427407-403c-4659-a6e3-ee2ab82e5413"
      },
      "execution_count": null,
      "outputs": [
        {
          "output_type": "stream",
          "name": "stdout",
          "text": [
            "Max iterations: 3800, Accuracy: 0.7553739786297926\n"
          ]
        }
      ]
    },
    {
      "cell_type": "markdown",
      "source": [
        "Even though the accuracy has improved slightly compared to linear SVC, it still lacks behind the linear SVC on one-hot encoded data."
      ],
      "metadata": {
        "id": "7sU26KM-fenN"
      }
    },
    {
      "cell_type": "markdown",
      "source": [
        "## Cross Validation"
      ],
      "metadata": {
        "id": "42udmI6EXvgQ"
      }
    },
    {
      "cell_type": "code",
      "source": [
        "X_validation, X_test, y_validation, y_test = train_test_split(finalDF.drop(['cuisine'], axis = 1), \n",
        "                                                              finalDF['cuisine'], \n",
        "                                                              train_size = 0.5, \n",
        "                                                              random_state = 42)"
      ],
      "metadata": {
        "id": "srYRhTE2S_DM"
      },
      "execution_count": null,
      "outputs": []
    },
    {
      "cell_type": "code",
      "source": [
        "scaler = MinMaxScaler()\n",
        "scaledData = scaler.fit_transform(X_validation)\n",
        "scaledDF = pd.DataFrame(scaledData, columns=cuisineTypes)"
      ],
      "metadata": {
        "id": "_KkQ7jwiZ-Lx"
      },
      "execution_count": null,
      "outputs": []
    },
    {
      "cell_type": "code",
      "source": [
        "scores = cross_validate(svc_model, scaledDF, y_validation, cv=5,\n",
        "                        scoring='accuracy',\n",
        "                        return_estimator=True)"
      ],
      "metadata": {
        "id": "jN0TyDp_SUVh"
      },
      "execution_count": null,
      "outputs": []
    },
    {
      "cell_type": "code",
      "source": [
        "print(scores['test_score'])"
      ],
      "metadata": {
        "colab": {
          "base_uri": "https://localhost:8080/"
        },
        "id": "-i7bJ1bjTOS-",
        "outputId": "53470bae-7e8c-47b0-ee8d-e286b87ee582"
      },
      "execution_count": null,
      "outputs": [
        {
          "output_type": "stream",
          "name": "stdout",
          "text": [
            "[0.75666164 0.75238813 0.75810913 0.74955997 0.75836057]\n"
          ]
        }
      ]
    },
    {
      "cell_type": "markdown",
      "source": [
        "Clearly, SVC does not perform better on the engineered dataset."
      ],
      "metadata": {
        "id": "oDibbJxagJjL"
      }
    }
  ]
}