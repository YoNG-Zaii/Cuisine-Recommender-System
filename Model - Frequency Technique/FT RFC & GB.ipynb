{
  "nbformat": 4,
  "nbformat_minor": 0,
  "metadata": {
    "colab": {
      "provenance": []
    },
    "kernelspec": {
      "name": "python3",
      "display_name": "Python 3"
    },
    "language_info": {
      "name": "python"
    }
  },
  "cells": [
    {
      "cell_type": "markdown",
      "source": [
        "## Random Forest Classifier & Gradient Boosting (Number of Ingredients by Cuisine Types)"
      ],
      "metadata": {
        "id": "3Mm-fc9CRBjj"
      }
    },
    {
      "cell_type": "markdown",
      "source": [
        "This notebook requires:\n",
        "* trainEngineered.csv"
      ],
      "metadata": {
        "id": "fct5EXFRRTZb"
      }
    },
    {
      "cell_type": "code",
      "execution_count": null,
      "metadata": {
        "id": "JgFGv6R7cM0s"
      },
      "outputs": [],
      "source": [
        "import numpy as np \n",
        "import pandas as pd\n",
        "import matplotlib.pyplot as plt\n",
        "from sklearn.model_selection import train_test_split, cross_val_score, cross_validate\n",
        "from sklearn.ensemble import RandomForestClassifier, GradientBoostingClassifier\n",
        "from sklearn.metrics import classification_report"
      ]
    },
    {
      "cell_type": "code",
      "source": [
        "finalDF = pd.read_csv('trainEngineered.csv')\n",
        "finalDF.head()"
      ],
      "metadata": {
        "id": "4Lb4xcLM1BWI",
        "colab": {
          "base_uri": "https://localhost:8080/",
          "height": 299
        },
        "outputId": "22cad463-3736-4040-ce6d-0ee426a3e34b"
      },
      "execution_count": null,
      "outputs": [
        {
          "output_type": "execute_result",
          "data": {
            "text/plain": [
              "   greek  southern_us  filipino  indian  jamaican  spanish  italian  mexican  \\\n",
              "0      6            1         0       2         0        0        6        7   \n",
              "1      0            5         0       1         3        0        2        1   \n",
              "2      0            0         1       2         0        0        1        3   \n",
              "3      0            0         0       0         0        0        2        0   \n",
              "4      1            3         0      14         2        2        3        5   \n",
              "\n",
              "   chinese  british  ...  cajun_creole  brazilian  french  japanese  irish  \\\n",
              "0        1        0  ...             1          0       3         0      0   \n",
              "1        1        2  ...             2          0       1         1      1   \n",
              "2        1        0  ...             1          0       2         1      0   \n",
              "3        0        0  ...             0          0       0         0      0   \n",
              "4        5        1  ...             3          1       1         6      0   \n",
              "\n",
              "   korean  moroccan  russian  general      cuisine  \n",
              "0       0         1        0        8        greek  \n",
              "1       0         0        0       14  southern_us  \n",
              "2       1         0        0       18     filipino  \n",
              "3       0         0        0        6       indian  \n",
              "4       1         3        0       22       indian  \n",
              "\n",
              "[5 rows x 22 columns]"
            ],
            "text/html": [
              "\n",
              "  <div id=\"df-2b14611b-6d70-4b20-a2d8-41c830adea79\">\n",
              "    <div class=\"colab-df-container\">\n",
              "      <div>\n",
              "<style scoped>\n",
              "    .dataframe tbody tr th:only-of-type {\n",
              "        vertical-align: middle;\n",
              "    }\n",
              "\n",
              "    .dataframe tbody tr th {\n",
              "        vertical-align: top;\n",
              "    }\n",
              "\n",
              "    .dataframe thead th {\n",
              "        text-align: right;\n",
              "    }\n",
              "</style>\n",
              "<table border=\"1\" class=\"dataframe\">\n",
              "  <thead>\n",
              "    <tr style=\"text-align: right;\">\n",
              "      <th></th>\n",
              "      <th>greek</th>\n",
              "      <th>southern_us</th>\n",
              "      <th>filipino</th>\n",
              "      <th>indian</th>\n",
              "      <th>jamaican</th>\n",
              "      <th>spanish</th>\n",
              "      <th>italian</th>\n",
              "      <th>mexican</th>\n",
              "      <th>chinese</th>\n",
              "      <th>british</th>\n",
              "      <th>...</th>\n",
              "      <th>cajun_creole</th>\n",
              "      <th>brazilian</th>\n",
              "      <th>french</th>\n",
              "      <th>japanese</th>\n",
              "      <th>irish</th>\n",
              "      <th>korean</th>\n",
              "      <th>moroccan</th>\n",
              "      <th>russian</th>\n",
              "      <th>general</th>\n",
              "      <th>cuisine</th>\n",
              "    </tr>\n",
              "  </thead>\n",
              "  <tbody>\n",
              "    <tr>\n",
              "      <th>0</th>\n",
              "      <td>6</td>\n",
              "      <td>1</td>\n",
              "      <td>0</td>\n",
              "      <td>2</td>\n",
              "      <td>0</td>\n",
              "      <td>0</td>\n",
              "      <td>6</td>\n",
              "      <td>7</td>\n",
              "      <td>1</td>\n",
              "      <td>0</td>\n",
              "      <td>...</td>\n",
              "      <td>1</td>\n",
              "      <td>0</td>\n",
              "      <td>3</td>\n",
              "      <td>0</td>\n",
              "      <td>0</td>\n",
              "      <td>0</td>\n",
              "      <td>1</td>\n",
              "      <td>0</td>\n",
              "      <td>8</td>\n",
              "      <td>greek</td>\n",
              "    </tr>\n",
              "    <tr>\n",
              "      <th>1</th>\n",
              "      <td>0</td>\n",
              "      <td>5</td>\n",
              "      <td>0</td>\n",
              "      <td>1</td>\n",
              "      <td>3</td>\n",
              "      <td>0</td>\n",
              "      <td>2</td>\n",
              "      <td>1</td>\n",
              "      <td>1</td>\n",
              "      <td>2</td>\n",
              "      <td>...</td>\n",
              "      <td>2</td>\n",
              "      <td>0</td>\n",
              "      <td>1</td>\n",
              "      <td>1</td>\n",
              "      <td>1</td>\n",
              "      <td>0</td>\n",
              "      <td>0</td>\n",
              "      <td>0</td>\n",
              "      <td>14</td>\n",
              "      <td>southern_us</td>\n",
              "    </tr>\n",
              "    <tr>\n",
              "      <th>2</th>\n",
              "      <td>0</td>\n",
              "      <td>0</td>\n",
              "      <td>1</td>\n",
              "      <td>2</td>\n",
              "      <td>0</td>\n",
              "      <td>0</td>\n",
              "      <td>1</td>\n",
              "      <td>3</td>\n",
              "      <td>1</td>\n",
              "      <td>0</td>\n",
              "      <td>...</td>\n",
              "      <td>1</td>\n",
              "      <td>0</td>\n",
              "      <td>2</td>\n",
              "      <td>1</td>\n",
              "      <td>0</td>\n",
              "      <td>1</td>\n",
              "      <td>0</td>\n",
              "      <td>0</td>\n",
              "      <td>18</td>\n",
              "      <td>filipino</td>\n",
              "    </tr>\n",
              "    <tr>\n",
              "      <th>3</th>\n",
              "      <td>0</td>\n",
              "      <td>0</td>\n",
              "      <td>0</td>\n",
              "      <td>0</td>\n",
              "      <td>0</td>\n",
              "      <td>0</td>\n",
              "      <td>2</td>\n",
              "      <td>0</td>\n",
              "      <td>0</td>\n",
              "      <td>0</td>\n",
              "      <td>...</td>\n",
              "      <td>0</td>\n",
              "      <td>0</td>\n",
              "      <td>0</td>\n",
              "      <td>0</td>\n",
              "      <td>0</td>\n",
              "      <td>0</td>\n",
              "      <td>0</td>\n",
              "      <td>0</td>\n",
              "      <td>6</td>\n",
              "      <td>indian</td>\n",
              "    </tr>\n",
              "    <tr>\n",
              "      <th>4</th>\n",
              "      <td>1</td>\n",
              "      <td>3</td>\n",
              "      <td>0</td>\n",
              "      <td>14</td>\n",
              "      <td>2</td>\n",
              "      <td>2</td>\n",
              "      <td>3</td>\n",
              "      <td>5</td>\n",
              "      <td>5</td>\n",
              "      <td>1</td>\n",
              "      <td>...</td>\n",
              "      <td>3</td>\n",
              "      <td>1</td>\n",
              "      <td>1</td>\n",
              "      <td>6</td>\n",
              "      <td>0</td>\n",
              "      <td>1</td>\n",
              "      <td>3</td>\n",
              "      <td>0</td>\n",
              "      <td>22</td>\n",
              "      <td>indian</td>\n",
              "    </tr>\n",
              "  </tbody>\n",
              "</table>\n",
              "<p>5 rows × 22 columns</p>\n",
              "</div>\n",
              "      <button class=\"colab-df-convert\" onclick=\"convertToInteractive('df-2b14611b-6d70-4b20-a2d8-41c830adea79')\"\n",
              "              title=\"Convert this dataframe to an interactive table.\"\n",
              "              style=\"display:none;\">\n",
              "        \n",
              "  <svg xmlns=\"http://www.w3.org/2000/svg\" height=\"24px\"viewBox=\"0 0 24 24\"\n",
              "       width=\"24px\">\n",
              "    <path d=\"M0 0h24v24H0V0z\" fill=\"none\"/>\n",
              "    <path d=\"M18.56 5.44l.94 2.06.94-2.06 2.06-.94-2.06-.94-.94-2.06-.94 2.06-2.06.94zm-11 1L8.5 8.5l.94-2.06 2.06-.94-2.06-.94L8.5 2.5l-.94 2.06-2.06.94zm10 10l.94 2.06.94-2.06 2.06-.94-2.06-.94-.94-2.06-.94 2.06-2.06.94z\"/><path d=\"M17.41 7.96l-1.37-1.37c-.4-.4-.92-.59-1.43-.59-.52 0-1.04.2-1.43.59L10.3 9.45l-7.72 7.72c-.78.78-.78 2.05 0 2.83L4 21.41c.39.39.9.59 1.41.59.51 0 1.02-.2 1.41-.59l7.78-7.78 2.81-2.81c.8-.78.8-2.07 0-2.86zM5.41 20L4 18.59l7.72-7.72 1.47 1.35L5.41 20z\"/>\n",
              "  </svg>\n",
              "      </button>\n",
              "      \n",
              "  <style>\n",
              "    .colab-df-container {\n",
              "      display:flex;\n",
              "      flex-wrap:wrap;\n",
              "      gap: 12px;\n",
              "    }\n",
              "\n",
              "    .colab-df-convert {\n",
              "      background-color: #E8F0FE;\n",
              "      border: none;\n",
              "      border-radius: 50%;\n",
              "      cursor: pointer;\n",
              "      display: none;\n",
              "      fill: #1967D2;\n",
              "      height: 32px;\n",
              "      padding: 0 0 0 0;\n",
              "      width: 32px;\n",
              "    }\n",
              "\n",
              "    .colab-df-convert:hover {\n",
              "      background-color: #E2EBFA;\n",
              "      box-shadow: 0px 1px 2px rgba(60, 64, 67, 0.3), 0px 1px 3px 1px rgba(60, 64, 67, 0.15);\n",
              "      fill: #174EA6;\n",
              "    }\n",
              "\n",
              "    [theme=dark] .colab-df-convert {\n",
              "      background-color: #3B4455;\n",
              "      fill: #D2E3FC;\n",
              "    }\n",
              "\n",
              "    [theme=dark] .colab-df-convert:hover {\n",
              "      background-color: #434B5C;\n",
              "      box-shadow: 0px 1px 3px 1px rgba(0, 0, 0, 0.15);\n",
              "      filter: drop-shadow(0px 1px 2px rgba(0, 0, 0, 0.3));\n",
              "      fill: #FFFFFF;\n",
              "    }\n",
              "  </style>\n",
              "\n",
              "      <script>\n",
              "        const buttonEl =\n",
              "          document.querySelector('#df-2b14611b-6d70-4b20-a2d8-41c830adea79 button.colab-df-convert');\n",
              "        buttonEl.style.display =\n",
              "          google.colab.kernel.accessAllowed ? 'block' : 'none';\n",
              "\n",
              "        async function convertToInteractive(key) {\n",
              "          const element = document.querySelector('#df-2b14611b-6d70-4b20-a2d8-41c830adea79');\n",
              "          const dataTable =\n",
              "            await google.colab.kernel.invokeFunction('convertToInteractive',\n",
              "                                                     [key], {});\n",
              "          if (!dataTable) return;\n",
              "\n",
              "          const docLinkHtml = 'Like what you see? Visit the ' +\n",
              "            '<a target=\"_blank\" href=https://colab.research.google.com/notebooks/data_table.ipynb>data table notebook</a>'\n",
              "            + ' to learn more about interactive tables.';\n",
              "          element.innerHTML = '';\n",
              "          dataTable['output_type'] = 'display_data';\n",
              "          await google.colab.output.renderOutput(dataTable, element);\n",
              "          const docLink = document.createElement('div');\n",
              "          docLink.innerHTML = docLinkHtml;\n",
              "          element.appendChild(docLink);\n",
              "        }\n",
              "      </script>\n",
              "    </div>\n",
              "  </div>\n",
              "  "
            ]
          },
          "metadata": {},
          "execution_count": 2
        }
      ]
    },
    {
      "cell_type": "markdown",
      "source": [
        "### Split into Train and Test"
      ],
      "metadata": {
        "id": "FpJI-Pf5kRbl"
      }
    },
    {
      "cell_type": "code",
      "source": [
        "X_train, X_test, y_train, y_test = train_test_split(finalDF.drop(['cuisine'], axis = 1), \n",
        "                                                    finalDF['cuisine'], \n",
        "                                                    train_size = 0.8, \n",
        "                                                    random_state = 10)"
      ],
      "metadata": {
        "id": "cwP2tYoskn8M"
      },
      "execution_count": null,
      "outputs": []
    },
    {
      "cell_type": "markdown",
      "source": [
        "## Random Forest Classifier"
      ],
      "metadata": {
        "id": "X656aYqsMCbi"
      }
    },
    {
      "cell_type": "markdown",
      "source": [
        "Here, we train the model with 3 different number of trees, namely, 250, 300, and 350."
      ],
      "metadata": {
        "id": "Hs7In1xITCSm"
      }
    },
    {
      "cell_type": "code",
      "source": [
        "for n_trees in [250, 300, 350]:\n",
        "  rf_model = RandomForestClassifier(n_estimators=n_trees, \n",
        "                                    max_features=10, \n",
        "                                    n_jobs=-1,\n",
        "                                    bootstrap=True, \n",
        "                                    oob_score=True, \n",
        "                                    criterion='gini',\n",
        "                                    max_samples=20000)\n",
        "  rf_model.fit(X_train, y_train)\n",
        "  print(f'Number of trees: {n_trees}, Accuracy: {rf_model.score(X_test, y_test)}')"
      ],
      "metadata": {
        "colab": {
          "base_uri": "https://localhost:8080/"
        },
        "id": "G55N1e6zk46N",
        "outputId": "e8fd5731-f982-4a50-84b9-78c79685f40e"
      },
      "execution_count": null,
      "outputs": [
        {
          "output_type": "stream",
          "name": "stdout",
          "text": [
            "Number of trees: 250, Accuracy: 0.7423004399748586\n",
            "Number of trees: 300, Accuracy: 0.7436832181018228\n",
            "Number of trees: 350, Accuracy: 0.7435575109993715\n"
          ]
        }
      ]
    },
    {
      "cell_type": "markdown",
      "source": [
        "We can see that the at 300 trees, the accuracy on the test set is the highest. Even though the accuracy remains around the same as that of one-hot encoding version, we have successfully reduced the size of the dataset and increased the speed of training."
      ],
      "metadata": {
        "id": "Kkw3UuVyTODT"
      }
    },
    {
      "cell_type": "markdown",
      "source": [
        "Can we do better? Let's try another famous ensemble model called gradient boosting."
      ],
      "metadata": {
        "id": "a0t3eIWxUwMM"
      }
    },
    {
      "cell_type": "markdown",
      "source": [
        "## Gradient Boosting"
      ],
      "metadata": {
        "id": "oFcXArEFMw1C"
      }
    },
    {
      "cell_type": "code",
      "source": [
        "for n_iter in [200]:\n",
        "  gb_model = GradientBoostingClassifier(n_estimators=n_iter,\n",
        "                                        learning_rate=0.1, \n",
        "                                        max_depth=4)\n",
        "  gb_model.fit(X_train, y_train)\n",
        "  print(f'Number of trees: {n_iter}, Accuracy: {gb_model.score(X_test, y_test)}')"
      ],
      "metadata": {
        "colab": {
          "base_uri": "https://localhost:8080/"
        },
        "id": "uxYoJpsEMy57",
        "outputId": "e5bebb8a-5b00-448d-958a-0d343323ac86"
      },
      "execution_count": null,
      "outputs": [
        {
          "output_type": "stream",
          "name": "stdout",
          "text": [
            "Number of trees: 200, Accuracy: 0.7536140791954745\n"
          ]
        }
      ]
    },
    {
      "cell_type": "markdown",
      "source": [
        "We can see the accuracy on the test set only increases very slightly from 74% in random forest to 75% in gradient boosting. Let's use cross validation on smaller dataset to find out the best range of train set."
      ],
      "metadata": {
        "id": "D34AKdnRXRAr"
      }
    },
    {
      "cell_type": "markdown",
      "source": [
        "## Cross Validation"
      ],
      "metadata": {
        "id": "42udmI6EXvgQ"
      }
    },
    {
      "cell_type": "markdown",
      "source": [
        "We can perform 5-fold cross validation on the dataset to check whether there is any improvement in accuracy. Since it is a validation set, the size will be smaller than the original train set. In this case, we use 50% of the original dataset."
      ],
      "metadata": {
        "id": "3RHckuyuSCrr"
      }
    },
    {
      "cell_type": "code",
      "source": [
        "X_validation, X_test, y_validation, y_test = train_test_split(finalDF.drop(['cuisine'], axis = 1), \n",
        "                                                    finalDF['cuisine'], \n",
        "                                                    train_size = 0.5, \n",
        "                                                    random_state = 42)"
      ],
      "metadata": {
        "id": "srYRhTE2S_DM"
      },
      "execution_count": null,
      "outputs": []
    },
    {
      "cell_type": "code",
      "source": [
        "rf_model = RandomForestClassifier(n_estimators=300, \n",
        "                                  max_features=10, \n",
        "                                  oob_score=True,\n",
        "                                  n_jobs=-1,\n",
        "                                  bootstrap=True,  \n",
        "                                  criterion='gini')"
      ],
      "metadata": {
        "id": "QuF1GZAUS0zx"
      },
      "execution_count": null,
      "outputs": []
    },
    {
      "cell_type": "code",
      "source": [
        "scores = cross_validate(rf_model, X_validation, y_validation, cv=5,\n",
        "                        scoring='accuracy',\n",
        "                        return_estimator=True)"
      ],
      "metadata": {
        "id": "jN0TyDp_SUVh"
      },
      "execution_count": null,
      "outputs": []
    },
    {
      "cell_type": "code",
      "source": [
        "print(scores['test_score'])"
      ],
      "metadata": {
        "colab": {
          "base_uri": "https://localhost:8080/"
        },
        "id": "-i7bJ1bjTOS-",
        "outputId": "c518036d-b572-42f2-aaf2-9fae914eb754"
      },
      "execution_count": null,
      "outputs": [
        {
          "output_type": "stream",
          "name": "stdout",
          "text": [
            "[0.73906486 0.72272499 0.73095298 0.72114659 0.72416394]\n"
          ]
        }
      ]
    },
    {
      "cell_type": "markdown",
      "source": [
        "The random forest classifier's accuracy of validation set remains between 72% and 74%."
      ],
      "metadata": {
        "id": "T5GIInKJY2Dp"
      }
    },
    {
      "cell_type": "code",
      "source": [
        "gb_model = GradientBoostingClassifier(n_estimators=200,\n",
        "                                      learning_rate=0.1, \n",
        "                                      max_depth=3)"
      ],
      "metadata": {
        "id": "RwBF3XTYV3Wy"
      },
      "execution_count": null,
      "outputs": []
    },
    {
      "cell_type": "code",
      "source": [
        "scores = cross_validate(gb_model, X_validation, y_validation, cv=5,\n",
        "                        scoring='accuracy',\n",
        "                        return_estimator=True)"
      ],
      "metadata": {
        "id": "qDLgPWLRV4f3"
      },
      "execution_count": null,
      "outputs": []
    },
    {
      "cell_type": "code",
      "source": [
        "print(scores['test_score'])"
      ],
      "metadata": {
        "colab": {
          "base_uri": "https://localhost:8080/"
        },
        "id": "ts7FANMzV795",
        "outputId": "cf7581ec-5aa7-4e58-e607-9748e0b0657e"
      },
      "execution_count": null,
      "outputs": [
        {
          "output_type": "stream",
          "name": "stdout",
          "text": [
            "[0.74509804 0.73353444 0.74226804 0.73899925 0.74352527]\n"
          ]
        }
      ]
    },
    {
      "cell_type": "markdown",
      "source": [
        "The gradient boosting method performs slightly better than random forest on average. However, its accuracy also remains between 73% and 75%."
      ],
      "metadata": {
        "id": "p5PiLVEAb0UP"
      }
    }
  ]
}